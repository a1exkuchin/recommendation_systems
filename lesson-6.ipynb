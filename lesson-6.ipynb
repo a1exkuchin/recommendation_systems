{
 "cells": [
  {
   "cell_type": "code",
   "execution_count": 1,
   "metadata": {},
   "outputs": [],
   "source": [
    "import warnings\n",
    "warnings.filterwarnings('ignore')\n",
    "\n",
    "import pandas as pd\n",
    "import numpy as np\n",
    "import matplotlib.pyplot as plt\n",
    "%matplotlib inline\n",
    "\n",
    "# Для работы с матрицами\n",
    "from scipy.sparse import csr_matrix\n",
    "\n",
    "# Матричная факторизация\n",
    "from implicit import als\n",
    "\n",
    "# Модель второго уровня\n",
    "from lightgbm import LGBMClassifier"
   ]
  },
  {
   "cell_type": "code",
   "execution_count": 2,
   "metadata": {},
   "outputs": [],
   "source": [
    "import os, sys\n",
    "module_path = os.path.abspath(os.path.join(os.pardir))\n",
    "if module_path not in sys.path:\n",
    "    sys.path.append(module_path)\n",
    "\n",
    "# Импортируем функции из src\n",
    "from src.metrics import precision_at_k, recall_at_k\n",
    "from src.utils import prefilter_items, features_generation\n",
    "from src.recommenders import MainRecommender"
   ]
  },
  {
   "cell_type": "code",
   "execution_count": 3,
   "metadata": {},
   "outputs": [
    {
     "data": {
      "text/html": [
       "<div>\n",
       "<style scoped>\n",
       "    .dataframe tbody tr th:only-of-type {\n",
       "        vertical-align: middle;\n",
       "    }\n",
       "\n",
       "    .dataframe tbody tr th {\n",
       "        vertical-align: top;\n",
       "    }\n",
       "\n",
       "    .dataframe thead th {\n",
       "        text-align: right;\n",
       "    }\n",
       "</style>\n",
       "<table border=\"1\" class=\"dataframe\">\n",
       "  <thead>\n",
       "    <tr style=\"text-align: right;\">\n",
       "      <th></th>\n",
       "      <th>user_id</th>\n",
       "      <th>basket_id</th>\n",
       "      <th>day</th>\n",
       "      <th>item_id</th>\n",
       "      <th>quantity</th>\n",
       "      <th>sales_value</th>\n",
       "      <th>store_id</th>\n",
       "      <th>retail_disc</th>\n",
       "      <th>trans_time</th>\n",
       "      <th>week_no</th>\n",
       "      <th>coupon_disc</th>\n",
       "      <th>coupon_match_disc</th>\n",
       "    </tr>\n",
       "  </thead>\n",
       "  <tbody>\n",
       "    <tr>\n",
       "      <th>2277416</th>\n",
       "      <td>338</td>\n",
       "      <td>41260573635</td>\n",
       "      <td>636</td>\n",
       "      <td>840173</td>\n",
       "      <td>1</td>\n",
       "      <td>1.99</td>\n",
       "      <td>369</td>\n",
       "      <td>0.0</td>\n",
       "      <td>112</td>\n",
       "      <td>92</td>\n",
       "      <td>0.0</td>\n",
       "      <td>0.0</td>\n",
       "    </tr>\n",
       "    <tr>\n",
       "      <th>2277417</th>\n",
       "      <td>338</td>\n",
       "      <td>41260573635</td>\n",
       "      <td>636</td>\n",
       "      <td>1037348</td>\n",
       "      <td>1</td>\n",
       "      <td>0.89</td>\n",
       "      <td>369</td>\n",
       "      <td>-0.3</td>\n",
       "      <td>112</td>\n",
       "      <td>92</td>\n",
       "      <td>0.0</td>\n",
       "      <td>0.0</td>\n",
       "    </tr>\n",
       "  </tbody>\n",
       "</table>\n",
       "</div>"
      ],
      "text/plain": [
       "         user_id    basket_id  day  item_id  quantity  sales_value  store_id  \\\n",
       "2277416      338  41260573635  636   840173         1         1.99       369   \n",
       "2277417      338  41260573635  636  1037348         1         0.89       369   \n",
       "\n",
       "         retail_disc  trans_time  week_no  coupon_disc  coupon_match_disc  \n",
       "2277416          0.0         112       92          0.0                0.0  \n",
       "2277417         -0.3         112       92          0.0                0.0  "
      ]
     },
     "execution_count": 3,
     "metadata": {},
     "output_type": "execute_result"
    }
   ],
   "source": [
    "data = pd.read_csv('retail_train.csv')\n",
    "item_features = pd.read_csv('product.csv')\n",
    "user_features = pd.read_csv('hh_demographic.csv')\n",
    "\n",
    "# column processing\n",
    "item_features.columns = [col.lower() for col in item_features.columns]\n",
    "user_features.columns = [col.lower() for col in user_features.columns]\n",
    "\n",
    "item_features.rename(columns={'product_id': 'item_id'}, inplace=True)\n",
    "user_features.rename(columns={'household_key': 'user_id'}, inplace=True)\n",
    "\n",
    "\n",
    "# Важна схема обучения и валидации!\n",
    "# -- давние покупки -- | -- 6 недель -- | -- 3 недель -- \n",
    "# подобрать размер 2-ого датасета (6 недель) --> learning curve (зависимость метрики recall@k от размера датасета)\n",
    "val_lvl_1_size_weeks = 6\n",
    "val_lvl_2_size_weeks = 3\n",
    "\n",
    "data_train_lvl_1 = data[data['week_no'] < data['week_no'].max() - (val_lvl_1_size_weeks + val_lvl_2_size_weeks)]\n",
    "data_val_lvl_1 = data[(data['week_no'] >= data['week_no'].max() - (val_lvl_1_size_weeks + val_lvl_2_size_weeks)) &\n",
    "                      (data['week_no'] < data['week_no'].max() - (val_lvl_2_size_weeks))]\n",
    "\n",
    "data_train_lvl_2 = data_val_lvl_1.copy()  # Для наглядности. Далее мы добавим изменения, и они будут отличаться\n",
    "data_val_lvl_2 = data[data['week_no'] >= data['week_no'].max() - val_lvl_2_size_weeks]\n",
    "\n",
    "data_val_lvl_2.head(2)"
   ]
  },
  {
   "cell_type": "code",
   "execution_count": 4,
   "metadata": {},
   "outputs": [
    {
     "name": "stdout",
     "output_type": "stream",
     "text": [
      "Decreased # items from 83685 to 5001\n"
     ]
    }
   ],
   "source": [
    "n_items_before = data_train_lvl_1['item_id'].nunique()\n",
    "\n",
    "data_train_lvl_1 = prefilter_items(data_train_lvl_1, item_features=item_features, take_n_popular=5000)\n",
    "\n",
    "n_items_after = data_train_lvl_1['item_id'].nunique()\n",
    "print('Decreased # items from {} to {}'.format(n_items_before, n_items_after))"
   ]
  },
  {
   "cell_type": "code",
   "execution_count": 5,
   "metadata": {},
   "outputs": [
    {
     "name": "stderr",
     "output_type": "stream",
     "text": [
      "WARNING:root:Intel MKL BLAS detected. Its highly recommend to set the environment variable 'export MKL_NUM_THREADS=1' to disable its internal multithreading\n"
     ]
    },
    {
     "data": {
      "application/vnd.jupyter.widget-view+json": {
       "model_id": "846b45ebc9cf4dca8b35f3d2881b3b33",
       "version_major": 2,
       "version_minor": 0
      },
      "text/plain": [
       "HBox(children=(HTML(value=''), FloatProgress(value=0.0, max=15.0), HTML(value='')))"
      ]
     },
     "metadata": {},
     "output_type": "display_data"
    },
    {
     "name": "stdout",
     "output_type": "stream",
     "text": [
      "\n"
     ]
    },
    {
     "data": {
      "application/vnd.jupyter.widget-view+json": {
       "model_id": "bfbc3127b2594b62b1052468f61ed0b3",
       "version_major": 2,
       "version_minor": 0
      },
      "text/plain": [
       "HBox(children=(HTML(value=''), FloatProgress(value=0.0, max=5001.0), HTML(value='')))"
      ]
     },
     "metadata": {},
     "output_type": "display_data"
    },
    {
     "name": "stdout",
     "output_type": "stream",
     "text": [
      "\n"
     ]
    }
   ],
   "source": [
    "recommender = MainRecommender(data_train_lvl_1)"
   ]
  },
  {
   "cell_type": "markdown",
   "metadata": {},
   "source": [
    "### Задание 1\n",
    "\n",
    "A) Попробуйте различные варианты генерации кандидатов. Какие из них дают наибольший recall@k ?\n",
    "- Пока пробуем отобрать 50 кандидатов (k=50)\n",
    "- Качество измеряем на data_val_lvl_1: следующие 6 недель после трейна\n",
    "\n",
    "Дают ли own recommendtions + top-popular лучший recall?  \n",
    "\n",
    "B)* Как зависит recall@k от k? Постройте для одной схемы генерации кандидатов эту зависимость для k = {20, 50, 100, 200, 500}  \n",
    "C)* Исходя из прошлого вопроса, как вы думаете, какое значение k является наиболее разумным?"
   ]
  },
  {
   "cell_type": "code",
   "execution_count": 6,
   "metadata": {},
   "outputs": [
    {
     "data": {
      "text/html": [
       "<div>\n",
       "<style scoped>\n",
       "    .dataframe tbody tr th:only-of-type {\n",
       "        vertical-align: middle;\n",
       "    }\n",
       "\n",
       "    .dataframe tbody tr th {\n",
       "        vertical-align: top;\n",
       "    }\n",
       "\n",
       "    .dataframe thead th {\n",
       "        text-align: right;\n",
       "    }\n",
       "</style>\n",
       "<table border=\"1\" class=\"dataframe\">\n",
       "  <thead>\n",
       "    <tr style=\"text-align: right;\">\n",
       "      <th></th>\n",
       "      <th>user_id</th>\n",
       "      <th>actual</th>\n",
       "    </tr>\n",
       "  </thead>\n",
       "  <tbody>\n",
       "    <tr>\n",
       "      <th>0</th>\n",
       "      <td>1</td>\n",
       "      <td>[853529, 865456, 867607, 872137, 874905, 87524...</td>\n",
       "    </tr>\n",
       "    <tr>\n",
       "      <th>1</th>\n",
       "      <td>2</td>\n",
       "      <td>[15830248, 838136, 839656, 861272, 866211, 870...</td>\n",
       "    </tr>\n",
       "  </tbody>\n",
       "</table>\n",
       "</div>"
      ],
      "text/plain": [
       "   user_id                                             actual\n",
       "0        1  [853529, 865456, 867607, 872137, 874905, 87524...\n",
       "1        2  [15830248, 838136, 839656, 861272, 866211, 870..."
      ]
     },
     "execution_count": 6,
     "metadata": {},
     "output_type": "execute_result"
    }
   ],
   "source": [
    "result_lvl_1 = data_val_lvl_1.groupby('user_id')['item_id'].unique().reset_index()\n",
    "result_lvl_1.columns=['user_id', 'actual']\n",
    "result_lvl_1.head(2)"
   ]
  },
  {
   "cell_type": "code",
   "execution_count": 7,
   "metadata": {},
   "outputs": [],
   "source": [
    "# генерируем 50 кандидатов, используя similar_items_recommendation\n",
    "result_lvl_1['similar_items'] = result_lvl_1['user_id'].apply(lambda x: recommender.get_similar_items_recommendation(x, N=50))"
   ]
  },
  {
   "cell_type": "code",
   "execution_count": 8,
   "metadata": {},
   "outputs": [
    {
     "data": {
      "text/html": [
       "<div>\n",
       "<style scoped>\n",
       "    .dataframe tbody tr th:only-of-type {\n",
       "        vertical-align: middle;\n",
       "    }\n",
       "\n",
       "    .dataframe tbody tr th {\n",
       "        vertical-align: top;\n",
       "    }\n",
       "\n",
       "    .dataframe thead th {\n",
       "        text-align: right;\n",
       "    }\n",
       "</style>\n",
       "<table border=\"1\" class=\"dataframe\">\n",
       "  <thead>\n",
       "    <tr style=\"text-align: right;\">\n",
       "      <th></th>\n",
       "      <th>user_id</th>\n",
       "      <th>actual</th>\n",
       "      <th>similar_items</th>\n",
       "    </tr>\n",
       "  </thead>\n",
       "  <tbody>\n",
       "    <tr>\n",
       "      <th>0</th>\n",
       "      <td>1</td>\n",
       "      <td>[853529, 865456, 867607, 872137, 874905, 87524...</td>\n",
       "      <td>[825665, 840890, 8119134, 1036852, 1061747, 98...</td>\n",
       "    </tr>\n",
       "    <tr>\n",
       "      <th>1</th>\n",
       "      <td>2</td>\n",
       "      <td>[15830248, 838136, 839656, 861272, 866211, 870...</td>\n",
       "      <td>[8090509, 5569845, 917816, 985999, 880888, 819...</td>\n",
       "    </tr>\n",
       "    <tr>\n",
       "      <th>2</th>\n",
       "      <td>4</td>\n",
       "      <td>[883932, 970760, 1035676, 1055863, 1097610, 67...</td>\n",
       "      <td>[944852, 7441210, 1011457, 892503, 995151, 100...</td>\n",
       "    </tr>\n",
       "    <tr>\n",
       "      <th>3</th>\n",
       "      <td>6</td>\n",
       "      <td>[1024306, 1102949, 6548453, 835394, 940804, 96...</td>\n",
       "      <td>[948650, 5569845, 890739, 941361, 983584, 1105...</td>\n",
       "    </tr>\n",
       "  </tbody>\n",
       "</table>\n",
       "</div>"
      ],
      "text/plain": [
       "   user_id                                             actual  \\\n",
       "0        1  [853529, 865456, 867607, 872137, 874905, 87524...   \n",
       "1        2  [15830248, 838136, 839656, 861272, 866211, 870...   \n",
       "2        4  [883932, 970760, 1035676, 1055863, 1097610, 67...   \n",
       "3        6  [1024306, 1102949, 6548453, 835394, 940804, 96...   \n",
       "\n",
       "                                       similar_items  \n",
       "0  [825665, 840890, 8119134, 1036852, 1061747, 98...  \n",
       "1  [8090509, 5569845, 917816, 985999, 880888, 819...  \n",
       "2  [944852, 7441210, 1011457, 892503, 995151, 100...  \n",
       "3  [948650, 5569845, 890739, 941361, 983584, 1105...  "
      ]
     },
     "execution_count": 8,
     "metadata": {},
     "output_type": "execute_result"
    }
   ],
   "source": [
    "result_lvl_1.head(4)"
   ]
  },
  {
   "cell_type": "code",
   "execution_count": 9,
   "metadata": {},
   "outputs": [],
   "source": [
    "# генерируем 50 кандидатов, используя als\n",
    "result_lvl_1['als'] = result_lvl_1['user_id'].apply(lambda x: recommender.get_als_recommendations(x, N=50))"
   ]
  },
  {
   "cell_type": "code",
   "execution_count": 10,
   "metadata": {},
   "outputs": [
    {
     "data": {
      "text/html": [
       "<div>\n",
       "<style scoped>\n",
       "    .dataframe tbody tr th:only-of-type {\n",
       "        vertical-align: middle;\n",
       "    }\n",
       "\n",
       "    .dataframe tbody tr th {\n",
       "        vertical-align: top;\n",
       "    }\n",
       "\n",
       "    .dataframe thead th {\n",
       "        text-align: right;\n",
       "    }\n",
       "</style>\n",
       "<table border=\"1\" class=\"dataframe\">\n",
       "  <thead>\n",
       "    <tr style=\"text-align: right;\">\n",
       "      <th></th>\n",
       "      <th>user_id</th>\n",
       "      <th>actual</th>\n",
       "      <th>similar_items</th>\n",
       "      <th>als</th>\n",
       "    </tr>\n",
       "  </thead>\n",
       "  <tbody>\n",
       "    <tr>\n",
       "      <th>0</th>\n",
       "      <td>1</td>\n",
       "      <td>[853529, 865456, 867607, 872137, 874905, 87524...</td>\n",
       "      <td>[825665, 840890, 8119134, 1036852, 1061747, 98...</td>\n",
       "      <td>[8090541, 5569374, 841584, 920200, 6533608, 80...</td>\n",
       "    </tr>\n",
       "    <tr>\n",
       "      <th>1</th>\n",
       "      <td>2</td>\n",
       "      <td>[15830248, 838136, 839656, 861272, 866211, 870...</td>\n",
       "      <td>[8090509, 5569845, 917816, 985999, 880888, 819...</td>\n",
       "      <td>[916122, 1127831, 826835, 1004906, 866211, 992...</td>\n",
       "    </tr>\n",
       "    <tr>\n",
       "      <th>2</th>\n",
       "      <td>4</td>\n",
       "      <td>[883932, 970760, 1035676, 1055863, 1097610, 67...</td>\n",
       "      <td>[944852, 7441210, 1011457, 892503, 995151, 100...</td>\n",
       "      <td>[1121367, 910032, 863885, 906524, 1037387, 853...</td>\n",
       "    </tr>\n",
       "    <tr>\n",
       "      <th>3</th>\n",
       "      <td>6</td>\n",
       "      <td>[1024306, 1102949, 6548453, 835394, 940804, 96...</td>\n",
       "      <td>[948650, 5569845, 890739, 941361, 983584, 1105...</td>\n",
       "      <td>[1084036, 819840, 951834, 1026118, 6979393, 74...</td>\n",
       "    </tr>\n",
       "  </tbody>\n",
       "</table>\n",
       "</div>"
      ],
      "text/plain": [
       "   user_id                                             actual  \\\n",
       "0        1  [853529, 865456, 867607, 872137, 874905, 87524...   \n",
       "1        2  [15830248, 838136, 839656, 861272, 866211, 870...   \n",
       "2        4  [883932, 970760, 1035676, 1055863, 1097610, 67...   \n",
       "3        6  [1024306, 1102949, 6548453, 835394, 940804, 96...   \n",
       "\n",
       "                                       similar_items  \\\n",
       "0  [825665, 840890, 8119134, 1036852, 1061747, 98...   \n",
       "1  [8090509, 5569845, 917816, 985999, 880888, 819...   \n",
       "2  [944852, 7441210, 1011457, 892503, 995151, 100...   \n",
       "3  [948650, 5569845, 890739, 941361, 983584, 1105...   \n",
       "\n",
       "                                                 als  \n",
       "0  [8090541, 5569374, 841584, 920200, 6533608, 80...  \n",
       "1  [916122, 1127831, 826835, 1004906, 866211, 992...  \n",
       "2  [1121367, 910032, 863885, 906524, 1037387, 853...  \n",
       "3  [1084036, 819840, 951834, 1026118, 6979393, 74...  "
      ]
     },
     "execution_count": 10,
     "metadata": {},
     "output_type": "execute_result"
    }
   ],
   "source": [
    "result_lvl_1.head(4)"
   ]
  },
  {
   "cell_type": "code",
   "execution_count": 11,
   "metadata": {},
   "outputs": [
    {
     "name": "stdout",
     "output_type": "stream",
     "text": [
      "Wall time: 6min 29s\n"
     ]
    }
   ],
   "source": [
    "%%time\n",
    "# генерируем 50 кандидатов, используя get_similar_users_recommendation\n",
    "result_lvl_1['similar_users'] = result_lvl_1['user_id'].apply(lambda x: recommender.get_similar_users_recommendation(x, N=50))"
   ]
  },
  {
   "cell_type": "code",
   "execution_count": 12,
   "metadata": {},
   "outputs": [
    {
     "data": {
      "text/html": [
       "<div>\n",
       "<style scoped>\n",
       "    .dataframe tbody tr th:only-of-type {\n",
       "        vertical-align: middle;\n",
       "    }\n",
       "\n",
       "    .dataframe tbody tr th {\n",
       "        vertical-align: top;\n",
       "    }\n",
       "\n",
       "    .dataframe thead th {\n",
       "        text-align: right;\n",
       "    }\n",
       "</style>\n",
       "<table border=\"1\" class=\"dataframe\">\n",
       "  <thead>\n",
       "    <tr style=\"text-align: right;\">\n",
       "      <th></th>\n",
       "      <th>user_id</th>\n",
       "      <th>actual</th>\n",
       "      <th>similar_items</th>\n",
       "      <th>als</th>\n",
       "      <th>similar_users</th>\n",
       "    </tr>\n",
       "  </thead>\n",
       "  <tbody>\n",
       "    <tr>\n",
       "      <th>0</th>\n",
       "      <td>1</td>\n",
       "      <td>[853529, 865456, 867607, 872137, 874905, 87524...</td>\n",
       "      <td>[825665, 840890, 8119134, 1036852, 1061747, 98...</td>\n",
       "      <td>[8090541, 5569374, 841584, 920200, 6533608, 80...</td>\n",
       "      <td>[9677462, 1076247, 5570974, 5570513, 1016785, ...</td>\n",
       "    </tr>\n",
       "    <tr>\n",
       "      <th>1</th>\n",
       "      <td>2</td>\n",
       "      <td>[15830248, 838136, 839656, 861272, 866211, 870...</td>\n",
       "      <td>[8090509, 5569845, 917816, 985999, 880888, 819...</td>\n",
       "      <td>[916122, 1127831, 826835, 1004906, 866211, 992...</td>\n",
       "      <td>[1098152, 1102250, 920528, 1062283, 1064752, 1...</td>\n",
       "    </tr>\n",
       "    <tr>\n",
       "      <th>2</th>\n",
       "      <td>4</td>\n",
       "      <td>[883932, 970760, 1035676, 1055863, 1097610, 67...</td>\n",
       "      <td>[944852, 7441210, 1011457, 892503, 995151, 100...</td>\n",
       "      <td>[1121367, 910032, 863885, 906524, 1037387, 853...</td>\n",
       "      <td>[944588, 905353, 1131384, 1021416, 871563, 825...</td>\n",
       "    </tr>\n",
       "    <tr>\n",
       "      <th>3</th>\n",
       "      <td>6</td>\n",
       "      <td>[1024306, 1102949, 6548453, 835394, 940804, 96...</td>\n",
       "      <td>[948650, 5569845, 890739, 941361, 983584, 1105...</td>\n",
       "      <td>[1084036, 819840, 951834, 1026118, 6979393, 74...</td>\n",
       "      <td>[1113675, 5995953, 7442505, 6979393, 853449, 7...</td>\n",
       "    </tr>\n",
       "  </tbody>\n",
       "</table>\n",
       "</div>"
      ],
      "text/plain": [
       "   user_id                                             actual  \\\n",
       "0        1  [853529, 865456, 867607, 872137, 874905, 87524...   \n",
       "1        2  [15830248, 838136, 839656, 861272, 866211, 870...   \n",
       "2        4  [883932, 970760, 1035676, 1055863, 1097610, 67...   \n",
       "3        6  [1024306, 1102949, 6548453, 835394, 940804, 96...   \n",
       "\n",
       "                                       similar_items  \\\n",
       "0  [825665, 840890, 8119134, 1036852, 1061747, 98...   \n",
       "1  [8090509, 5569845, 917816, 985999, 880888, 819...   \n",
       "2  [944852, 7441210, 1011457, 892503, 995151, 100...   \n",
       "3  [948650, 5569845, 890739, 941361, 983584, 1105...   \n",
       "\n",
       "                                                 als  \\\n",
       "0  [8090541, 5569374, 841584, 920200, 6533608, 80...   \n",
       "1  [916122, 1127831, 826835, 1004906, 866211, 992...   \n",
       "2  [1121367, 910032, 863885, 906524, 1037387, 853...   \n",
       "3  [1084036, 819840, 951834, 1026118, 6979393, 74...   \n",
       "\n",
       "                                       similar_users  \n",
       "0  [9677462, 1076247, 5570974, 5570513, 1016785, ...  \n",
       "1  [1098152, 1102250, 920528, 1062283, 1064752, 1...  \n",
       "2  [944588, 905353, 1131384, 1021416, 871563, 825...  \n",
       "3  [1113675, 5995953, 7442505, 6979393, 853449, 7...  "
      ]
     },
     "execution_count": 12,
     "metadata": {},
     "output_type": "execute_result"
    }
   ],
   "source": [
    "result_lvl_1.head(4)"
   ]
  },
  {
   "cell_type": "code",
   "execution_count": 13,
   "metadata": {},
   "outputs": [],
   "source": [
    "# генерируем 50 кандидатов, используя own_recommendations\n",
    "result_lvl_1['own'] = result_lvl_1['user_id'].apply(lambda x: recommender.get_own_recommendations(x, N=50))"
   ]
  },
  {
   "cell_type": "code",
   "execution_count": 14,
   "metadata": {},
   "outputs": [
    {
     "data": {
      "text/html": [
       "<div>\n",
       "<style scoped>\n",
       "    .dataframe tbody tr th:only-of-type {\n",
       "        vertical-align: middle;\n",
       "    }\n",
       "\n",
       "    .dataframe tbody tr th {\n",
       "        vertical-align: top;\n",
       "    }\n",
       "\n",
       "    .dataframe thead th {\n",
       "        text-align: right;\n",
       "    }\n",
       "</style>\n",
       "<table border=\"1\" class=\"dataframe\">\n",
       "  <thead>\n",
       "    <tr style=\"text-align: right;\">\n",
       "      <th></th>\n",
       "      <th>user_id</th>\n",
       "      <th>actual</th>\n",
       "      <th>similar_items</th>\n",
       "      <th>als</th>\n",
       "      <th>similar_users</th>\n",
       "      <th>own</th>\n",
       "    </tr>\n",
       "  </thead>\n",
       "  <tbody>\n",
       "    <tr>\n",
       "      <th>0</th>\n",
       "      <td>1</td>\n",
       "      <td>[853529, 865456, 867607, 872137, 874905, 87524...</td>\n",
       "      <td>[825665, 840890, 8119134, 1036852, 1061747, 98...</td>\n",
       "      <td>[8090541, 5569374, 841584, 920200, 6533608, 80...</td>\n",
       "      <td>[9677462, 1076247, 5570974, 5570513, 1016785, ...</td>\n",
       "      <td>[922281, 962967, 6514011, 9296837, 8090541, 10...</td>\n",
       "    </tr>\n",
       "    <tr>\n",
       "      <th>1</th>\n",
       "      <td>2</td>\n",
       "      <td>[15830248, 838136, 839656, 861272, 866211, 870...</td>\n",
       "      <td>[8090509, 5569845, 917816, 985999, 880888, 819...</td>\n",
       "      <td>[916122, 1127831, 826835, 1004906, 866211, 992...</td>\n",
       "      <td>[1098152, 1102250, 920528, 1062283, 1064752, 1...</td>\n",
       "      <td>[976652, 988508, 5567582, 1131634, 945901, 927...</td>\n",
       "    </tr>\n",
       "    <tr>\n",
       "      <th>2</th>\n",
       "      <td>4</td>\n",
       "      <td>[883932, 970760, 1035676, 1055863, 1097610, 67...</td>\n",
       "      <td>[944852, 7441210, 1011457, 892503, 995151, 100...</td>\n",
       "      <td>[1121367, 910032, 863885, 906524, 1037387, 853...</td>\n",
       "      <td>[944588, 905353, 1131384, 1021416, 871563, 825...</td>\n",
       "      <td>[6391541, 936470, 939907, 9677093, 1121367, 10...</td>\n",
       "    </tr>\n",
       "    <tr>\n",
       "      <th>3</th>\n",
       "      <td>6</td>\n",
       "      <td>[1024306, 1102949, 6548453, 835394, 940804, 96...</td>\n",
       "      <td>[948650, 5569845, 890739, 941361, 983584, 1105...</td>\n",
       "      <td>[1084036, 819840, 951834, 1026118, 6979393, 74...</td>\n",
       "      <td>[1113675, 5995953, 7442505, 6979393, 853449, 7...</td>\n",
       "      <td>[12757544, 829685, 923600, 6979393, 880530, 99...</td>\n",
       "    </tr>\n",
       "  </tbody>\n",
       "</table>\n",
       "</div>"
      ],
      "text/plain": [
       "   user_id                                             actual  \\\n",
       "0        1  [853529, 865456, 867607, 872137, 874905, 87524...   \n",
       "1        2  [15830248, 838136, 839656, 861272, 866211, 870...   \n",
       "2        4  [883932, 970760, 1035676, 1055863, 1097610, 67...   \n",
       "3        6  [1024306, 1102949, 6548453, 835394, 940804, 96...   \n",
       "\n",
       "                                       similar_items  \\\n",
       "0  [825665, 840890, 8119134, 1036852, 1061747, 98...   \n",
       "1  [8090509, 5569845, 917816, 985999, 880888, 819...   \n",
       "2  [944852, 7441210, 1011457, 892503, 995151, 100...   \n",
       "3  [948650, 5569845, 890739, 941361, 983584, 1105...   \n",
       "\n",
       "                                                 als  \\\n",
       "0  [8090541, 5569374, 841584, 920200, 6533608, 80...   \n",
       "1  [916122, 1127831, 826835, 1004906, 866211, 992...   \n",
       "2  [1121367, 910032, 863885, 906524, 1037387, 853...   \n",
       "3  [1084036, 819840, 951834, 1026118, 6979393, 74...   \n",
       "\n",
       "                                       similar_users  \\\n",
       "0  [9677462, 1076247, 5570974, 5570513, 1016785, ...   \n",
       "1  [1098152, 1102250, 920528, 1062283, 1064752, 1...   \n",
       "2  [944588, 905353, 1131384, 1021416, 871563, 825...   \n",
       "3  [1113675, 5995953, 7442505, 6979393, 853449, 7...   \n",
       "\n",
       "                                                 own  \n",
       "0  [922281, 962967, 6514011, 9296837, 8090541, 10...  \n",
       "1  [976652, 988508, 5567582, 1131634, 945901, 927...  \n",
       "2  [6391541, 936470, 939907, 9677093, 1121367, 10...  \n",
       "3  [12757544, 829685, 923600, 6979393, 880530, 99...  "
      ]
     },
     "execution_count": 14,
     "metadata": {},
     "output_type": "execute_result"
    }
   ],
   "source": [
    "result_lvl_1.head(4)"
   ]
  },
  {
   "cell_type": "code",
   "execution_count": 15,
   "metadata": {},
   "outputs": [
    {
     "data": {
      "text/plain": [
       "{'similar_items': 0.005610131974179749,\n",
       " 'als': 0.009926919460015766,\n",
       " 'similar_users': 0.0007393203113854158,\n",
       " 'own': 0.009511956261990253}"
      ]
     },
     "execution_count": 15,
     "metadata": {},
     "output_type": "execute_result"
    }
   ],
   "source": [
    "# измеряем качество на data_val_lvl_1 с помощью recall@k\n",
    "methods = ['similar_items', 'als', 'similar_users', 'own']\n",
    "recall = dict()\n",
    "for method in methods:\n",
    "    recall[method] = result_lvl_1.apply(lambda row: recall_at_k(row[method], row['actual']), axis=1).mean()\n",
    "\n",
    "recall"
   ]
  },
  {
   "cell_type": "markdown",
   "metadata": {},
   "source": [
    "Как и als метод own recommendtions дают лучшие значения recall@k."
   ]
  },
  {
   "cell_type": "code",
   "execution_count": 16,
   "metadata": {},
   "outputs": [
    {
     "name": "stdout",
     "output_type": "stream",
     "text": [
      "Wall time: 1min 14s\n"
     ]
    },
    {
     "data": {
      "text/html": [
       "<div>\n",
       "<style scoped>\n",
       "    .dataframe tbody tr th:only-of-type {\n",
       "        vertical-align: middle;\n",
       "    }\n",
       "\n",
       "    .dataframe tbody tr th {\n",
       "        vertical-align: top;\n",
       "    }\n",
       "\n",
       "    .dataframe thead th {\n",
       "        text-align: right;\n",
       "    }\n",
       "</style>\n",
       "<table border=\"1\" class=\"dataframe\">\n",
       "  <thead>\n",
       "    <tr style=\"text-align: right;\">\n",
       "      <th></th>\n",
       "      <th>user_id</th>\n",
       "      <th>actual</th>\n",
       "      <th>similar_items</th>\n",
       "      <th>als</th>\n",
       "      <th>similar_users</th>\n",
       "      <th>own</th>\n",
       "      <th>als_1</th>\n",
       "      <th>als_5</th>\n",
       "      <th>als_10</th>\n",
       "      <th>als_50</th>\n",
       "      <th>als_100</th>\n",
       "      <th>als_200</th>\n",
       "    </tr>\n",
       "  </thead>\n",
       "  <tbody>\n",
       "    <tr>\n",
       "      <th>0</th>\n",
       "      <td>1</td>\n",
       "      <td>[853529, 865456, 867607, 872137, 874905, 87524...</td>\n",
       "      <td>[825665, 840890, 8119134, 1036852, 1061747, 98...</td>\n",
       "      <td>[8090541, 5569374, 841584, 920200, 6533608, 80...</td>\n",
       "      <td>[9677462, 1076247, 5570974, 5570513, 1016785, ...</td>\n",
       "      <td>[922281, 962967, 6514011, 9296837, 8090541, 10...</td>\n",
       "      <td>[8090541]</td>\n",
       "      <td>[8090541, 5569374, 841584, 920200, 6533608]</td>\n",
       "      <td>[8090541, 5569374, 841584, 920200, 6533608, 80...</td>\n",
       "      <td>[8090541, 5569374, 841584, 920200, 6533608, 80...</td>\n",
       "      <td>[8090541, 5569374, 841584, 920200, 6533608, 80...</td>\n",
       "      <td>[8090541, 5569374, 841584, 920200, 6533608, 80...</td>\n",
       "    </tr>\n",
       "    <tr>\n",
       "      <th>1</th>\n",
       "      <td>2</td>\n",
       "      <td>[15830248, 838136, 839656, 861272, 866211, 870...</td>\n",
       "      <td>[8090509, 5569845, 917816, 985999, 880888, 819...</td>\n",
       "      <td>[916122, 1127831, 826835, 1004906, 866211, 992...</td>\n",
       "      <td>[1098152, 1102250, 920528, 1062283, 1064752, 1...</td>\n",
       "      <td>[976652, 988508, 5567582, 1131634, 945901, 927...</td>\n",
       "      <td>[916122]</td>\n",
       "      <td>[916122, 1127831, 826835, 1004906, 866211]</td>\n",
       "      <td>[916122, 1127831, 826835, 1004906, 866211, 992...</td>\n",
       "      <td>[916122, 1127831, 826835, 1004906, 866211, 992...</td>\n",
       "      <td>[916122, 1127831, 826835, 1004906, 866211, 992...</td>\n",
       "      <td>[916122, 1127831, 826835, 1004906, 866211, 992...</td>\n",
       "    </tr>\n",
       "    <tr>\n",
       "      <th>2</th>\n",
       "      <td>4</td>\n",
       "      <td>[883932, 970760, 1035676, 1055863, 1097610, 67...</td>\n",
       "      <td>[944852, 7441210, 1011457, 892503, 995151, 100...</td>\n",
       "      <td>[1121367, 910032, 863885, 906524, 1037387, 853...</td>\n",
       "      <td>[944588, 905353, 1131384, 1021416, 871563, 825...</td>\n",
       "      <td>[6391541, 936470, 939907, 9677093, 1121367, 10...</td>\n",
       "      <td>[1121367]</td>\n",
       "      <td>[1121367, 910032, 863885, 906524, 1037387]</td>\n",
       "      <td>[1121367, 910032, 863885, 906524, 1037387, 853...</td>\n",
       "      <td>[1121367, 910032, 863885, 906524, 1037387, 853...</td>\n",
       "      <td>[1121367, 910032, 863885, 906524, 1037387, 853...</td>\n",
       "      <td>[1121367, 910032, 863885, 906524, 1037387, 853...</td>\n",
       "    </tr>\n",
       "    <tr>\n",
       "      <th>3</th>\n",
       "      <td>6</td>\n",
       "      <td>[1024306, 1102949, 6548453, 835394, 940804, 96...</td>\n",
       "      <td>[948650, 5569845, 890739, 941361, 983584, 1105...</td>\n",
       "      <td>[1084036, 819840, 951834, 1026118, 6979393, 74...</td>\n",
       "      <td>[1113675, 5995953, 7442505, 6979393, 853449, 7...</td>\n",
       "      <td>[12757544, 829685, 923600, 6979393, 880530, 99...</td>\n",
       "      <td>[1084036]</td>\n",
       "      <td>[1084036, 819840, 951834, 1026118, 6979393]</td>\n",
       "      <td>[1084036, 819840, 951834, 1026118, 6979393, 74...</td>\n",
       "      <td>[1084036, 819840, 951834, 1026118, 6979393, 74...</td>\n",
       "      <td>[1084036, 819840, 951834, 1026118, 6979393, 74...</td>\n",
       "      <td>[1084036, 819840, 951834, 1026118, 6979393, 74...</td>\n",
       "    </tr>\n",
       "  </tbody>\n",
       "</table>\n",
       "</div>"
      ],
      "text/plain": [
       "   user_id                                             actual  \\\n",
       "0        1  [853529, 865456, 867607, 872137, 874905, 87524...   \n",
       "1        2  [15830248, 838136, 839656, 861272, 866211, 870...   \n",
       "2        4  [883932, 970760, 1035676, 1055863, 1097610, 67...   \n",
       "3        6  [1024306, 1102949, 6548453, 835394, 940804, 96...   \n",
       "\n",
       "                                       similar_items  \\\n",
       "0  [825665, 840890, 8119134, 1036852, 1061747, 98...   \n",
       "1  [8090509, 5569845, 917816, 985999, 880888, 819...   \n",
       "2  [944852, 7441210, 1011457, 892503, 995151, 100...   \n",
       "3  [948650, 5569845, 890739, 941361, 983584, 1105...   \n",
       "\n",
       "                                                 als  \\\n",
       "0  [8090541, 5569374, 841584, 920200, 6533608, 80...   \n",
       "1  [916122, 1127831, 826835, 1004906, 866211, 992...   \n",
       "2  [1121367, 910032, 863885, 906524, 1037387, 853...   \n",
       "3  [1084036, 819840, 951834, 1026118, 6979393, 74...   \n",
       "\n",
       "                                       similar_users  \\\n",
       "0  [9677462, 1076247, 5570974, 5570513, 1016785, ...   \n",
       "1  [1098152, 1102250, 920528, 1062283, 1064752, 1...   \n",
       "2  [944588, 905353, 1131384, 1021416, 871563, 825...   \n",
       "3  [1113675, 5995953, 7442505, 6979393, 853449, 7...   \n",
       "\n",
       "                                                 own      als_1  \\\n",
       "0  [922281, 962967, 6514011, 9296837, 8090541, 10...  [8090541]   \n",
       "1  [976652, 988508, 5567582, 1131634, 945901, 927...   [916122]   \n",
       "2  [6391541, 936470, 939907, 9677093, 1121367, 10...  [1121367]   \n",
       "3  [12757544, 829685, 923600, 6979393, 880530, 99...  [1084036]   \n",
       "\n",
       "                                         als_5  \\\n",
       "0  [8090541, 5569374, 841584, 920200, 6533608]   \n",
       "1   [916122, 1127831, 826835, 1004906, 866211]   \n",
       "2   [1121367, 910032, 863885, 906524, 1037387]   \n",
       "3  [1084036, 819840, 951834, 1026118, 6979393]   \n",
       "\n",
       "                                              als_10  \\\n",
       "0  [8090541, 5569374, 841584, 920200, 6533608, 80...   \n",
       "1  [916122, 1127831, 826835, 1004906, 866211, 992...   \n",
       "2  [1121367, 910032, 863885, 906524, 1037387, 853...   \n",
       "3  [1084036, 819840, 951834, 1026118, 6979393, 74...   \n",
       "\n",
       "                                              als_50  \\\n",
       "0  [8090541, 5569374, 841584, 920200, 6533608, 80...   \n",
       "1  [916122, 1127831, 826835, 1004906, 866211, 992...   \n",
       "2  [1121367, 910032, 863885, 906524, 1037387, 853...   \n",
       "3  [1084036, 819840, 951834, 1026118, 6979393, 74...   \n",
       "\n",
       "                                             als_100  \\\n",
       "0  [8090541, 5569374, 841584, 920200, 6533608, 80...   \n",
       "1  [916122, 1127831, 826835, 1004906, 866211, 992...   \n",
       "2  [1121367, 910032, 863885, 906524, 1037387, 853...   \n",
       "3  [1084036, 819840, 951834, 1026118, 6979393, 74...   \n",
       "\n",
       "                                             als_200  \n",
       "0  [8090541, 5569374, 841584, 920200, 6533608, 80...  \n",
       "1  [916122, 1127831, 826835, 1004906, 866211, 992...  \n",
       "2  [1121367, 910032, 863885, 906524, 1037387, 853...  \n",
       "3  [1084036, 819840, 951834, 1026118, 6979393, 74...  "
      ]
     },
     "execution_count": 16,
     "metadata": {},
     "output_type": "execute_result"
    }
   ],
   "source": [
    "%%time\n",
    "\n",
    "params = [1, 5, 10, 50, 100, 200]\n",
    "\n",
    "for param in params:\n",
    "    result_lvl_1[f'als_{param}'] = result_lvl_1['user_id'].apply(lambda x: recommender.get_als_recommendations(x, N=param))\n",
    "\n",
    "result_lvl_1.head(4)"
   ]
  },
  {
   "cell_type": "code",
   "execution_count": 17,
   "metadata": {},
   "outputs": [
    {
     "data": {
      "text/plain": [
       "{'als_1': 0.0029556691012702606,\n",
       " 'als_5': 0.009926919460015766,\n",
       " 'als_10': 0.009926919460015766,\n",
       " 'als_50': 0.009926919460015766,\n",
       " 'als_100': 0.009926919460015766,\n",
       " 'als_200': 0.009926919460015766}"
      ]
     },
     "execution_count": 17,
     "metadata": {},
     "output_type": "execute_result"
    }
   ],
   "source": [
    "recall = dict()\n",
    "for param in params:\n",
    "    recall[f'als_{param}'] = result_lvl_1.apply(lambda row: recall_at_k(row[f'als_{param}'], row['actual']), axis=1).mean()\n",
    "\n",
    "recall"
   ]
  },
  {
   "cell_type": "code",
   "execution_count": 18,
   "metadata": {},
   "outputs": [
    {
     "data": {
      "image/png": "[encoded data removed]",
      "text/plain": [
       "<Figure size 576x288 with 1 Axes>"
      ]
     },
     "metadata": {
      "needs_background": "light"
     },
     "output_type": "display_data"
    }
   ],
   "source": [
    "plt.figure(figsize=(8, 4))\n",
    "with plt.style.context('bmh'):\n",
    "    plt.plot(params, recall.values())\n",
    "    plt.title(' ALS recall@k values for different k', fontsize=13)\n",
    "    plt.xlabel('k values', fontsize=11)\n",
    "    plt.ylabel('recall@k', fontsize=11)\n",
    "    \n",
    "plt.show()"
   ]
  },
  {
   "cell_type": "markdown",
   "metadata": {},
   "source": [
    "При к>=5 значение recall@k не изменяется"
   ]
  },
  {
   "cell_type": "code",
   "execution_count": 19,
   "metadata": {},
   "outputs": [
    {
     "name": "stdout",
     "output_type": "stream",
     "text": [
      "Wall time: 42.7 s\n"
     ]
    }
   ],
   "source": [
    "%%time\n",
    "\n",
    "params = [1, 20, 50, 100, 200, 500]\n",
    "\n",
    "for param in params:\n",
    "    result_lvl_1[f'own_{param}'] = result_lvl_1['user_id'].apply(lambda x: recommender.get_own_recommendations(x, N=param))\n"
   ]
  },
  {
   "cell_type": "code",
   "execution_count": 20,
   "metadata": {},
   "outputs": [
    {
     "data": {
      "image/png": "[encoded data removed]",
      "text/plain": [
       "<Figure size 576x288 with 1 Axes>"
      ]
     },
     "metadata": {
      "needs_background": "light"
     },
     "output_type": "display_data"
    }
   ],
   "source": [
    "recall = dict()\n",
    "for param in params:\n",
    "    recall[f'own_{param}'] = result_lvl_1.apply(lambda row: recall_at_k(row[f'own_{param}'], row['actual']), axis=1).mean()\n",
    "\n",
    "plt.figure(figsize=(8, 4))\n",
    "with plt.style.context('bmh'):\n",
    "    plt.plot(params, recall.values())\n",
    "    plt.title('Own recommendations recall@k values for different k', fontsize=13)\n",
    "    plt.xlabel('k values', fontsize=11)\n",
    "    plt.ylabel('recall@k', fontsize=11)\n",
    "    \n",
    "plt.show()"
   ]
  },
  {
   "cell_type": "markdown",
   "metadata": {},
   "source": [
    "При к>=5 значение recall@k не изменяется"
   ]
  },
  {
   "cell_type": "markdown",
   "metadata": {},
   "source": [
    "### Задание 2.\n",
    "\n",
    "Обучите модель 2-ого уровня, при этом:\n",
    "    - Добавьте минимум по 2 фичи для юзера, товара и пары юзер-товар\n",
    "    - Измерьте отдельно precision@5 модели 1-ого уровня и двухуровневой модели на data_val_lvl_2\n",
    "    - Вырос ли precision@5 при использовании двухуровневой модели?"
   ]
  },
  {
   "cell_type": "code",
   "execution_count": 21,
   "metadata": {},
   "outputs": [],
   "source": [
    "users_lvl_2 = pd.DataFrame(data_train_lvl_2['user_id'].unique())\n",
    "users_lvl_2.columns = ['user_id']\n",
    "\n",
    "# Генерируем кандидатов с помощью own recommendation\n",
    "train_users = data_train_lvl_1['user_id'].unique()\n",
    "users_lvl_2 = users_lvl_2[users_lvl_2['user_id'].isin(train_users)]\n",
    "\n",
    "users_lvl_2['candidates'] = users_lvl_2['user_id'].apply(lambda x: recommender.get_als_recommendations(x, N=50))"
   ]
  },
  {
   "cell_type": "code",
   "execution_count": 22,
   "metadata": {},
   "outputs": [
    {
     "data": {
      "text/html": [
       "<div>\n",
       "<style scoped>\n",
       "    .dataframe tbody tr th:only-of-type {\n",
       "        vertical-align: middle;\n",
       "    }\n",
       "\n",
       "    .dataframe tbody tr th {\n",
       "        vertical-align: top;\n",
       "    }\n",
       "\n",
       "    .dataframe thead th {\n",
       "        text-align: right;\n",
       "    }\n",
       "</style>\n",
       "<table border=\"1\" class=\"dataframe\">\n",
       "  <thead>\n",
       "    <tr style=\"text-align: right;\">\n",
       "      <th></th>\n",
       "      <th>user_id</th>\n",
       "      <th>candidates</th>\n",
       "    </tr>\n",
       "  </thead>\n",
       "  <tbody>\n",
       "    <tr>\n",
       "      <th>0</th>\n",
       "      <td>2070</td>\n",
       "      <td>[5569230, 5569471, 1008814, 5569374, 878442, 9...</td>\n",
       "    </tr>\n",
       "    <tr>\n",
       "      <th>1</th>\n",
       "      <td>2021</td>\n",
       "      <td>[1044078, 1106523, 844179, 819255, 899624, 999...</td>\n",
       "    </tr>\n",
       "    <tr>\n",
       "      <th>2</th>\n",
       "      <td>1753</td>\n",
       "      <td>[1029743, 883202, 906883, 963686, 891134, 8956...</td>\n",
       "    </tr>\n",
       "    <tr>\n",
       "      <th>3</th>\n",
       "      <td>2120</td>\n",
       "      <td>[1106523, 8090537, 1044078, 8090521, 1029743, ...</td>\n",
       "    </tr>\n",
       "  </tbody>\n",
       "</table>\n",
       "</div>"
      ],
      "text/plain": [
       "   user_id                                         candidates\n",
       "0     2070  [5569230, 5569471, 1008814, 5569374, 878442, 9...\n",
       "1     2021  [1044078, 1106523, 844179, 819255, 899624, 999...\n",
       "2     1753  [1029743, 883202, 906883, 963686, 891134, 8956...\n",
       "3     2120  [1106523, 8090537, 1044078, 8090521, 1029743, ..."
      ]
     },
     "execution_count": 22,
     "metadata": {},
     "output_type": "execute_result"
    }
   ],
   "source": [
    "users_lvl_2.head(4)"
   ]
  },
  {
   "cell_type": "code",
   "execution_count": 23,
   "metadata": {},
   "outputs": [],
   "source": [
    "# Вытягиваем строки кандидатов в столбец\n",
    "s = users_lvl_2.apply(lambda x: pd.Series(x['candidates']), axis=1).stack().reset_index(level=1, drop=True)\n",
    "s.name = 'item_id'\n",
    "users_lvl_2 = users_lvl_2.drop('candidates', axis=1).join(s)\n",
    "\n",
    "# Размечаем обучающую выборку на основе данных о покупках data_train_lvl_2\n",
    "targets_lvl_2 = data_train_lvl_2.copy()\n",
    "targets_lvl_2['target'] = 1  # тут только покупки \n",
    "\n",
    "targets_lvl_2 = users_lvl_2.merge(targets_lvl_2, on=['user_id', 'item_id'], how='left')\n",
    "targets_lvl_2['target'].fillna(0, inplace= True)"
   ]
  },
  {
   "cell_type": "code",
   "execution_count": 24,
   "metadata": {},
   "outputs": [
    {
     "data": {
      "text/plain": [
       "0.0    103048\n",
       "1.0      6557\n",
       "Name: target, dtype: int64"
      ]
     },
     "execution_count": 24,
     "metadata": {},
     "output_type": "execute_result"
    }
   ],
   "source": [
    "targets_lvl_2['target'].value_counts()"
   ]
  },
  {
   "cell_type": "code",
   "execution_count": 25,
   "metadata": {},
   "outputs": [
    {
     "data": {
      "text/plain": [
       "0.0598239131426486"
      ]
     },
     "execution_count": 25,
     "metadata": {},
     "output_type": "execute_result"
    }
   ],
   "source": [
    "targets_lvl_2['target'].mean()"
   ]
  },
  {
   "cell_type": "code",
   "execution_count": 26,
   "metadata": {},
   "outputs": [],
   "source": [
    "# добавляем item_features и user_features\n",
    "targets_lvl_2 = targets_lvl_2.merge(item_features, on='item_id', how='left')\n",
    "targets_lvl_2 = targets_lvl_2.merge(user_features, on='user_id', how='left')\n",
    "\n",
    "data_val_lvl_2 = data_val_lvl_2.merge(item_features, on='item_id', how='left')\n",
    "data_val_lvl_2 = data_val_lvl_2.merge(user_features, on='user_id', how='left')"
   ]
  },
  {
   "cell_type": "code",
   "execution_count": 27,
   "metadata": {},
   "outputs": [],
   "source": [
    "# создаем и добавляем дополнительные признаки на основе агрегатных функций\n",
    "data_train = data_train_lvl_2.merge(item_features, on='item_id', how='left')\n",
    "data_train = data_train.merge(user_features, on='user_id', how='left')\n",
    "\n",
    "targets_lvl_2 = features_generation(data_train, targets_lvl_2)\n",
    "data_val_lvl_2 = features_generation(data_val_lvl_2, data_val_lvl_2)"
   ]
  },
  {
   "cell_type": "code",
   "execution_count": 28,
   "metadata": {},
   "outputs": [
    {
     "name": "stdout",
     "output_type": "stream",
     "text": [
      "<class 'pandas.core.frame.DataFrame'>\n",
      "Int64Index: 101319 entries, 0 to 101318\n",
      "Data columns (total 29 columns):\n",
      " #   Column                  Non-Null Count   Dtype   \n",
      "---  ------                  --------------   -----   \n",
      " 0   user_id                 101319 non-null  int64   \n",
      " 1   item_id                 101319 non-null  int64   \n",
      " 2   basket_id               6557 non-null    float64 \n",
      " 3   day                     6557 non-null    float64 \n",
      " 4   quantity                6557 non-null    float64 \n",
      " 5   sales_value             6557 non-null    float64 \n",
      " 6   store_id                6557 non-null    float64 \n",
      " 7   retail_disc             6557 non-null    float64 \n",
      " 8   trans_time              6557 non-null    float64 \n",
      " 9   week_no                 6557 non-null    float64 \n",
      " 10  coupon_disc             6557 non-null    float64 \n",
      " 11  coupon_match_disc       6557 non-null    float64 \n",
      " 12  manufacturer            101319 non-null  int64   \n",
      " 13  department              101319 non-null  category\n",
      " 14  brand                   101319 non-null  category\n",
      " 15  commodity_desc          101319 non-null  category\n",
      " 16  sub_commodity_desc      101319 non-null  category\n",
      " 17  curr_size_of_product    101319 non-null  category\n",
      " 18  age_desc                37809 non-null   category\n",
      " 19  marital_status_code     37809 non-null   category\n",
      " 20  income_desc             37809 non-null   category\n",
      " 21  homeowner_desc          37809 non-null   category\n",
      " 22  hh_comp_desc            37809 non-null   category\n",
      " 23  household_size_desc     37809 non-null   category\n",
      " 24  kid_category_desc       37809 non-null   category\n",
      " 25  mean_item_count_by_dep  101319 non-null  int64   \n",
      " 26  mean_sales              101319 non-null  float64 \n",
      " 27  week_mean_count_by_dep  101319 non-null  float64 \n",
      " 28  mean_count_by_dep       101319 non-null  float64 \n",
      "dtypes: category(12), float64(13), int64(4)\n",
      "memory usage: 15.4 MB\n"
     ]
    }
   ],
   "source": [
    "# создаем тестовую и обучающую выборки\n",
    "X_train = targets_lvl_2.drop('target', axis=1)\n",
    "y_train = targets_lvl_2[['target']]\n",
    "\n",
    "# выделяем категориальные признаки\n",
    "cat_feats = cat_feats =['department', 'brand', 'commodity_desc', 'sub_commodity_desc', 'curr_size_of_product',\n",
    "                        'age_desc', 'marital_status_code', 'income_desc', 'homeowner_desc', 'hh_comp_desc',\n",
    "                        'household_size_desc', 'kid_category_desc']\n",
    "\n",
    "X_train[cat_feats] = X_train[cat_feats].astype('category')\n",
    "data_val_lvl_2[cat_feats] = data_val_lvl_2[cat_feats].astype('category')\n",
    "X_train.info()"
   ]
  },
  {
   "cell_type": "code",
   "execution_count": 29,
   "metadata": {},
   "outputs": [],
   "source": [
    "# обучаем модель второго уровня - Light Gradient Boosting Machine\n",
    "lgb = LGBMClassifier(objective='binary', max_depth=7, categorical_column=cat_feats)\n",
    "lgb.fit(X_train, y_train)\n",
    "\n",
    "train_preds = lgb.predict(X_train)"
   ]
  },
  {
   "cell_type": "code",
   "execution_count": 30,
   "metadata": {},
   "outputs": [
    {
     "data": {
      "text/html": [
       "<div>\n",
       "<style scoped>\n",
       "    .dataframe tbody tr th:only-of-type {\n",
       "        vertical-align: middle;\n",
       "    }\n",
       "\n",
       "    .dataframe tbody tr th {\n",
       "        vertical-align: top;\n",
       "    }\n",
       "\n",
       "    .dataframe thead th {\n",
       "        text-align: right;\n",
       "    }\n",
       "</style>\n",
       "<table border=\"1\" class=\"dataframe\">\n",
       "  <thead>\n",
       "    <tr style=\"text-align: right;\">\n",
       "      <th></th>\n",
       "      <th>user_id</th>\n",
       "      <th>item_id</th>\n",
       "      <th>basket_id</th>\n",
       "      <th>day</th>\n",
       "      <th>quantity</th>\n",
       "      <th>sales_value</th>\n",
       "      <th>store_id</th>\n",
       "      <th>retail_disc</th>\n",
       "      <th>trans_time</th>\n",
       "      <th>week_no</th>\n",
       "      <th>...</th>\n",
       "      <th>income_desc</th>\n",
       "      <th>homeowner_desc</th>\n",
       "      <th>hh_comp_desc</th>\n",
       "      <th>household_size_desc</th>\n",
       "      <th>kid_category_desc</th>\n",
       "      <th>mean_item_count_by_dep</th>\n",
       "      <th>mean_sales</th>\n",
       "      <th>week_mean_count_by_dep</th>\n",
       "      <th>mean_count_by_dep</th>\n",
       "      <th>preds</th>\n",
       "    </tr>\n",
       "  </thead>\n",
       "  <tbody>\n",
       "    <tr>\n",
       "      <th>0</th>\n",
       "      <td>2070</td>\n",
       "      <td>5569230</td>\n",
       "      <td>NaN</td>\n",
       "      <td>NaN</td>\n",
       "      <td>NaN</td>\n",
       "      <td>NaN</td>\n",
       "      <td>NaN</td>\n",
       "      <td>NaN</td>\n",
       "      <td>NaN</td>\n",
       "      <td>NaN</td>\n",
       "      <td>...</td>\n",
       "      <td>50-74K</td>\n",
       "      <td>Unknown</td>\n",
       "      <td>Unknown</td>\n",
       "      <td>1</td>\n",
       "      <td>None/Unknown</td>\n",
       "      <td>234</td>\n",
       "      <td>14.355581</td>\n",
       "      <td>24577.666667</td>\n",
       "      <td>1755.0</td>\n",
       "      <td>0.0</td>\n",
       "    </tr>\n",
       "    <tr>\n",
       "      <th>1</th>\n",
       "      <td>2070</td>\n",
       "      <td>5569471</td>\n",
       "      <td>NaN</td>\n",
       "      <td>NaN</td>\n",
       "      <td>NaN</td>\n",
       "      <td>NaN</td>\n",
       "      <td>NaN</td>\n",
       "      <td>NaN</td>\n",
       "      <td>NaN</td>\n",
       "      <td>NaN</td>\n",
       "      <td>...</td>\n",
       "      <td>50-74K</td>\n",
       "      <td>Unknown</td>\n",
       "      <td>Unknown</td>\n",
       "      <td>1</td>\n",
       "      <td>None/Unknown</td>\n",
       "      <td>84</td>\n",
       "      <td>14.355581</td>\n",
       "      <td>24577.666667</td>\n",
       "      <td>1755.0</td>\n",
       "      <td>0.0</td>\n",
       "    </tr>\n",
       "    <tr>\n",
       "      <th>2</th>\n",
       "      <td>2070</td>\n",
       "      <td>1008814</td>\n",
       "      <td>NaN</td>\n",
       "      <td>NaN</td>\n",
       "      <td>NaN</td>\n",
       "      <td>NaN</td>\n",
       "      <td>NaN</td>\n",
       "      <td>NaN</td>\n",
       "      <td>NaN</td>\n",
       "      <td>NaN</td>\n",
       "      <td>...</td>\n",
       "      <td>50-74K</td>\n",
       "      <td>Unknown</td>\n",
       "      <td>Unknown</td>\n",
       "      <td>1</td>\n",
       "      <td>None/Unknown</td>\n",
       "      <td>15</td>\n",
       "      <td>14.355581</td>\n",
       "      <td>24577.666667</td>\n",
       "      <td>1755.0</td>\n",
       "      <td>0.0</td>\n",
       "    </tr>\n",
       "    <tr>\n",
       "      <th>3</th>\n",
       "      <td>2070</td>\n",
       "      <td>5569374</td>\n",
       "      <td>NaN</td>\n",
       "      <td>NaN</td>\n",
       "      <td>NaN</td>\n",
       "      <td>NaN</td>\n",
       "      <td>NaN</td>\n",
       "      <td>NaN</td>\n",
       "      <td>NaN</td>\n",
       "      <td>NaN</td>\n",
       "      <td>...</td>\n",
       "      <td>50-74K</td>\n",
       "      <td>Unknown</td>\n",
       "      <td>Unknown</td>\n",
       "      <td>1</td>\n",
       "      <td>None/Unknown</td>\n",
       "      <td>23</td>\n",
       "      <td>14.355581</td>\n",
       "      <td>24577.666667</td>\n",
       "      <td>1755.0</td>\n",
       "      <td>0.0</td>\n",
       "    </tr>\n",
       "  </tbody>\n",
       "</table>\n",
       "<p>4 rows × 30 columns</p>\n",
       "</div>"
      ],
      "text/plain": [
       "   user_id  item_id  basket_id  day  quantity  sales_value  store_id  \\\n",
       "0     2070  5569230        NaN  NaN       NaN          NaN       NaN   \n",
       "1     2070  5569471        NaN  NaN       NaN          NaN       NaN   \n",
       "2     2070  1008814        NaN  NaN       NaN          NaN       NaN   \n",
       "3     2070  5569374        NaN  NaN       NaN          NaN       NaN   \n",
       "\n",
       "   retail_disc  trans_time  week_no  ...  income_desc  homeowner_desc  \\\n",
       "0          NaN         NaN      NaN  ...       50-74K         Unknown   \n",
       "1          NaN         NaN      NaN  ...       50-74K         Unknown   \n",
       "2          NaN         NaN      NaN  ...       50-74K         Unknown   \n",
       "3          NaN         NaN      NaN  ...       50-74K         Unknown   \n",
       "\n",
       "   hh_comp_desc household_size_desc kid_category_desc mean_item_count_by_dep  \\\n",
       "0       Unknown                   1      None/Unknown                    234   \n",
       "1       Unknown                   1      None/Unknown                     84   \n",
       "2       Unknown                   1      None/Unknown                     15   \n",
       "3       Unknown                   1      None/Unknown                     23   \n",
       "\n",
       "  mean_sales week_mean_count_by_dep mean_count_by_dep preds  \n",
       "0  14.355581           24577.666667            1755.0   0.0  \n",
       "1  14.355581           24577.666667            1755.0   0.0  \n",
       "2  14.355581           24577.666667            1755.0   0.0  \n",
       "3  14.355581           24577.666667            1755.0   0.0  \n",
       "\n",
       "[4 rows x 30 columns]"
      ]
     },
     "execution_count": 30,
     "metadata": {},
     "output_type": "execute_result"
    }
   ],
   "source": [
    "X_train['preds'] = train_preds\n",
    "X_train.head(4)"
   ]
  },
  {
   "cell_type": "code",
   "execution_count": 31,
   "metadata": {},
   "outputs": [],
   "source": [
    "val_preds = lgb.predict_proba(data_val_lvl_2)\n"
   ]
  },
  {
   "cell_type": "code",
   "execution_count": 32,
   "metadata": {},
   "outputs": [],
   "source": [
    "# реальные покупки пользователей\n",
    "result_lvl_2 = data_val_lvl_2.groupby('user_id')['item_id'].unique().reset_index()\n",
    "result_lvl_2.columns=['user_id', 'actual']"
   ]
  },
  {
   "cell_type": "code",
   "execution_count": 33,
   "metadata": {},
   "outputs": [],
   "source": [
    "# предсказанные покупки пользователей, отранжированные в порядке убывания вероятности \n",
    "preds = data_val_lvl_2[['user_id', 'item_id']].copy()\n",
    "preds['proba'] = val_preds[:,1]\n",
    "preds = preds.groupby(['user_id', 'item_id'])['proba'].mean().reset_index()\n",
    "preds = preds.groupby('user_id').apply(lambda x: x.sort_values('proba', ascending=False)['item_id'].tolist())"
   ]
  },
  {
   "cell_type": "code",
   "execution_count": 34,
   "metadata": {},
   "outputs": [],
   "source": [
    "# функция дает N самых вероятных покупок пользователя, если значений не хватает добираем их из самых популярных\n",
    "def get_gbm_rec(user, N=5):\n",
    "    recs = preds[user][:N]\n",
    "    \n",
    "    top = data_val_lvl_2.groupby('item_id')['quantity'].mean().reset_index()\n",
    "    top.sort_values('quantity', ascending=False, inplace=True)\n",
    "    top = top['item_id'][top['item_id'] != 999999].tolist()\n",
    "      \n",
    "    if len(recs) < N:\n",
    "        recs.extend(top[:N-len(recs)])\n",
    "   \n",
    "    return recs"
   ]
  },
  {
   "cell_type": "code",
   "execution_count": 35,
   "metadata": {},
   "outputs": [],
   "source": [
    "users_lvl_2 = pd.DataFrame(data_train_lvl_2['user_id'].unique())\n",
    "users_lvl_2.columns = ['user_id']\n",
    "\n",
    "#Заполняем для каждого пользователя предсказаниямя N покупок \n",
    "train_users = data_train_lvl_1['user_id'].unique()\n",
    "users_lvl_2 = users_lvl_2[users_lvl_2['user_id'].isin(train_users)]\n",
    "\n",
    "result_lvl_2['gbm'] = result_lvl_2['user_id'].apply(lambda x: get_gbm_rec(x, N=50))"
   ]
  },
  {
   "cell_type": "code",
   "execution_count": 36,
   "metadata": {},
   "outputs": [
    {
     "data": {
      "text/html": [
       "<div>\n",
       "<style scoped>\n",
       "    .dataframe tbody tr th:only-of-type {\n",
       "        vertical-align: middle;\n",
       "    }\n",
       "\n",
       "    .dataframe tbody tr th {\n",
       "        vertical-align: top;\n",
       "    }\n",
       "\n",
       "    .dataframe thead th {\n",
       "        text-align: right;\n",
       "    }\n",
       "</style>\n",
       "<table border=\"1\" class=\"dataframe\">\n",
       "  <thead>\n",
       "    <tr style=\"text-align: right;\">\n",
       "      <th></th>\n",
       "      <th>user_id</th>\n",
       "      <th>actual</th>\n",
       "      <th>gbm</th>\n",
       "    </tr>\n",
       "  </thead>\n",
       "  <tbody>\n",
       "    <tr>\n",
       "      <th>0</th>\n",
       "      <td>1</td>\n",
       "      <td>[931860, 1049998, 15971874, 1002032, 1122428, ...</td>\n",
       "      <td>[821867, 834484, 1132231, 1131115, 1122428, 11...</td>\n",
       "    </tr>\n",
       "    <tr>\n",
       "      <th>1</th>\n",
       "      <td>3</td>\n",
       "      <td>[13842214, 851057, 879948, 994891, 7167218, 10...</td>\n",
       "      <td>[835476, 1053690, 9526886, 9526563, 7167249, 7...</td>\n",
       "    </tr>\n",
       "    <tr>\n",
       "      <th>2</th>\n",
       "      <td>6</td>\n",
       "      <td>[1006718, 7431990, 1108624, 1020683, 1104227, ...</td>\n",
       "      <td>[820165, 6553035, 1075214, 1078346, 1099058, 1...</td>\n",
       "    </tr>\n",
       "    <tr>\n",
       "      <th>3</th>\n",
       "      <td>7</td>\n",
       "      <td>[10255525, 994994, 1056418, 5571310, 14111027,...</td>\n",
       "      <td>[822049, 6424447, 6034857, 5592931, 5592610, 5...</td>\n",
       "    </tr>\n",
       "  </tbody>\n",
       "</table>\n",
       "</div>"
      ],
      "text/plain": [
       "   user_id                                             actual  \\\n",
       "0        1  [931860, 1049998, 15971874, 1002032, 1122428, ...   \n",
       "1        3  [13842214, 851057, 879948, 994891, 7167218, 10...   \n",
       "2        6  [1006718, 7431990, 1108624, 1020683, 1104227, ...   \n",
       "3        7  [10255525, 994994, 1056418, 5571310, 14111027,...   \n",
       "\n",
       "                                                 gbm  \n",
       "0  [821867, 834484, 1132231, 1131115, 1122428, 11...  \n",
       "1  [835476, 1053690, 9526886, 9526563, 7167249, 7...  \n",
       "2  [820165, 6553035, 1075214, 1078346, 1099058, 1...  \n",
       "3  [822049, 6424447, 6034857, 5592931, 5592610, 5...  "
      ]
     },
     "execution_count": 36,
     "metadata": {},
     "output_type": "execute_result"
    }
   ],
   "source": [
    "result_lvl_2.head(4)"
   ]
  },
  {
   "cell_type": "code",
   "execution_count": 37,
   "metadata": {},
   "outputs": [
    {
     "data": {
      "text/plain": [
       "0.6499510284035249"
      ]
     },
     "execution_count": 37,
     "metadata": {},
     "output_type": "execute_result"
    }
   ],
   "source": [
    "# считаем среднее значение точности предсказания\n",
    "result_lvl_2.apply(lambda row: precision_at_k(row['gbm'], row['actual'], k=50), axis=1).mean()"
   ]
  },
  {
   "cell_type": "markdown",
   "metadata": {},
   "source": [
    "Точность двух уровневой модели намного выше точности одноуровневой."
   ]
  }
 ],
 "metadata": {
  "kernelspec": {
   "display_name": "Python 3",
   "language": "python",
   "name": "python3"
  },
  "language_info": {
   "codemirror_mode": {
    "name": "ipython",
    "version": 3
   },
   "file_extension": ".py",
   "mimetype": "text/x-python",
   "name": "python",
   "nbconvert_exporter": "python",
   "pygments_lexer": "ipython3",
   "version": "3.8.5"
  }
 },
 "nbformat": 4,
 "nbformat_minor": 4
}
