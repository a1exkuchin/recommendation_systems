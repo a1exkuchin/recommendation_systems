{
 "cells": [
  {
   "cell_type": "code",
   "execution_count": 1,
   "metadata": {},
   "outputs": [],
   "source": [
    "import pandas as pd\n",
    "import numpy as np\n",
    "import matplotlib.pyplot as plt\n",
    "%matplotlib inline\n",
    "\n",
    "# Для работы с матрицами\n",
    "from scipy.sparse import csr_matrix\n",
    "\n",
    "# Матричная факторизация\n",
    "from implicit import als\n",
    "\n",
    "# Модель второго уровня\n",
    "from lightgbm import LGBMClassifier"
   ]
  },
  {
   "cell_type": "code",
   "execution_count": 2,
   "metadata": {},
   "outputs": [],
   "source": [
    "import os, sys\n",
    "module_path = os.path.abspath(os.path.join(os.pardir))\n",
    "if module_path not in sys.path:\n",
    "    sys.path.append(module_path)\n",
    "\n",
    "# Импортируем функции из src\n",
    "from src.metrics import precision_at_k, recall_at_k\n",
    "from src.utils import prefilter_items\n",
    "from src.recommenders import MainRecommender"
   ]
  },
  {
   "cell_type": "code",
   "execution_count": 3,
   "metadata": {},
   "outputs": [
    {
     "data": {
      "text/html": [
       "<div>\n",
       "<style scoped>\n",
       "    .dataframe tbody tr th:only-of-type {\n",
       "        vertical-align: middle;\n",
       "    }\n",
       "\n",
       "    .dataframe tbody tr th {\n",
       "        vertical-align: top;\n",
       "    }\n",
       "\n",
       "    .dataframe thead th {\n",
       "        text-align: right;\n",
       "    }\n",
       "</style>\n",
       "<table border=\"1\" class=\"dataframe\">\n",
       "  <thead>\n",
       "    <tr style=\"text-align: right;\">\n",
       "      <th></th>\n",
       "      <th>user_id</th>\n",
       "      <th>basket_id</th>\n",
       "      <th>day</th>\n",
       "      <th>item_id</th>\n",
       "      <th>quantity</th>\n",
       "      <th>sales_value</th>\n",
       "      <th>store_id</th>\n",
       "      <th>retail_disc</th>\n",
       "      <th>trans_time</th>\n",
       "      <th>week_no</th>\n",
       "      <th>coupon_disc</th>\n",
       "      <th>coupon_match_disc</th>\n",
       "    </tr>\n",
       "  </thead>\n",
       "  <tbody>\n",
       "    <tr>\n",
       "      <th>0</th>\n",
       "      <td>2375</td>\n",
       "      <td>26984851472</td>\n",
       "      <td>1</td>\n",
       "      <td>1004906</td>\n",
       "      <td>1</td>\n",
       "      <td>1.39</td>\n",
       "      <td>364</td>\n",
       "      <td>-0.6</td>\n",
       "      <td>1631</td>\n",
       "      <td>1</td>\n",
       "      <td>0.0</td>\n",
       "      <td>0.0</td>\n",
       "    </tr>\n",
       "    <tr>\n",
       "      <th>1</th>\n",
       "      <td>2375</td>\n",
       "      <td>26984851472</td>\n",
       "      <td>1</td>\n",
       "      <td>1033142</td>\n",
       "      <td>1</td>\n",
       "      <td>0.82</td>\n",
       "      <td>364</td>\n",
       "      <td>0.0</td>\n",
       "      <td>1631</td>\n",
       "      <td>1</td>\n",
       "      <td>0.0</td>\n",
       "      <td>0.0</td>\n",
       "    </tr>\n",
       "  </tbody>\n",
       "</table>\n",
       "</div>"
      ],
      "text/plain": [
       "   user_id    basket_id  day  item_id  quantity  sales_value  store_id  \\\n",
       "0     2375  26984851472    1  1004906         1         1.39       364   \n",
       "1     2375  26984851472    1  1033142         1         0.82       364   \n",
       "\n",
       "   retail_disc  trans_time  week_no  coupon_disc  coupon_match_disc  \n",
       "0         -0.6        1631        1          0.0                0.0  \n",
       "1          0.0        1631        1          0.0                0.0  "
      ]
     },
     "execution_count": 3,
     "metadata": {},
     "output_type": "execute_result"
    }
   ],
   "source": [
    "data = pd.read_csv('retail_train.csv')\n",
    "item_features = pd.read_csv('product.csv')\n",
    "user_features = pd.read_csv('hh_demographic.csv')\n",
    "\n",
    "# column processing\n",
    "item_features.columns = [col.lower() for col in item_features.columns]\n",
    "user_features.columns = [col.lower() for col in user_features.columns]\n",
    "\n",
    "item_features.rename(columns={'product_id': 'item_id'}, inplace=True)\n",
    "user_features.rename(columns={'household_key': 'user_id'}, inplace=True)\n",
    "\n",
    "\n",
    "# Важна схема обучения и валидации!\n",
    "# -- давние покупки -- | -- 6 недель -- | -- 3 недель -- \n",
    "# подобрать размер 2-ого датасета (6 недель) --> learning curve (зависимость метрики recall@k от размера датасета)\n",
    "val_lvl_1_size_weeks = 6\n",
    "val_lvl_2_size_weeks = 3\n",
    "\n",
    "data_train_lvl_1 = data[data['week_no'] < data['week_no'].max() - (val_lvl_1_size_weeks + val_lvl_2_size_weeks)]\n",
    "data_val_lvl_1 = data[(data['week_no'] >= data['week_no'].max() - (val_lvl_1_size_weeks + val_lvl_2_size_weeks)) &\n",
    "                      (data['week_no'] < data['week_no'].max() - (val_lvl_2_size_weeks))]\n",
    "\n",
    "data_train_lvl_2 = data_val_lvl_1.copy()  # Для наглядности. Далее мы добавим изменения, и они будут отличаться\n",
    "data_val_lvl_2 = data[data['week_no'] >= data['week_no'].max() - val_lvl_2_size_weeks]\n",
    "\n",
    "data_train_lvl_1.head(2)"
   ]
  },
  {
   "cell_type": "code",
   "execution_count": 4,
   "metadata": {},
   "outputs": [
    {
     "name": "stdout",
     "output_type": "stream",
     "text": [
      "Decreased # items from 83685 to 5001\n"
     ]
    }
   ],
   "source": [
    "n_items_before = data_train_lvl_1['item_id'].nunique()\n",
    "\n",
    "data_train_lvl_1 = prefilter_items(data_train_lvl_1, item_features=item_features, take_n_popular=5000)\n",
    "\n",
    "n_items_after = data_train_lvl_1['item_id'].nunique()\n",
    "print('Decreased # items from {} to {}'.format(n_items_before, n_items_after))"
   ]
  },
  {
   "cell_type": "code",
   "execution_count": 5,
   "metadata": {},
   "outputs": [
    {
     "name": "stderr",
     "output_type": "stream",
     "text": [
      "WARNING:root:Intel MKL BLAS detected. Its highly recommend to set the environment variable 'export MKL_NUM_THREADS=1' to disable its internal multithreading\n"
     ]
    },
    {
     "data": {
      "application/vnd.jupyter.widget-view+json": {
       "model_id": "637e771116174277aba536390b3237bf",
       "version_major": 2,
       "version_minor": 0
      },
      "text/plain": [
       "HBox(children=(HTML(value=''), FloatProgress(value=0.0, max=15.0), HTML(value='')))"
      ]
     },
     "metadata": {},
     "output_type": "display_data"
    },
    {
     "name": "stdout",
     "output_type": "stream",
     "text": [
      "\n"
     ]
    },
    {
     "data": {
      "application/vnd.jupyter.widget-view+json": {
       "model_id": "2683f46b57854ed4a8bf75eca80b5d33",
       "version_major": 2,
       "version_minor": 0
      },
      "text/plain": [
       "HBox(children=(HTML(value=''), FloatProgress(value=0.0, max=5001.0), HTML(value='')))"
      ]
     },
     "metadata": {},
     "output_type": "display_data"
    },
    {
     "name": "stdout",
     "output_type": "stream",
     "text": [
      "\n"
     ]
    }
   ],
   "source": [
    "recommender = MainRecommender(data_train_lvl_1)"
   ]
  },
  {
   "cell_type": "markdown",
   "metadata": {},
   "source": [
    "### Задание 1\n",
    "\n",
    "A) Попробуйте различные варианты генерации кандидатов. Какие из них дают наибольший recall@k ?\n",
    "- Пока пробуем отобрать 50 кандидатов (k=50)\n",
    "- Качество измеряем на data_val_lvl_1: следующие 6 недель после трейна\n",
    "\n",
    "Дают ли own recommendtions + top-popular лучший recall?  \n",
    "\n",
    "B)* Как зависит recall@k от k? Постройте для одной схемы генерации кандидатов эту зависимость для k = {20, 50, 100, 200, 500}  \n",
    "C)* Исходя из прошлого вопроса, как вы думаете, какое значение k является наиболее разумным?"
   ]
  },
  {
   "cell_type": "code",
   "execution_count": 10,
   "metadata": {},
   "outputs": [
    {
     "data": {
      "text/html": [
       "<div>\n",
       "<style scoped>\n",
       "    .dataframe tbody tr th:only-of-type {\n",
       "        vertical-align: middle;\n",
       "    }\n",
       "\n",
       "    .dataframe tbody tr th {\n",
       "        vertical-align: top;\n",
       "    }\n",
       "\n",
       "    .dataframe thead th {\n",
       "        text-align: right;\n",
       "    }\n",
       "</style>\n",
       "<table border=\"1\" class=\"dataframe\">\n",
       "  <thead>\n",
       "    <tr style=\"text-align: right;\">\n",
       "      <th></th>\n",
       "      <th>user_id</th>\n",
       "      <th>actual</th>\n",
       "    </tr>\n",
       "  </thead>\n",
       "  <tbody>\n",
       "    <tr>\n",
       "      <th>0</th>\n",
       "      <td>1</td>\n",
       "      <td>[853529, 865456, 867607, 872137, 874905, 87524...</td>\n",
       "    </tr>\n",
       "    <tr>\n",
       "      <th>1</th>\n",
       "      <td>2</td>\n",
       "      <td>[15830248, 838136, 839656, 861272, 866211, 870...</td>\n",
       "    </tr>\n",
       "  </tbody>\n",
       "</table>\n",
       "</div>"
      ],
      "text/plain": [
       "   user_id                                             actual\n",
       "0        1  [853529, 865456, 867607, 872137, 874905, 87524...\n",
       "1        2  [15830248, 838136, 839656, 861272, 866211, 870..."
      ]
     },
     "execution_count": 10,
     "metadata": {},
     "output_type": "execute_result"
    }
   ],
   "source": [
    "result_lvl_1 = data_val_lvl_1.groupby('user_id')['item_id'].unique().reset_index()\n",
    "result_lvl_1.columns=['user_id', 'actual']\n",
    "result_lvl_1.head(2)"
   ]
  },
  {
   "cell_type": "code",
   "execution_count": 11,
   "metadata": {},
   "outputs": [],
   "source": [
    "# генерируем 50 кандидатов, используя similar_items_recommendation\n",
    "result_lvl_1['similar_items'] = result_lvl_1['user_id'].apply(lambda x: recommender.get_similar_items_recommendation(x, N=50))"
   ]
  },
  {
   "cell_type": "code",
   "execution_count": 12,
   "metadata": {},
   "outputs": [
    {
     "data": {
      "text/html": [
       "<div>\n",
       "<style scoped>\n",
       "    .dataframe tbody tr th:only-of-type {\n",
       "        vertical-align: middle;\n",
       "    }\n",
       "\n",
       "    .dataframe tbody tr th {\n",
       "        vertical-align: top;\n",
       "    }\n",
       "\n",
       "    .dataframe thead th {\n",
       "        text-align: right;\n",
       "    }\n",
       "</style>\n",
       "<table border=\"1\" class=\"dataframe\">\n",
       "  <thead>\n",
       "    <tr style=\"text-align: right;\">\n",
       "      <th></th>\n",
       "      <th>user_id</th>\n",
       "      <th>actual</th>\n",
       "      <th>similar_items</th>\n",
       "    </tr>\n",
       "  </thead>\n",
       "  <tbody>\n",
       "    <tr>\n",
       "      <th>0</th>\n",
       "      <td>1</td>\n",
       "      <td>[853529, 865456, 867607, 872137, 874905, 87524...</td>\n",
       "      <td>[825665, 840890, 8119134, 1036852, 1061747, 98...</td>\n",
       "    </tr>\n",
       "    <tr>\n",
       "      <th>1</th>\n",
       "      <td>2</td>\n",
       "      <td>[15830248, 838136, 839656, 861272, 866211, 870...</td>\n",
       "      <td>[8090509, 5569845, 917816, 985999, 880888, 819...</td>\n",
       "    </tr>\n",
       "    <tr>\n",
       "      <th>2</th>\n",
       "      <td>4</td>\n",
       "      <td>[883932, 970760, 1035676, 1055863, 1097610, 67...</td>\n",
       "      <td>[944852, 7441210, 1011457, 892503, 995151, 100...</td>\n",
       "    </tr>\n",
       "    <tr>\n",
       "      <th>3</th>\n",
       "      <td>6</td>\n",
       "      <td>[1024306, 1102949, 6548453, 835394, 940804, 96...</td>\n",
       "      <td>[948650, 5569845, 890739, 941361, 983584, 1105...</td>\n",
       "    </tr>\n",
       "  </tbody>\n",
       "</table>\n",
       "</div>"
      ],
      "text/plain": [
       "   user_id                                             actual  \\\n",
       "0        1  [853529, 865456, 867607, 872137, 874905, 87524...   \n",
       "1        2  [15830248, 838136, 839656, 861272, 866211, 870...   \n",
       "2        4  [883932, 970760, 1035676, 1055863, 1097610, 67...   \n",
       "3        6  [1024306, 1102949, 6548453, 835394, 940804, 96...   \n",
       "\n",
       "                                       similar_items  \n",
       "0  [825665, 840890, 8119134, 1036852, 1061747, 98...  \n",
       "1  [8090509, 5569845, 917816, 985999, 880888, 819...  \n",
       "2  [944852, 7441210, 1011457, 892503, 995151, 100...  \n",
       "3  [948650, 5569845, 890739, 941361, 983584, 1105...  "
      ]
     },
     "execution_count": 12,
     "metadata": {},
     "output_type": "execute_result"
    }
   ],
   "source": [
    "result_lvl_1.head(4)"
   ]
  },
  {
   "cell_type": "code",
   "execution_count": 13,
   "metadata": {},
   "outputs": [],
   "source": [
    "# генерируем 50 кандидатов, используя als\n",
    "result_lvl_1['als'] = result_lvl_1['user_id'].apply(lambda x: recommender.get_als_recommendations(x, N=50))"
   ]
  },
  {
   "cell_type": "code",
   "execution_count": 14,
   "metadata": {},
   "outputs": [
    {
     "data": {
      "text/html": [
       "<div>\n",
       "<style scoped>\n",
       "    .dataframe tbody tr th:only-of-type {\n",
       "        vertical-align: middle;\n",
       "    }\n",
       "\n",
       "    .dataframe tbody tr th {\n",
       "        vertical-align: top;\n",
       "    }\n",
       "\n",
       "    .dataframe thead th {\n",
       "        text-align: right;\n",
       "    }\n",
       "</style>\n",
       "<table border=\"1\" class=\"dataframe\">\n",
       "  <thead>\n",
       "    <tr style=\"text-align: right;\">\n",
       "      <th></th>\n",
       "      <th>user_id</th>\n",
       "      <th>actual</th>\n",
       "      <th>similar_items</th>\n",
       "      <th>als</th>\n",
       "    </tr>\n",
       "  </thead>\n",
       "  <tbody>\n",
       "    <tr>\n",
       "      <th>0</th>\n",
       "      <td>1</td>\n",
       "      <td>[853529, 865456, 867607, 872137, 874905, 87524...</td>\n",
       "      <td>[825665, 840890, 8119134, 1036852, 1061747, 98...</td>\n",
       "      <td>[8090541, 5569374, 841584, 920200, 6533608, 80...</td>\n",
       "    </tr>\n",
       "    <tr>\n",
       "      <th>1</th>\n",
       "      <td>2</td>\n",
       "      <td>[15830248, 838136, 839656, 861272, 866211, 870...</td>\n",
       "      <td>[8090509, 5569845, 917816, 985999, 880888, 819...</td>\n",
       "      <td>[916122, 1127831, 826835, 1004906, 866211, 992...</td>\n",
       "    </tr>\n",
       "    <tr>\n",
       "      <th>2</th>\n",
       "      <td>4</td>\n",
       "      <td>[883932, 970760, 1035676, 1055863, 1097610, 67...</td>\n",
       "      <td>[944852, 7441210, 1011457, 892503, 995151, 100...</td>\n",
       "      <td>[1121367, 910032, 863885, 906524, 1037387, 853...</td>\n",
       "    </tr>\n",
       "    <tr>\n",
       "      <th>3</th>\n",
       "      <td>6</td>\n",
       "      <td>[1024306, 1102949, 6548453, 835394, 940804, 96...</td>\n",
       "      <td>[948650, 5569845, 890739, 941361, 983584, 1105...</td>\n",
       "      <td>[1084036, 819840, 951834, 1026118, 6979393, 74...</td>\n",
       "    </tr>\n",
       "  </tbody>\n",
       "</table>\n",
       "</div>"
      ],
      "text/plain": [
       "   user_id                                             actual  \\\n",
       "0        1  [853529, 865456, 867607, 872137, 874905, 87524...   \n",
       "1        2  [15830248, 838136, 839656, 861272, 866211, 870...   \n",
       "2        4  [883932, 970760, 1035676, 1055863, 1097610, 67...   \n",
       "3        6  [1024306, 1102949, 6548453, 835394, 940804, 96...   \n",
       "\n",
       "                                       similar_items  \\\n",
       "0  [825665, 840890, 8119134, 1036852, 1061747, 98...   \n",
       "1  [8090509, 5569845, 917816, 985999, 880888, 819...   \n",
       "2  [944852, 7441210, 1011457, 892503, 995151, 100...   \n",
       "3  [948650, 5569845, 890739, 941361, 983584, 1105...   \n",
       "\n",
       "                                                 als  \n",
       "0  [8090541, 5569374, 841584, 920200, 6533608, 80...  \n",
       "1  [916122, 1127831, 826835, 1004906, 866211, 992...  \n",
       "2  [1121367, 910032, 863885, 906524, 1037387, 853...  \n",
       "3  [1084036, 819840, 951834, 1026118, 6979393, 74...  "
      ]
     },
     "execution_count": 14,
     "metadata": {},
     "output_type": "execute_result"
    }
   ],
   "source": [
    "result_lvl_1.head(4)"
   ]
  },
  {
   "cell_type": "code",
   "execution_count": 15,
   "metadata": {},
   "outputs": [
    {
     "name": "stdout",
     "output_type": "stream",
     "text": [
      "Wall time: 7min 14s\n"
     ]
    }
   ],
   "source": [
    "%%time\n",
    "# генерируем 50 кандидатов, используя get_similar_users_recommendation\n",
    "result_lvl_1['similar_users'] = result_lvl_1['user_id'].apply(lambda x: recommender.get_similar_users_recommendation(x, N=50))"
   ]
  },
  {
   "cell_type": "code",
   "execution_count": 16,
   "metadata": {},
   "outputs": [
    {
     "data": {
      "text/html": [
       "<div>\n",
       "<style scoped>\n",
       "    .dataframe tbody tr th:only-of-type {\n",
       "        vertical-align: middle;\n",
       "    }\n",
       "\n",
       "    .dataframe tbody tr th {\n",
       "        vertical-align: top;\n",
       "    }\n",
       "\n",
       "    .dataframe thead th {\n",
       "        text-align: right;\n",
       "    }\n",
       "</style>\n",
       "<table border=\"1\" class=\"dataframe\">\n",
       "  <thead>\n",
       "    <tr style=\"text-align: right;\">\n",
       "      <th></th>\n",
       "      <th>user_id</th>\n",
       "      <th>actual</th>\n",
       "      <th>similar_items</th>\n",
       "      <th>als</th>\n",
       "      <th>similar_users</th>\n",
       "    </tr>\n",
       "  </thead>\n",
       "  <tbody>\n",
       "    <tr>\n",
       "      <th>0</th>\n",
       "      <td>1</td>\n",
       "      <td>[853529, 865456, 867607, 872137, 874905, 87524...</td>\n",
       "      <td>[825665, 840890, 8119134, 1036852, 1061747, 98...</td>\n",
       "      <td>[8090541, 5569374, 841584, 920200, 6533608, 80...</td>\n",
       "      <td>[9677462, 1076247, 5570974, 5570513, 1016785, ...</td>\n",
       "    </tr>\n",
       "    <tr>\n",
       "      <th>1</th>\n",
       "      <td>2</td>\n",
       "      <td>[15830248, 838136, 839656, 861272, 866211, 870...</td>\n",
       "      <td>[8090509, 5569845, 917816, 985999, 880888, 819...</td>\n",
       "      <td>[916122, 1127831, 826835, 1004906, 866211, 992...</td>\n",
       "      <td>[1098152, 1102250, 920528, 1062283, 1064752, 1...</td>\n",
       "    </tr>\n",
       "    <tr>\n",
       "      <th>2</th>\n",
       "      <td>4</td>\n",
       "      <td>[883932, 970760, 1035676, 1055863, 1097610, 67...</td>\n",
       "      <td>[944852, 7441210, 1011457, 892503, 995151, 100...</td>\n",
       "      <td>[1121367, 910032, 863885, 906524, 1037387, 853...</td>\n",
       "      <td>[944588, 905353, 1131384, 1021416, 871563, 825...</td>\n",
       "    </tr>\n",
       "    <tr>\n",
       "      <th>3</th>\n",
       "      <td>6</td>\n",
       "      <td>[1024306, 1102949, 6548453, 835394, 940804, 96...</td>\n",
       "      <td>[948650, 5569845, 890739, 941361, 983584, 1105...</td>\n",
       "      <td>[1084036, 819840, 951834, 1026118, 6979393, 74...</td>\n",
       "      <td>[1113675, 5995953, 7442505, 6979393, 853449, 7...</td>\n",
       "    </tr>\n",
       "  </tbody>\n",
       "</table>\n",
       "</div>"
      ],
      "text/plain": [
       "   user_id                                             actual  \\\n",
       "0        1  [853529, 865456, 867607, 872137, 874905, 87524...   \n",
       "1        2  [15830248, 838136, 839656, 861272, 866211, 870...   \n",
       "2        4  [883932, 970760, 1035676, 1055863, 1097610, 67...   \n",
       "3        6  [1024306, 1102949, 6548453, 835394, 940804, 96...   \n",
       "\n",
       "                                       similar_items  \\\n",
       "0  [825665, 840890, 8119134, 1036852, 1061747, 98...   \n",
       "1  [8090509, 5569845, 917816, 985999, 880888, 819...   \n",
       "2  [944852, 7441210, 1011457, 892503, 995151, 100...   \n",
       "3  [948650, 5569845, 890739, 941361, 983584, 1105...   \n",
       "\n",
       "                                                 als  \\\n",
       "0  [8090541, 5569374, 841584, 920200, 6533608, 80...   \n",
       "1  [916122, 1127831, 826835, 1004906, 866211, 992...   \n",
       "2  [1121367, 910032, 863885, 906524, 1037387, 853...   \n",
       "3  [1084036, 819840, 951834, 1026118, 6979393, 74...   \n",
       "\n",
       "                                       similar_users  \n",
       "0  [9677462, 1076247, 5570974, 5570513, 1016785, ...  \n",
       "1  [1098152, 1102250, 920528, 1062283, 1064752, 1...  \n",
       "2  [944588, 905353, 1131384, 1021416, 871563, 825...  \n",
       "3  [1113675, 5995953, 7442505, 6979393, 853449, 7...  "
      ]
     },
     "execution_count": 16,
     "metadata": {},
     "output_type": "execute_result"
    }
   ],
   "source": [
    "result_lvl_1.head(4)"
   ]
  },
  {
   "cell_type": "code",
   "execution_count": 19,
   "metadata": {},
   "outputs": [],
   "source": [
    "# генерируем 50 кандидатов, используя own_recommendations\n",
    "result_lvl_1['own'] = result_lvl_1['user_id'].apply(lambda x: recommender.get_own_recommendations(x, N=50))"
   ]
  },
  {
   "cell_type": "code",
   "execution_count": 20,
   "metadata": {},
   "outputs": [
    {
     "data": {
      "text/html": [
       "<div>\n",
       "<style scoped>\n",
       "    .dataframe tbody tr th:only-of-type {\n",
       "        vertical-align: middle;\n",
       "    }\n",
       "\n",
       "    .dataframe tbody tr th {\n",
       "        vertical-align: top;\n",
       "    }\n",
       "\n",
       "    .dataframe thead th {\n",
       "        text-align: right;\n",
       "    }\n",
       "</style>\n",
       "<table border=\"1\" class=\"dataframe\">\n",
       "  <thead>\n",
       "    <tr style=\"text-align: right;\">\n",
       "      <th></th>\n",
       "      <th>user_id</th>\n",
       "      <th>actual</th>\n",
       "      <th>similar_items</th>\n",
       "      <th>als</th>\n",
       "      <th>similar_users</th>\n",
       "      <th>own</th>\n",
       "    </tr>\n",
       "  </thead>\n",
       "  <tbody>\n",
       "    <tr>\n",
       "      <th>0</th>\n",
       "      <td>1</td>\n",
       "      <td>[853529, 865456, 867607, 872137, 874905, 87524...</td>\n",
       "      <td>[825665, 840890, 8119134, 1036852, 1061747, 98...</td>\n",
       "      <td>[8090541, 5569374, 841584, 920200, 6533608, 80...</td>\n",
       "      <td>[9677462, 1076247, 5570974, 5570513, 1016785, ...</td>\n",
       "      <td>[922281, 962967, 6514011, 9296837, 8090541, 10...</td>\n",
       "    </tr>\n",
       "    <tr>\n",
       "      <th>1</th>\n",
       "      <td>2</td>\n",
       "      <td>[15830248, 838136, 839656, 861272, 866211, 870...</td>\n",
       "      <td>[8090509, 5569845, 917816, 985999, 880888, 819...</td>\n",
       "      <td>[916122, 1127831, 826835, 1004906, 866211, 992...</td>\n",
       "      <td>[1098152, 1102250, 920528, 1062283, 1064752, 1...</td>\n",
       "      <td>[976652, 988508, 5567582, 1131634, 945901, 927...</td>\n",
       "    </tr>\n",
       "    <tr>\n",
       "      <th>2</th>\n",
       "      <td>4</td>\n",
       "      <td>[883932, 970760, 1035676, 1055863, 1097610, 67...</td>\n",
       "      <td>[944852, 7441210, 1011457, 892503, 995151, 100...</td>\n",
       "      <td>[1121367, 910032, 863885, 906524, 1037387, 853...</td>\n",
       "      <td>[944588, 905353, 1131384, 1021416, 871563, 825...</td>\n",
       "      <td>[6391541, 936470, 939907, 9677093, 1121367, 10...</td>\n",
       "    </tr>\n",
       "    <tr>\n",
       "      <th>3</th>\n",
       "      <td>6</td>\n",
       "      <td>[1024306, 1102949, 6548453, 835394, 940804, 96...</td>\n",
       "      <td>[948650, 5569845, 890739, 941361, 983584, 1105...</td>\n",
       "      <td>[1084036, 819840, 951834, 1026118, 6979393, 74...</td>\n",
       "      <td>[1113675, 5995953, 7442505, 6979393, 853449, 7...</td>\n",
       "      <td>[12757544, 829685, 923600, 6979393, 880530, 99...</td>\n",
       "    </tr>\n",
       "  </tbody>\n",
       "</table>\n",
       "</div>"
      ],
      "text/plain": [
       "   user_id                                             actual  \\\n",
       "0        1  [853529, 865456, 867607, 872137, 874905, 87524...   \n",
       "1        2  [15830248, 838136, 839656, 861272, 866211, 870...   \n",
       "2        4  [883932, 970760, 1035676, 1055863, 1097610, 67...   \n",
       "3        6  [1024306, 1102949, 6548453, 835394, 940804, 96...   \n",
       "\n",
       "                                       similar_items  \\\n",
       "0  [825665, 840890, 8119134, 1036852, 1061747, 98...   \n",
       "1  [8090509, 5569845, 917816, 985999, 880888, 819...   \n",
       "2  [944852, 7441210, 1011457, 892503, 995151, 100...   \n",
       "3  [948650, 5569845, 890739, 941361, 983584, 1105...   \n",
       "\n",
       "                                                 als  \\\n",
       "0  [8090541, 5569374, 841584, 920200, 6533608, 80...   \n",
       "1  [916122, 1127831, 826835, 1004906, 866211, 992...   \n",
       "2  [1121367, 910032, 863885, 906524, 1037387, 853...   \n",
       "3  [1084036, 819840, 951834, 1026118, 6979393, 74...   \n",
       "\n",
       "                                       similar_users  \\\n",
       "0  [9677462, 1076247, 5570974, 5570513, 1016785, ...   \n",
       "1  [1098152, 1102250, 920528, 1062283, 1064752, 1...   \n",
       "2  [944588, 905353, 1131384, 1021416, 871563, 825...   \n",
       "3  [1113675, 5995953, 7442505, 6979393, 853449, 7...   \n",
       "\n",
       "                                                 own  \n",
       "0  [922281, 962967, 6514011, 9296837, 8090541, 10...  \n",
       "1  [976652, 988508, 5567582, 1131634, 945901, 927...  \n",
       "2  [6391541, 936470, 939907, 9677093, 1121367, 10...  \n",
       "3  [12757544, 829685, 923600, 6979393, 880530, 99...  "
      ]
     },
     "execution_count": 20,
     "metadata": {},
     "output_type": "execute_result"
    }
   ],
   "source": [
    "result_lvl_1.head(4)"
   ]
  },
  {
   "cell_type": "code",
   "execution_count": 22,
   "metadata": {},
   "outputs": [
    {
     "data": {
      "text/plain": [
       "{'similar_items': 0.005610131974179749,\n",
       " 'als': 0.009926919460015766,\n",
       " 'similar_users': 0.0007393203113854158,\n",
       " 'own': 0.009511956261990253}"
      ]
     },
     "execution_count": 22,
     "metadata": {},
     "output_type": "execute_result"
    }
   ],
   "source": [
    "# измеряем качество на data_val_lvl_1 с помощью recall@k\n",
    "methods = ['similar_items', 'als', 'similar_users', 'own']\n",
    "recall = dict()\n",
    "for method in methods:\n",
    "    recall[method] = result_lvl_1.apply(lambda row: recall_at_k(row[method], row['actual']), axis=1).mean()\n",
    "\n",
    "recall"
   ]
  },
  {
   "cell_type": "markdown",
   "metadata": {},
   "source": [
    "Как и als метод own recommendtions дают лучшие значения recall@k."
   ]
  },
  {
   "cell_type": "code",
   "execution_count": 25,
   "metadata": {},
   "outputs": [
    {
     "name": "stdout",
     "output_type": "stream",
     "text": [
      "Wall time: 1min 13s\n"
     ]
    },
    {
     "data": {
      "text/html": [
       "<div>\n",
       "<style scoped>\n",
       "    .dataframe tbody tr th:only-of-type {\n",
       "        vertical-align: middle;\n",
       "    }\n",
       "\n",
       "    .dataframe tbody tr th {\n",
       "        vertical-align: top;\n",
       "    }\n",
       "\n",
       "    .dataframe thead th {\n",
       "        text-align: right;\n",
       "    }\n",
       "</style>\n",
       "<table border=\"1\" class=\"dataframe\">\n",
       "  <thead>\n",
       "    <tr style=\"text-align: right;\">\n",
       "      <th></th>\n",
       "      <th>user_id</th>\n",
       "      <th>actual</th>\n",
       "      <th>similar_items</th>\n",
       "      <th>als</th>\n",
       "      <th>similar_users</th>\n",
       "      <th>own</th>\n",
       "      <th>als_20</th>\n",
       "      <th>als_50</th>\n",
       "      <th>als_100</th>\n",
       "      <th>als_200</th>\n",
       "      <th>als_500</th>\n",
       "      <th>als_1</th>\n",
       "      <th>als_5</th>\n",
       "      <th>als_10</th>\n",
       "    </tr>\n",
       "  </thead>\n",
       "  <tbody>\n",
       "    <tr>\n",
       "      <th>0</th>\n",
       "      <td>1</td>\n",
       "      <td>[853529, 865456, 867607, 872137, 874905, 87524...</td>\n",
       "      <td>[825665, 840890, 8119134, 1036852, 1061747, 98...</td>\n",
       "      <td>[8090541, 5569374, 841584, 920200, 6533608, 80...</td>\n",
       "      <td>[9677462, 1076247, 5570974, 5570513, 1016785, ...</td>\n",
       "      <td>[922281, 962967, 6514011, 9296837, 8090541, 10...</td>\n",
       "      <td>[8090541, 5569374, 841584, 920200, 6533608, 80...</td>\n",
       "      <td>[8090541, 5569374, 841584, 920200, 6533608, 80...</td>\n",
       "      <td>[8090541, 5569374, 841584, 920200, 6533608, 80...</td>\n",
       "      <td>[8090541, 5569374, 841584, 920200, 6533608, 80...</td>\n",
       "      <td>[8090541, 5569374, 841584, 920200, 6533608, 80...</td>\n",
       "      <td>[8090541]</td>\n",
       "      <td>[8090541, 5569374, 841584, 920200, 6533608]</td>\n",
       "      <td>[8090541, 5569374, 841584, 920200, 6533608, 80...</td>\n",
       "    </tr>\n",
       "    <tr>\n",
       "      <th>1</th>\n",
       "      <td>2</td>\n",
       "      <td>[15830248, 838136, 839656, 861272, 866211, 870...</td>\n",
       "      <td>[8090509, 5569845, 917816, 985999, 880888, 819...</td>\n",
       "      <td>[916122, 1127831, 826835, 1004906, 866211, 992...</td>\n",
       "      <td>[1098152, 1102250, 920528, 1062283, 1064752, 1...</td>\n",
       "      <td>[976652, 988508, 5567582, 1131634, 945901, 927...</td>\n",
       "      <td>[916122, 1127831, 826835, 1004906, 866211, 992...</td>\n",
       "      <td>[916122, 1127831, 826835, 1004906, 866211, 992...</td>\n",
       "      <td>[916122, 1127831, 826835, 1004906, 866211, 992...</td>\n",
       "      <td>[916122, 1127831, 826835, 1004906, 866211, 992...</td>\n",
       "      <td>[916122, 1127831, 826835, 1004906, 866211, 992...</td>\n",
       "      <td>[916122]</td>\n",
       "      <td>[916122, 1127831, 826835, 1004906, 866211]</td>\n",
       "      <td>[916122, 1127831, 826835, 1004906, 866211, 992...</td>\n",
       "    </tr>\n",
       "    <tr>\n",
       "      <th>2</th>\n",
       "      <td>4</td>\n",
       "      <td>[883932, 970760, 1035676, 1055863, 1097610, 67...</td>\n",
       "      <td>[944852, 7441210, 1011457, 892503, 995151, 100...</td>\n",
       "      <td>[1121367, 910032, 863885, 906524, 1037387, 853...</td>\n",
       "      <td>[944588, 905353, 1131384, 1021416, 871563, 825...</td>\n",
       "      <td>[6391541, 936470, 939907, 9677093, 1121367, 10...</td>\n",
       "      <td>[1121367, 910032, 863885, 906524, 1037387, 853...</td>\n",
       "      <td>[1121367, 910032, 863885, 906524, 1037387, 853...</td>\n",
       "      <td>[1121367, 910032, 863885, 906524, 1037387, 853...</td>\n",
       "      <td>[1121367, 910032, 863885, 906524, 1037387, 853...</td>\n",
       "      <td>[1121367, 910032, 863885, 906524, 1037387, 853...</td>\n",
       "      <td>[1121367]</td>\n",
       "      <td>[1121367, 910032, 863885, 906524, 1037387]</td>\n",
       "      <td>[1121367, 910032, 863885, 906524, 1037387, 853...</td>\n",
       "    </tr>\n",
       "    <tr>\n",
       "      <th>3</th>\n",
       "      <td>6</td>\n",
       "      <td>[1024306, 1102949, 6548453, 835394, 940804, 96...</td>\n",
       "      <td>[948650, 5569845, 890739, 941361, 983584, 1105...</td>\n",
       "      <td>[1084036, 819840, 951834, 1026118, 6979393, 74...</td>\n",
       "      <td>[1113675, 5995953, 7442505, 6979393, 853449, 7...</td>\n",
       "      <td>[12757544, 829685, 923600, 6979393, 880530, 99...</td>\n",
       "      <td>[1084036, 819840, 951834, 1026118, 6979393, 74...</td>\n",
       "      <td>[1084036, 819840, 951834, 1026118, 6979393, 74...</td>\n",
       "      <td>[1084036, 819840, 951834, 1026118, 6979393, 74...</td>\n",
       "      <td>[1084036, 819840, 951834, 1026118, 6979393, 74...</td>\n",
       "      <td>[1084036, 819840, 951834, 1026118, 6979393, 74...</td>\n",
       "      <td>[1084036]</td>\n",
       "      <td>[1084036, 819840, 951834, 1026118, 6979393]</td>\n",
       "      <td>[1084036, 819840, 951834, 1026118, 6979393, 74...</td>\n",
       "    </tr>\n",
       "  </tbody>\n",
       "</table>\n",
       "</div>"
      ],
      "text/plain": [
       "   user_id                                             actual  \\\n",
       "0        1  [853529, 865456, 867607, 872137, 874905, 87524...   \n",
       "1        2  [15830248, 838136, 839656, 861272, 866211, 870...   \n",
       "2        4  [883932, 970760, 1035676, 1055863, 1097610, 67...   \n",
       "3        6  [1024306, 1102949, 6548453, 835394, 940804, 96...   \n",
       "\n",
       "                                       similar_items  \\\n",
       "0  [825665, 840890, 8119134, 1036852, 1061747, 98...   \n",
       "1  [8090509, 5569845, 917816, 985999, 880888, 819...   \n",
       "2  [944852, 7441210, 1011457, 892503, 995151, 100...   \n",
       "3  [948650, 5569845, 890739, 941361, 983584, 1105...   \n",
       "\n",
       "                                                 als  \\\n",
       "0  [8090541, 5569374, 841584, 920200, 6533608, 80...   \n",
       "1  [916122, 1127831, 826835, 1004906, 866211, 992...   \n",
       "2  [1121367, 910032, 863885, 906524, 1037387, 853...   \n",
       "3  [1084036, 819840, 951834, 1026118, 6979393, 74...   \n",
       "\n",
       "                                       similar_users  \\\n",
       "0  [9677462, 1076247, 5570974, 5570513, 1016785, ...   \n",
       "1  [1098152, 1102250, 920528, 1062283, 1064752, 1...   \n",
       "2  [944588, 905353, 1131384, 1021416, 871563, 825...   \n",
       "3  [1113675, 5995953, 7442505, 6979393, 853449, 7...   \n",
       "\n",
       "                                                 own  \\\n",
       "0  [922281, 962967, 6514011, 9296837, 8090541, 10...   \n",
       "1  [976652, 988508, 5567582, 1131634, 945901, 927...   \n",
       "2  [6391541, 936470, 939907, 9677093, 1121367, 10...   \n",
       "3  [12757544, 829685, 923600, 6979393, 880530, 99...   \n",
       "\n",
       "                                              als_20  \\\n",
       "0  [8090541, 5569374, 841584, 920200, 6533608, 80...   \n",
       "1  [916122, 1127831, 826835, 1004906, 866211, 992...   \n",
       "2  [1121367, 910032, 863885, 906524, 1037387, 853...   \n",
       "3  [1084036, 819840, 951834, 1026118, 6979393, 74...   \n",
       "\n",
       "                                              als_50  \\\n",
       "0  [8090541, 5569374, 841584, 920200, 6533608, 80...   \n",
       "1  [916122, 1127831, 826835, 1004906, 866211, 992...   \n",
       "2  [1121367, 910032, 863885, 906524, 1037387, 853...   \n",
       "3  [1084036, 819840, 951834, 1026118, 6979393, 74...   \n",
       "\n",
       "                                             als_100  \\\n",
       "0  [8090541, 5569374, 841584, 920200, 6533608, 80...   \n",
       "1  [916122, 1127831, 826835, 1004906, 866211, 992...   \n",
       "2  [1121367, 910032, 863885, 906524, 1037387, 853...   \n",
       "3  [1084036, 819840, 951834, 1026118, 6979393, 74...   \n",
       "\n",
       "                                             als_200  \\\n",
       "0  [8090541, 5569374, 841584, 920200, 6533608, 80...   \n",
       "1  [916122, 1127831, 826835, 1004906, 866211, 992...   \n",
       "2  [1121367, 910032, 863885, 906524, 1037387, 853...   \n",
       "3  [1084036, 819840, 951834, 1026118, 6979393, 74...   \n",
       "\n",
       "                                             als_500      als_1  \\\n",
       "0  [8090541, 5569374, 841584, 920200, 6533608, 80...  [8090541]   \n",
       "1  [916122, 1127831, 826835, 1004906, 866211, 992...   [916122]   \n",
       "2  [1121367, 910032, 863885, 906524, 1037387, 853...  [1121367]   \n",
       "3  [1084036, 819840, 951834, 1026118, 6979393, 74...  [1084036]   \n",
       "\n",
       "                                         als_5  \\\n",
       "0  [8090541, 5569374, 841584, 920200, 6533608]   \n",
       "1   [916122, 1127831, 826835, 1004906, 866211]   \n",
       "2   [1121367, 910032, 863885, 906524, 1037387]   \n",
       "3  [1084036, 819840, 951834, 1026118, 6979393]   \n",
       "\n",
       "                                              als_10  \n",
       "0  [8090541, 5569374, 841584, 920200, 6533608, 80...  \n",
       "1  [916122, 1127831, 826835, 1004906, 866211, 992...  \n",
       "2  [1121367, 910032, 863885, 906524, 1037387, 853...  \n",
       "3  [1084036, 819840, 951834, 1026118, 6979393, 74...  "
      ]
     },
     "execution_count": 25,
     "metadata": {},
     "output_type": "execute_result"
    }
   ],
   "source": [
    "%%time\n",
    "\n",
    "params = [1, 5, 10, 50, 100, 200]\n",
    "\n",
    "for param in params:\n",
    "    result_lvl_1[f'als_{param}'] = result_lvl_1['user_id'].apply(lambda x: recommender.get_als_recommendations(x, N=param))\n",
    "\n",
    "result_lvl_1.head(4)"
   ]
  },
  {
   "cell_type": "code",
   "execution_count": 26,
   "metadata": {},
   "outputs": [
    {
     "data": {
      "text/plain": [
       "{'als_1': 0.0029556691012702606,\n",
       " 'als_5': 0.009926919460015766,\n",
       " 'als_10': 0.009926919460015766,\n",
       " 'als_50': 0.009926919460015766,\n",
       " 'als_100': 0.009926919460015766,\n",
       " 'als_200': 0.009926919460015766}"
      ]
     },
     "execution_count": 26,
     "metadata": {},
     "output_type": "execute_result"
    }
   ],
   "source": [
    "recall = dict()\n",
    "for param in params:\n",
    "    recall[f'als_{param}'] = result_lvl_1.apply(lambda row: recall_at_k(row[f'als_{param}'], row['actual']), axis=1).mean()\n",
    "\n",
    "recall"
   ]
  },
  {
   "cell_type": "code",
   "execution_count": 31,
   "metadata": {},
   "outputs": [
    {
     "data": {
      "image/png": "[encoded data removed]",
      "text/plain": [
       "<Figure size 576x288 with 1 Axes>"
      ]
     },
     "metadata": {
      "needs_background": "light"
     },
     "output_type": "display_data"
    }
   ],
   "source": [
    "plt.figure(figsize=(8, 4))\n",
    "with plt.style.context('bmh'):\n",
    "    plt.plot(params, recall.values())\n",
    "    plt.title(' ALS recall@k values for different k', fontsize=13)\n",
    "    plt.xlabel('k values', fontsize=11)\n",
    "    plt.ylabel('recall@k', fontsize=11)\n",
    "    \n",
    "plt.show()"
   ]
  },
  {
   "cell_type": "markdown",
   "metadata": {},
   "source": [
    "При к>=5 значение recall@k не изменяется"
   ]
  },
  {
   "cell_type": "markdown",
   "metadata": {},
   "source": [
    "### Задание 2.\n",
    "\n",
    "Обучите модель 2-ого уровня, при этом:\n",
    "    - Добавьте минимум по 2 фичи для юзера, товара и пары юзер-товар\n",
    "    - Измерьте отдельно precision@5 модели 1-ого уровня и двухуровневой модели на data_val_lvl_2\n",
    "    - Вырос ли precision@5 при использовании двухуровневой модели?"
   ]
  },
  {
   "cell_type": "code",
   "execution_count": null,
   "metadata": {},
   "outputs": [],
   "source": []
  }
 ],
 "metadata": {
  "kernelspec": {
   "display_name": "Python 3",
   "language": "python",
   "name": "python3"
  },
  "language_info": {
   "codemirror_mode": {
    "name": "ipython",
    "version": 3
   },
   "file_extension": ".py",
   "mimetype": "text/x-python",
   "name": "python",
   "nbconvert_exporter": "python",
   "pygments_lexer": "ipython3",
   "version": "3.8.5"
  }
 },
 "nbformat": 4,
 "nbformat_minor": 4
}
