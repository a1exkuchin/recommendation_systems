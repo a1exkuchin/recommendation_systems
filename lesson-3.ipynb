{
 "cells": [
  {
   "cell_type": "markdown",
   "metadata": {
    "id": "AnG9DXhe49cH"
   },
   "source": [
    "## Теоретическая часть"
   ]
  },
  {
   "cell_type": "markdown",
   "metadata": {
    "id": "RxDIQTAh49cO"
   },
   "source": [
    "#### 1. Вспомним прошлый вебинар, мы рассматривали User-User рекомендации и Item-Item рекомендации. Чем они отличаются и чем они похожи? Если есть функция item_item_rec(interaction_matrix). Можно ли использовать эту функцию для user_user_rec?  В чем принципиальные отличия item-item рекомендаций от ALS?\n",
    "\n",
    "User-User рекомендации основаны на анализе предпочтений групп пользователей со схожими интересами (при естественном предположении о консервативности пользовательских предпочтений). Item-Item рекомендации основаны на анализе взаимосвязей между объектами. В User-User рекомендации определяется сходство между пользователями и в качестве рекомендаций пользователю выдается n самых часто покупаемых товаров k наиболее похожими на него покупателями. Основная идея Item-Item рекомендации заключается\n",
    "в группировке информационных единиц (товары, услуги, действия) имеющих сходные оценки пользователей. Рекомендации\n",
    "вырабатываются по следующему принципу: пользователю оценившему объект X высоко будет предложен объект Y, который высоко оценили\n",
    "другие пользователи, также высоко оценившие и объект X. У этих методов похожие алгоритмы выдачи рекомендаций.\n",
    "\n",
    "В методе User-User, т.к. каждый пользователь взаимодействовал только с несколькими элементами, это делает метод довольно чувствительным к любым зарегистрированным взаимодействиям (высокая дисперсия). С другой стороны, мы получаем более персонализированные результаты. Этот метод чувствителен к холодному старту (новые объекты никому не рекомендуются) и метод не может ничего рекомендовать новым пользователям.\n",
    "\n",
    "В методе Item-Item, т.к. многие пользователи взаимодействуют с элементом, поиск окрестностей менее чувствителен к отдельным взаимодействиям (более низкая дисперсия). Взаимодействия, исходящие от всех типов пользователей (даже пользователей, очень отличающихся от нашего эталонного пользователя), рассматриваются в рекомендации, что делает метод менее персонализированным. Таким образом, этот подход менее персонализирован, чем подход User-User, но более надежен. Этот метод так же чувствителен к холодному старту при этом рекомендации становятся тривиальными.\n",
    "\n",
    "Функцию item_item_rec(interaction_matrix) можно использовать для user_user_rec добавляя в рекомендации вместе с товарами других пользователей и близкие к ним товары. Т.е. находим сначала похожих пользователей методом User-User , смотрим какие они товары покупали. Затем по товарам методом Item-Item находим похожие товары и рекомедуем их. \n",
    "\n",
    "Метод Item-Item дает рекомендации основанные на анализе взаимосвязей между объектами, используя неизменённую матрицу user_item_matrix. ALS - берёт user_item_matrix, приближенно факторизует её на две матрицы: матрицу факторов пользователей и матрицу факторов товаров. Рекомендации основываются на изменённой матрице user_item_matrix, которая получается как результат перемножения матриц факторов пользователей и факторов товаров.\n"
   ]
  },
  {
   "cell_type": "markdown",
   "metadata": {
    "id": "XnuQ5DDD49cP"
   },
   "source": [
    "#### 2. Приведите 3 примера весов (те, которых не было на вебинаре: сумма покупок, количество покупок - неинтересно) user-item матрицы для задачи рекомендаций товаров \n",
    "\n",
    "бинарные веса - купил/не купил,\n",
    "максимальное число покупок, среднее число покупок, \n",
    "средняя сумма покупок, максимальная сумма покупок, нормированная сумма покупок ((x-min)/(max-min))"
   ]
  },
  {
   "cell_type": "markdown",
   "metadata": {
    "id": "UmKifKo649cQ"
   },
   "source": [
    "#### 3. Какие ограничения есть у ALS? (Тип информации, линейность/нелинейность факторов и т д)\n",
    "\n",
    "Тип данных в матрице Cui - float. Пропуски в матрице заменяются нулями, что не вполне адекватно.\n",
    "Если матрица Cui будет иметь высокий ранг, то сильного снижения размерности мы не получим.\n",
    "\n",
    "ALS - это фактически множественная гребневая регрессия (регуляризация L2 приводит к тому, что ни один из коэффициентов не становится нулевым,  L1 регуляризаторы гарантируют отсутствие мультиколлинеарности и переобучения). Вычисление значений - линейно, т.к это умножение матриц."
   ]
  },
  {
   "cell_type": "markdown",
   "metadata": {
    "id": "ZFhlzsTb49cR"
   },
   "source": [
    "## Практическая часть\n"
   ]
  },
  {
   "cell_type": "code",
   "execution_count": 125,
   "metadata": {
    "id": "qI6TyXCL49cS"
   },
   "outputs": [],
   "source": [
    "import warnings\n",
    "import pandas as pd\n",
    "import numpy as np\n",
    "import matplotlib.pyplot as plt\n",
    "%matplotlib inline\n",
    "warnings.filterwarnings('ignore')\n",
    "\n",
    "# Для работы с матрицами\n",
    "from scipy.sparse import csr_matrix\n",
    "\n",
    "# Матричная факторизация\n",
    "from implicit.als import AlternatingLeastSquares\n",
    "from implicit.nearest_neighbours import bm25_weight, tfidf_weight\n",
    "\n",
    "# Функции из 1-ого вебинара\n",
    "def precision_at_k(recommended_list, bought_list, k=5):\n",
    "    \n",
    "    bought_list = np.array(bought_list)\n",
    "    recommended_list = np.array(recommended_list)\n",
    "    \n",
    "    recommended_list = recommended_list[:k]\n",
    "    flags = np.isin(bought_list, recommended_list)\n",
    "    \n",
    "    precision = flags.sum() / len(recommended_list)\n",
    "   \n",
    "    return precision"
   ]
  },
  {
   "cell_type": "code",
   "execution_count": 126,
   "metadata": {},
   "outputs": [],
   "source": [
    "data = pd.read_csv('retail_train.csv')"
   ]
  },
  {
   "cell_type": "code",
   "execution_count": 127,
   "metadata": {
    "colab": {
     "base_uri": "https://localhost:8080/",
     "height": 111
    },
    "id": "LsYDeTEC49cU",
    "outputId": "d1246437-ea35-456e-b859-cca0b9abc21f"
   },
   "outputs": [
    {
     "data": {
      "text/plain": [
       "(2278490, 118314)"
      ]
     },
     "execution_count": 127,
     "metadata": {},
     "output_type": "execute_result"
    }
   ],
   "source": [
    "test_size_weeks = 3\n",
    "\n",
    "data_train = data[data['week_no'] < data['week_no'].max() - test_size_weeks]\n",
    "data_test = data[data['week_no'] >= data['week_no'].max() - test_size_weeks]\n",
    "\n",
    "data_train.shape[0], data_test.shape[0]"
   ]
  },
  {
   "cell_type": "code",
   "execution_count": 128,
   "metadata": {},
   "outputs": [
    {
     "data": {
      "text/html": [
       "<div>\n",
       "<style scoped>\n",
       "    .dataframe tbody tr th:only-of-type {\n",
       "        vertical-align: middle;\n",
       "    }\n",
       "\n",
       "    .dataframe tbody tr th {\n",
       "        vertical-align: top;\n",
       "    }\n",
       "\n",
       "    .dataframe thead th {\n",
       "        text-align: right;\n",
       "    }\n",
       "</style>\n",
       "<table border=\"1\" class=\"dataframe\">\n",
       "  <thead>\n",
       "    <tr style=\"text-align: right;\">\n",
       "      <th></th>\n",
       "      <th>user_id</th>\n",
       "      <th>actual</th>\n",
       "    </tr>\n",
       "  </thead>\n",
       "  <tbody>\n",
       "    <tr>\n",
       "      <th>0</th>\n",
       "      <td>1</td>\n",
       "      <td>[821867, 834484, 856942, 865456, 889248, 90795...</td>\n",
       "    </tr>\n",
       "    <tr>\n",
       "      <th>1</th>\n",
       "      <td>3</td>\n",
       "      <td>[835476, 851057, 872021, 878302, 879948, 90963...</td>\n",
       "    </tr>\n",
       "    <tr>\n",
       "      <th>2</th>\n",
       "      <td>6</td>\n",
       "      <td>[920308, 926804, 946489, 1006718, 1017061, 107...</td>\n",
       "    </tr>\n",
       "    <tr>\n",
       "      <th>3</th>\n",
       "      <td>7</td>\n",
       "      <td>[840386, 889774, 898068, 909714, 929067, 95347...</td>\n",
       "    </tr>\n",
       "    <tr>\n",
       "      <th>4</th>\n",
       "      <td>8</td>\n",
       "      <td>[835098, 872137, 910439, 924610, 992977, 10412...</td>\n",
       "    </tr>\n",
       "    <tr>\n",
       "      <th>...</th>\n",
       "      <td>...</td>\n",
       "      <td>...</td>\n",
       "    </tr>\n",
       "    <tr>\n",
       "      <th>2037</th>\n",
       "      <td>2496</td>\n",
       "      <td>[6534178]</td>\n",
       "    </tr>\n",
       "    <tr>\n",
       "      <th>2038</th>\n",
       "      <td>2497</td>\n",
       "      <td>[1016709, 9835695, 1132298, 16809501, 845294, ...</td>\n",
       "    </tr>\n",
       "    <tr>\n",
       "      <th>2039</th>\n",
       "      <td>2498</td>\n",
       "      <td>[15716530, 834484, 901776, 914190, 958382, 972...</td>\n",
       "    </tr>\n",
       "    <tr>\n",
       "      <th>2040</th>\n",
       "      <td>2499</td>\n",
       "      <td>[867188, 877580, 902396, 914190, 951590, 95813...</td>\n",
       "    </tr>\n",
       "    <tr>\n",
       "      <th>2041</th>\n",
       "      <td>2500</td>\n",
       "      <td>[852182, 856345, 923746, 948670, 1018007, 1044...</td>\n",
       "    </tr>\n",
       "  </tbody>\n",
       "</table>\n",
       "<p>2042 rows × 2 columns</p>\n",
       "</div>"
      ],
      "text/plain": [
       "      user_id                                             actual\n",
       "0           1  [821867, 834484, 856942, 865456, 889248, 90795...\n",
       "1           3  [835476, 851057, 872021, 878302, 879948, 90963...\n",
       "2           6  [920308, 926804, 946489, 1006718, 1017061, 107...\n",
       "3           7  [840386, 889774, 898068, 909714, 929067, 95347...\n",
       "4           8  [835098, 872137, 910439, 924610, 992977, 10412...\n",
       "...       ...                                                ...\n",
       "2037     2496                                          [6534178]\n",
       "2038     2497  [1016709, 9835695, 1132298, 16809501, 845294, ...\n",
       "2039     2498  [15716530, 834484, 901776, 914190, 958382, 972...\n",
       "2040     2499  [867188, 877580, 902396, 914190, 951590, 95813...\n",
       "2041     2500  [852182, 856345, 923746, 948670, 1018007, 1044...\n",
       "\n",
       "[2042 rows x 2 columns]"
      ]
     },
     "execution_count": 128,
     "metadata": {},
     "output_type": "execute_result"
    }
   ],
   "source": [
    "result = data_test.groupby('user_id')['item_id'].unique().reset_index()\n",
    "result.columns=['user_id', 'actual']\n",
    "result"
   ]
  },
  {
   "cell_type": "code",
   "execution_count": 129,
   "metadata": {
    "colab": {
     "base_uri": "https://localhost:8080/"
    },
    "id": "EtukvUpC49cX",
    "outputId": "20ccbc7e-2d61-4c32-b804-9c15d6c1bdc7"
   },
   "outputs": [
    {
     "data": {
      "text/plain": [
       "5001"
      ]
     },
     "execution_count": 129,
     "metadata": {},
     "output_type": "execute_result"
    }
   ],
   "source": [
    "popularity = data_train.groupby('item_id')['quantity'].sum().reset_index()\n",
    "popularity.rename(columns={'quantity': 'n_sold'}, inplace=True)\n",
    "\n",
    "top_5000 = popularity.sort_values('n_sold', ascending=False).head(5000).item_id.tolist()\n",
    "\n",
    "# Заведем фиктивный item_id (если юзер покупал товары из топ-5000, то он \"купил\" такой товар)\n",
    "data_train.loc[~data_train['item_id'].isin(top_5000), 'item_id'] = 999999\n",
    "data_train.item_id.nunique()"
   ]
  },
  {
   "cell_type": "markdown",
   "metadata": {
    "id": "wk05OovH49cY"
   },
   "source": [
    "### Подбор матрицы $c_{ui}$\n",
    "Попробуйте различные варианты матрицы весов (3+ вариантов). Обучите алгоритм для различных $C$. В качестве результата приведите таблицу: матрица весов - результат на train и validation.\n",
    "Сделате качественные выводы.\n"
   ]
  },
  {
   "cell_type": "code",
   "execution_count": 130,
   "metadata": {
    "id": "URFgaZAmub4E"
   },
   "outputs": [
    {
     "data": {
      "text/plain": [
       "(2499, 5001)"
      ]
     },
     "execution_count": 130,
     "metadata": {},
     "output_type": "execute_result"
    }
   ],
   "source": [
    "# c_ui словарь, содержащий различные матрицы весов\n",
    "c_ui = dict()\n",
    "\n",
    "# Для создания матрицы C_ui_quant_count используем функцию агрегации count, агрегацию производим по столбцу quantity  \n",
    "c_ui_quant_count = pd.pivot_table(data_train, \n",
    "                                  index='user_id', columns='item_id', \n",
    "                                  values='quantity', \n",
    "                                  aggfunc='count', \n",
    "                                  fill_value=0\n",
    "                                 )\n",
    "\n",
    "c_ui_quant_count = c_ui_quant_count.astype(float) # необходимый тип матрицы для implicit\n",
    "\n",
    "c_ui['quant_count'] = c_ui_quant_count\n",
    "\n",
    "# Для создания матрицы C_ui_quant_max используем функцию агрегации max, агрегацию производим по столбцу quantity  \n",
    "c_ui_quant_max = pd.pivot_table(data_train, \n",
    "                                  index='user_id', columns='item_id', \n",
    "                                  values='quantity', \n",
    "                                  aggfunc='max', \n",
    "                                  fill_value=0\n",
    "                                 )\n",
    "\n",
    "c_ui_quant_max = c_ui_quant_max.astype(float) # необходимый тип матрицы для implicit\n",
    "\n",
    "c_ui['quant_max'] = c_ui_quant_max\n",
    "\n",
    "# Для создания матрицы C_ui_quant_mean используем функцию агрегации mean, агрегацию производим по столбцу quantity  \n",
    "c_ui_quant_mean = pd.pivot_table(data_train, \n",
    "                                  index='user_id', columns='item_id', \n",
    "                                  values='quantity', \n",
    "                                  aggfunc='mean', \n",
    "                                  fill_value=0\n",
    "                                 )\n",
    "\n",
    "c_ui_quant_mean = c_ui_quant_mean.astype(float) # необходимый тип матрицы для implicit\n",
    "\n",
    "c_ui['quant_mean'] = c_ui_quant_mean\n",
    "\n",
    "c_ui_quant_count.shape"
   ]
  },
  {
   "cell_type": "code",
   "execution_count": 131,
   "metadata": {},
   "outputs": [
    {
     "data": {
      "text/plain": [
       "(2499, 5001)"
      ]
     },
     "execution_count": 131,
     "metadata": {},
     "output_type": "execute_result"
    }
   ],
   "source": [
    "# Для создания матрицы C_ui_sales_max используем функцию агрегации max, агрегацию производим по столбцу sales_value  \n",
    "c_ui_sales_max = pd.pivot_table(data_train, \n",
    "                                  index='user_id', columns='item_id', \n",
    "                                  values='sales_value', \n",
    "                                  aggfunc='max', \n",
    "                                  fill_value=0\n",
    "                                 )\n",
    "\n",
    "c_ui_sales_max = c_ui_sales_max.astype(float) # необходимый тип матрицы для implicit\n",
    "\n",
    "c_ui['sales_max'] = c_ui_sales_max\n",
    "\n",
    "# Для создания матрицы C_ui_sales_mean используем функцию агрегации mean, агрегацию производим по столбцу sales_value  \n",
    "c_ui_sales_mean = pd.pivot_table(data_train, \n",
    "                                  index='user_id', columns='item_id', \n",
    "                                  values='sales_value', \n",
    "                                  aggfunc='mean', \n",
    "                                  fill_value=0\n",
    "                                 )\n",
    "\n",
    "c_ui_sales_mean = c_ui_sales_mean.astype(float) # необходимый тип матрицы для implicit\n",
    "\n",
    "c_ui['sales_mean'] = c_ui_sales_mean\n",
    "c_ui_sales_mean.shape"
   ]
  },
  {
   "cell_type": "code",
   "execution_count": 132,
   "metadata": {
    "colab": {
     "base_uri": "https://localhost:8080/"
    },
    "id": "6h2dERHStg0m",
    "outputId": "03b89c61-2953-4819-d128-cdc34af07880"
   },
   "outputs": [],
   "source": [
    "userids = c_ui_sales_mean.index.values\n",
    "itemids = c_ui_sales_mean.columns.values\n",
    "\n",
    "matrix_userids = np.arange(len(userids))\n",
    "matrix_itemids = np.arange(len(itemids))\n",
    "\n",
    "id_to_itemid = dict(zip(matrix_itemids, itemids))\n",
    "id_to_userid = dict(zip(matrix_userids, userids))\n",
    "\n",
    "itemid_to_id = dict(zip(itemids, matrix_itemids))\n",
    "userid_to_id = dict(zip(userids, matrix_userids))"
   ]
  },
  {
   "cell_type": "code",
   "execution_count": 133,
   "metadata": {},
   "outputs": [],
   "source": [
    "def get_recommendations(user, model, N=5):\n",
    "    res = [id_to_itemid[rec[0]] for rec in \n",
    "                    model.recommend(userid=userid_to_id[user], \n",
    "                                    user_items=csr_user_item.tocsr(),   # на вход user-item matrix\n",
    "                                    N=N, \n",
    "                                    filter_already_liked_items=False, \n",
    "                                    filter_items=[itemid_to_id[999999]], \n",
    "                                    recalculate_user=True)]\n",
    "    return res"
   ]
  },
  {
   "cell_type": "code",
   "execution_count": 134,
   "metadata": {},
   "outputs": [
    {
     "data": {
      "application/vnd.jupyter.widget-view+json": {
       "model_id": "6578441e6ffa48eaa761e4a95df2f0a3",
       "version_major": 2,
       "version_minor": 0
      },
      "text/plain": [
       "HBox(children=(HTML(value=''), FloatProgress(value=0.0, max=15.0), HTML(value='')))"
      ]
     },
     "metadata": {},
     "output_type": "display_data"
    },
    {
     "name": "stdout",
     "output_type": "stream",
     "text": [
      "\n"
     ]
    },
    {
     "data": {
      "application/vnd.jupyter.widget-view+json": {
       "model_id": "4f61383160d045918faea3fd01e371fe",
       "version_major": 2,
       "version_minor": 0
      },
      "text/plain": [
       "HBox(children=(HTML(value=''), FloatProgress(value=0.0, max=15.0), HTML(value='')))"
      ]
     },
     "metadata": {},
     "output_type": "display_data"
    },
    {
     "name": "stdout",
     "output_type": "stream",
     "text": [
      "\n"
     ]
    },
    {
     "data": {
      "application/vnd.jupyter.widget-view+json": {
       "model_id": "09b6d59dd8d046e69c97e133f384a535",
       "version_major": 2,
       "version_minor": 0
      },
      "text/plain": [
       "HBox(children=(HTML(value=''), FloatProgress(value=0.0, max=15.0), HTML(value='')))"
      ]
     },
     "metadata": {},
     "output_type": "display_data"
    },
    {
     "name": "stdout",
     "output_type": "stream",
     "text": [
      "\n"
     ]
    },
    {
     "data": {
      "application/vnd.jupyter.widget-view+json": {
       "model_id": "00ab5e51a1304bcc981824eca8b03914",
       "version_major": 2,
       "version_minor": 0
      },
      "text/plain": [
       "HBox(children=(HTML(value=''), FloatProgress(value=0.0, max=15.0), HTML(value='')))"
      ]
     },
     "metadata": {},
     "output_type": "display_data"
    },
    {
     "name": "stdout",
     "output_type": "stream",
     "text": [
      "\n"
     ]
    },
    {
     "data": {
      "application/vnd.jupyter.widget-view+json": {
       "model_id": "26b1cc3ad59449c5b056a38e29eed8a7",
       "version_major": 2,
       "version_minor": 0
      },
      "text/plain": [
       "HBox(children=(HTML(value=''), FloatProgress(value=0.0, max=15.0), HTML(value='')))"
      ]
     },
     "metadata": {},
     "output_type": "display_data"
    },
    {
     "name": "stdout",
     "output_type": "stream",
     "text": [
      "\n",
      "Wall time: 1min 25s\n"
     ]
    }
   ],
   "source": [
    "%%time\n",
    "\n",
    "for key in c_ui:\n",
    "    csr_user_item = csr_matrix(c_ui[key])\n",
    "    model = AlternatingLeastSquares(factors=44, \n",
    "                                    regularization=0.001,\n",
    "                                    iterations=15, \n",
    "                                    calculate_training_loss=True, \n",
    "                                    use_gpu=False)\n",
    "\n",
    "    model.fit(csr_user_item.T.tocsr(), show_progress=True)\n",
    "    result[key] = result['user_id'].apply(lambda x: get_recommendations(x, model=model, N=5))\n"
   ]
  },
  {
   "cell_type": "code",
   "execution_count": 135,
   "metadata": {},
   "outputs": [
    {
     "data": {
      "text/html": [
       "<div>\n",
       "<style scoped>\n",
       "    .dataframe tbody tr th:only-of-type {\n",
       "        vertical-align: middle;\n",
       "    }\n",
       "\n",
       "    .dataframe tbody tr th {\n",
       "        vertical-align: top;\n",
       "    }\n",
       "\n",
       "    .dataframe thead th {\n",
       "        text-align: right;\n",
       "    }\n",
       "</style>\n",
       "<table border=\"1\" class=\"dataframe\">\n",
       "  <thead>\n",
       "    <tr style=\"text-align: right;\">\n",
       "      <th></th>\n",
       "      <th>user_id</th>\n",
       "      <th>actual</th>\n",
       "      <th>quant_count</th>\n",
       "      <th>quant_max</th>\n",
       "      <th>quant_mean</th>\n",
       "      <th>sales_max</th>\n",
       "      <th>sales_mean</th>\n",
       "    </tr>\n",
       "  </thead>\n",
       "  <tbody>\n",
       "    <tr>\n",
       "      <th>0</th>\n",
       "      <td>1</td>\n",
       "      <td>[821867, 834484, 856942, 865456, 889248, 90795...</td>\n",
       "      <td>[1005186, 885290, 1033142, 5569374, 995242]</td>\n",
       "      <td>[820165, 1082185, 866227, 995242, 1127831]</td>\n",
       "      <td>[866227, 1082185, 820165, 1095275, 986947]</td>\n",
       "      <td>[986912, 1100972, 1005186, 1082185, 5569374]</td>\n",
       "      <td>[1005186, 1082185, 1100972, 1021164, 10149640]</td>\n",
       "    </tr>\n",
       "    <tr>\n",
       "      <th>1</th>\n",
       "      <td>3</td>\n",
       "      <td>[835476, 851057, 872021, 878302, 879948, 90963...</td>\n",
       "      <td>[1106523, 822407, 1133018, 951590, 892008]</td>\n",
       "      <td>[951590, 1022003, 910032, 938700, 913202]</td>\n",
       "      <td>[1022003, 938700, 1013321, 1092026, 6534178]</td>\n",
       "      <td>[5569230, 5569845, 1133018, 910032, 951590]</td>\n",
       "      <td>[5569230, 910032, 1044078, 1029743, 914190]</td>\n",
       "    </tr>\n",
       "    <tr>\n",
       "      <th>2</th>\n",
       "      <td>6</td>\n",
       "      <td>[920308, 926804, 946489, 1006718, 1017061, 107...</td>\n",
       "      <td>[878996, 1024306, 860776, 1023720, 866211]</td>\n",
       "      <td>[878996, 1024306, 1082185, 1007195, 1127831]</td>\n",
       "      <td>[1082185, 1127831, 878996, 820165, 1024306]</td>\n",
       "      <td>[1024306, 948953, 1007195, 896613, 1082185]</td>\n",
       "      <td>[970747, 1024306, 965267, 1082185, 866211]</td>\n",
       "    </tr>\n",
       "    <tr>\n",
       "      <th>3</th>\n",
       "      <td>7</td>\n",
       "      <td>[840386, 889774, 898068, 909714, 929067, 95347...</td>\n",
       "      <td>[849843, 1082185, 1126899, 1058997, 6534178]</td>\n",
       "      <td>[938700, 1082185, 1013321, 995242, 892920]</td>\n",
       "      <td>[938700, 995242, 1013321, 1082185, 826249]</td>\n",
       "      <td>[1082185, 6534178, 916122, 866211, 1127831]</td>\n",
       "      <td>[1082185, 866211, 916122, 1020581, 847573]</td>\n",
       "    </tr>\n",
       "    <tr>\n",
       "      <th>4</th>\n",
       "      <td>8</td>\n",
       "      <td>[835098, 872137, 910439, 924610, 992977, 10412...</td>\n",
       "      <td>[1053690, 1070820, 844179, 840361, 981760]</td>\n",
       "      <td>[833715, 930917, 826249, 1068719, 883404]</td>\n",
       "      <td>[833715, 844179, 951526, 1082185, 859075]</td>\n",
       "      <td>[1005186, 999858, 844179, 897954, 1110843]</td>\n",
       "      <td>[1005186, 844179, 1051211, 999858, 5569230]</td>\n",
       "    </tr>\n",
       "  </tbody>\n",
       "</table>\n",
       "</div>"
      ],
      "text/plain": [
       "   user_id                                             actual  \\\n",
       "0        1  [821867, 834484, 856942, 865456, 889248, 90795...   \n",
       "1        3  [835476, 851057, 872021, 878302, 879948, 90963...   \n",
       "2        6  [920308, 926804, 946489, 1006718, 1017061, 107...   \n",
       "3        7  [840386, 889774, 898068, 909714, 929067, 95347...   \n",
       "4        8  [835098, 872137, 910439, 924610, 992977, 10412...   \n",
       "\n",
       "                                    quant_count  \\\n",
       "0   [1005186, 885290, 1033142, 5569374, 995242]   \n",
       "1    [1106523, 822407, 1133018, 951590, 892008]   \n",
       "2    [878996, 1024306, 860776, 1023720, 866211]   \n",
       "3  [849843, 1082185, 1126899, 1058997, 6534178]   \n",
       "4    [1053690, 1070820, 844179, 840361, 981760]   \n",
       "\n",
       "                                      quant_max  \\\n",
       "0    [820165, 1082185, 866227, 995242, 1127831]   \n",
       "1     [951590, 1022003, 910032, 938700, 913202]   \n",
       "2  [878996, 1024306, 1082185, 1007195, 1127831]   \n",
       "3    [938700, 1082185, 1013321, 995242, 892920]   \n",
       "4     [833715, 930917, 826249, 1068719, 883404]   \n",
       "\n",
       "                                     quant_mean  \\\n",
       "0    [866227, 1082185, 820165, 1095275, 986947]   \n",
       "1  [1022003, 938700, 1013321, 1092026, 6534178]   \n",
       "2   [1082185, 1127831, 878996, 820165, 1024306]   \n",
       "3    [938700, 995242, 1013321, 1082185, 826249]   \n",
       "4     [833715, 844179, 951526, 1082185, 859075]   \n",
       "\n",
       "                                      sales_max  \\\n",
       "0  [986912, 1100972, 1005186, 1082185, 5569374]   \n",
       "1   [5569230, 5569845, 1133018, 910032, 951590]   \n",
       "2   [1024306, 948953, 1007195, 896613, 1082185]   \n",
       "3   [1082185, 6534178, 916122, 866211, 1127831]   \n",
       "4    [1005186, 999858, 844179, 897954, 1110843]   \n",
       "\n",
       "                                       sales_mean  \n",
       "0  [1005186, 1082185, 1100972, 1021164, 10149640]  \n",
       "1     [5569230, 910032, 1044078, 1029743, 914190]  \n",
       "2      [970747, 1024306, 965267, 1082185, 866211]  \n",
       "3      [1082185, 866211, 916122, 1020581, 847573]  \n",
       "4     [1005186, 844179, 1051211, 999858, 5569230]  "
      ]
     },
     "execution_count": 135,
     "metadata": {},
     "output_type": "execute_result"
    }
   ],
   "source": [
    "result.head(5)"
   ]
  },
  {
   "cell_type": "markdown",
   "metadata": {},
   "source": [
    "##### сравним качество предсказаний по precision@5 для разных $C_{ui}$"
   ]
  },
  {
   "cell_type": "code",
   "execution_count": 136,
   "metadata": {},
   "outputs": [
    {
     "data": {
      "text/plain": [
       "{'quant_count': 0.18413320274240713,\n",
       " 'quant_max': 0.1866797257590568,\n",
       " 'quant_mean': 0.18824681684622643,\n",
       " 'sales_max': 0.14250734573946947,\n",
       " 'sales_mean': 0.13868756121449427}"
      ]
     },
     "execution_count": 136,
     "metadata": {},
     "output_type": "execute_result"
    }
   ],
   "source": [
    "precision = dict()\n",
    "for key in c_ui:\n",
    "    precision[key] = result.apply(lambda row: precision_at_k(row[key], row['actual']), axis=1).mean()\n",
    "\n",
    "precision"
   ]
  },
  {
   "cell_type": "markdown",
   "metadata": {},
   "source": [
    "Матрица $C_{ui}$, построенная с использованием агрегатной функции mean по столбцу quantity, показала лучшее качество. Эту матрицу мы возьмем для дальнейшей оптимизации гиперпараметров."
   ]
  },
  {
   "cell_type": "markdown",
   "metadata": {
    "id": "PHer9wto49cZ"
   },
   "source": [
    "### Оптимизация гипперпараметров\n",
    "Для лучшей матрицы весов из первого задания подберите оптимальные $\\lambda$ и n_factors. Подбор можно делать вручную (цикл в цикле, аналог sklearn.GridSearch, или случайно - sklearn.RandomSearch). Или Вы можете воспользоваться библиотеками для автоматического подбора гипперпараметров (любые на Ваш вкус). В качестве результата постройте графики:\n",
    "1. Значение параметра - время обучения \n",
    "2. Значение параметра - качество train, качество validation  \n",
    "\n",
    "Сделайте качественные выводы"
   ]
  },
  {
   "cell_type": "code",
   "execution_count": 137,
   "metadata": {},
   "outputs": [
    {
     "data": {
      "text/html": [
       "<div>\n",
       "<style scoped>\n",
       "    .dataframe tbody tr th:only-of-type {\n",
       "        vertical-align: middle;\n",
       "    }\n",
       "\n",
       "    .dataframe tbody tr th {\n",
       "        vertical-align: top;\n",
       "    }\n",
       "\n",
       "    .dataframe thead th {\n",
       "        text-align: right;\n",
       "    }\n",
       "</style>\n",
       "<table border=\"1\" class=\"dataframe\">\n",
       "  <thead>\n",
       "    <tr style=\"text-align: right;\">\n",
       "      <th></th>\n",
       "      <th>user_id</th>\n",
       "      <th>actual</th>\n",
       "    </tr>\n",
       "  </thead>\n",
       "  <tbody>\n",
       "    <tr>\n",
       "      <th>0</th>\n",
       "      <td>1</td>\n",
       "      <td>[821867, 834484, 856942, 865456, 889248, 90795...</td>\n",
       "    </tr>\n",
       "    <tr>\n",
       "      <th>1</th>\n",
       "      <td>3</td>\n",
       "      <td>[835476, 851057, 872021, 878302, 879948, 90963...</td>\n",
       "    </tr>\n",
       "    <tr>\n",
       "      <th>2</th>\n",
       "      <td>6</td>\n",
       "      <td>[920308, 926804, 946489, 1006718, 1017061, 107...</td>\n",
       "    </tr>\n",
       "    <tr>\n",
       "      <th>3</th>\n",
       "      <td>7</td>\n",
       "      <td>[840386, 889774, 898068, 909714, 929067, 95347...</td>\n",
       "    </tr>\n",
       "    <tr>\n",
       "      <th>4</th>\n",
       "      <td>8</td>\n",
       "      <td>[835098, 872137, 910439, 924610, 992977, 10412...</td>\n",
       "    </tr>\n",
       "    <tr>\n",
       "      <th>...</th>\n",
       "      <td>...</td>\n",
       "      <td>...</td>\n",
       "    </tr>\n",
       "    <tr>\n",
       "      <th>2037</th>\n",
       "      <td>2496</td>\n",
       "      <td>[6534178]</td>\n",
       "    </tr>\n",
       "    <tr>\n",
       "      <th>2038</th>\n",
       "      <td>2497</td>\n",
       "      <td>[1016709, 9835695, 1132298, 16809501, 845294, ...</td>\n",
       "    </tr>\n",
       "    <tr>\n",
       "      <th>2039</th>\n",
       "      <td>2498</td>\n",
       "      <td>[15716530, 834484, 901776, 914190, 958382, 972...</td>\n",
       "    </tr>\n",
       "    <tr>\n",
       "      <th>2040</th>\n",
       "      <td>2499</td>\n",
       "      <td>[867188, 877580, 902396, 914190, 951590, 95813...</td>\n",
       "    </tr>\n",
       "    <tr>\n",
       "      <th>2041</th>\n",
       "      <td>2500</td>\n",
       "      <td>[852182, 856345, 923746, 948670, 1018007, 1044...</td>\n",
       "    </tr>\n",
       "  </tbody>\n",
       "</table>\n",
       "<p>2042 rows × 2 columns</p>\n",
       "</div>"
      ],
      "text/plain": [
       "      user_id                                             actual\n",
       "0           1  [821867, 834484, 856942, 865456, 889248, 90795...\n",
       "1           3  [835476, 851057, 872021, 878302, 879948, 90963...\n",
       "2           6  [920308, 926804, 946489, 1006718, 1017061, 107...\n",
       "3           7  [840386, 889774, 898068, 909714, 929067, 95347...\n",
       "4           8  [835098, 872137, 910439, 924610, 992977, 10412...\n",
       "...       ...                                                ...\n",
       "2037     2496                                          [6534178]\n",
       "2038     2497  [1016709, 9835695, 1132298, 16809501, 845294, ...\n",
       "2039     2498  [15716530, 834484, 901776, 914190, 958382, 972...\n",
       "2040     2499  [867188, 877580, 902396, 914190, 951590, 95813...\n",
       "2041     2500  [852182, 856345, 923746, 948670, 1018007, 1044...\n",
       "\n",
       "[2042 rows x 2 columns]"
      ]
     },
     "execution_count": 137,
     "metadata": {},
     "output_type": "execute_result"
    }
   ],
   "source": [
    "result = data_test.groupby('user_id')['item_id'].unique().reset_index()\n",
    "result.columns=['user_id', 'actual']\n",
    "result"
   ]
  },
  {
   "cell_type": "code",
   "execution_count": 139,
   "metadata": {
    "colab": {
     "base_uri": "https://localhost:8080/",
     "height": 180
    },
    "id": "tPE1gwHW49ca",
    "outputId": "56427b96-6966-4763-cd0a-92dec024ee33"
   },
   "outputs": [
    {
     "data": {
      "application/vnd.jupyter.widget-view+json": {
       "model_id": "008e6e8cc64c4355857c2689cfaf0f58",
       "version_major": 2,
       "version_minor": 0
      },
      "text/plain": [
       "HBox(children=(HTML(value=''), FloatProgress(value=0.0, max=15.0), HTML(value='')))"
      ]
     },
     "metadata": {},
     "output_type": "display_data"
    },
    {
     "name": "stdout",
     "output_type": "stream",
     "text": [
      "\n",
      "35 0.001\n"
     ]
    },
    {
     "data": {
      "application/vnd.jupyter.widget-view+json": {
       "model_id": "df1e116b751b4f30b4600c5673ed10f8",
       "version_major": 2,
       "version_minor": 0
      },
      "text/plain": [
       "HBox(children=(HTML(value=''), FloatProgress(value=0.0, max=15.0), HTML(value='')))"
      ]
     },
     "metadata": {},
     "output_type": "display_data"
    },
    {
     "name": "stdout",
     "output_type": "stream",
     "text": [
      "\n",
      "35 0.01\n"
     ]
    },
    {
     "data": {
      "application/vnd.jupyter.widget-view+json": {
       "model_id": "5d4fc95f0b66403683d8f520b623029d",
       "version_major": 2,
       "version_minor": 0
      },
      "text/plain": [
       "HBox(children=(HTML(value=''), FloatProgress(value=0.0, max=15.0), HTML(value='')))"
      ]
     },
     "metadata": {},
     "output_type": "display_data"
    },
    {
     "name": "stdout",
     "output_type": "stream",
     "text": [
      "\n",
      "35 0.1\n"
     ]
    },
    {
     "data": {
      "application/vnd.jupyter.widget-view+json": {
       "model_id": "28b7a41a149543c793d53442a89fcced",
       "version_major": 2,
       "version_minor": 0
      },
      "text/plain": [
       "HBox(children=(HTML(value=''), FloatProgress(value=0.0, max=15.0), HTML(value='')))"
      ]
     },
     "metadata": {},
     "output_type": "display_data"
    },
    {
     "name": "stdout",
     "output_type": "stream",
     "text": [
      "\n",
      "35 1\n"
     ]
    },
    {
     "data": {
      "application/vnd.jupyter.widget-view+json": {
       "model_id": "96b8dcee97ef49b3ba7c557e29b0dfae",
       "version_major": 2,
       "version_minor": 0
      },
      "text/plain": [
       "HBox(children=(HTML(value=''), FloatProgress(value=0.0, max=15.0), HTML(value='')))"
      ]
     },
     "metadata": {},
     "output_type": "display_data"
    },
    {
     "name": "stdout",
     "output_type": "stream",
     "text": [
      "\n",
      "45 0.001\n"
     ]
    },
    {
     "data": {
      "application/vnd.jupyter.widget-view+json": {
       "model_id": "4b2dc9f2128a448595853f83adce22bb",
       "version_major": 2,
       "version_minor": 0
      },
      "text/plain": [
       "HBox(children=(HTML(value=''), FloatProgress(value=0.0, max=15.0), HTML(value='')))"
      ]
     },
     "metadata": {},
     "output_type": "display_data"
    },
    {
     "name": "stdout",
     "output_type": "stream",
     "text": [
      "\n",
      "45 0.01\n"
     ]
    },
    {
     "data": {
      "application/vnd.jupyter.widget-view+json": {
       "model_id": "3db6192e3bc04b6187e446dccf6b6799",
       "version_major": 2,
       "version_minor": 0
      },
      "text/plain": [
       "HBox(children=(HTML(value=''), FloatProgress(value=0.0, max=15.0), HTML(value='')))"
      ]
     },
     "metadata": {},
     "output_type": "display_data"
    },
    {
     "name": "stdout",
     "output_type": "stream",
     "text": [
      "\n",
      "45 0.1\n"
     ]
    },
    {
     "data": {
      "application/vnd.jupyter.widget-view+json": {
       "model_id": "9820af1d0c8c4e8e8e4ba04ac0e2bb25",
       "version_major": 2,
       "version_minor": 0
      },
      "text/plain": [
       "HBox(children=(HTML(value=''), FloatProgress(value=0.0, max=15.0), HTML(value='')))"
      ]
     },
     "metadata": {},
     "output_type": "display_data"
    },
    {
     "name": "stdout",
     "output_type": "stream",
     "text": [
      "\n",
      "45 1\n"
     ]
    },
    {
     "data": {
      "application/vnd.jupyter.widget-view+json": {
       "model_id": "065c5b1cecbb45e0b1e975de49772529",
       "version_major": 2,
       "version_minor": 0
      },
      "text/plain": [
       "HBox(children=(HTML(value=''), FloatProgress(value=0.0, max=15.0), HTML(value='')))"
      ]
     },
     "metadata": {},
     "output_type": "display_data"
    },
    {
     "name": "stdout",
     "output_type": "stream",
     "text": [
      "\n",
      "55 0.001\n"
     ]
    },
    {
     "data": {
      "application/vnd.jupyter.widget-view+json": {
       "model_id": "e10337e82cc3419595976eb80960d229",
       "version_major": 2,
       "version_minor": 0
      },
      "text/plain": [
       "HBox(children=(HTML(value=''), FloatProgress(value=0.0, max=15.0), HTML(value='')))"
      ]
     },
     "metadata": {},
     "output_type": "display_data"
    },
    {
     "name": "stdout",
     "output_type": "stream",
     "text": [
      "\n",
      "55 0.01\n"
     ]
    },
    {
     "data": {
      "application/vnd.jupyter.widget-view+json": {
       "model_id": "820d34091ceb466ea05ec186534e0974",
       "version_major": 2,
       "version_minor": 0
      },
      "text/plain": [
       "HBox(children=(HTML(value=''), FloatProgress(value=0.0, max=15.0), HTML(value='')))"
      ]
     },
     "metadata": {},
     "output_type": "display_data"
    },
    {
     "name": "stdout",
     "output_type": "stream",
     "text": [
      "\n",
      "55 0.1\n"
     ]
    },
    {
     "data": {
      "application/vnd.jupyter.widget-view+json": {
       "model_id": "a84615136bd44baaa3ad04b60b8da7b1",
       "version_major": 2,
       "version_minor": 0
      },
      "text/plain": [
       "HBox(children=(HTML(value=''), FloatProgress(value=0.0, max=15.0), HTML(value='')))"
      ]
     },
     "metadata": {},
     "output_type": "display_data"
    },
    {
     "name": "stdout",
     "output_type": "stream",
     "text": [
      "\n",
      "55 1\n"
     ]
    },
    {
     "data": {
      "application/vnd.jupyter.widget-view+json": {
       "model_id": "51a3302192834a7090110e3e258ec4dc",
       "version_major": 2,
       "version_minor": 0
      },
      "text/plain": [
       "HBox(children=(HTML(value=''), FloatProgress(value=0.0, max=15.0), HTML(value='')))"
      ]
     },
     "metadata": {},
     "output_type": "display_data"
    },
    {
     "name": "stdout",
     "output_type": "stream",
     "text": [
      "\n",
      "80 0.001\n"
     ]
    },
    {
     "data": {
      "application/vnd.jupyter.widget-view+json": {
       "model_id": "e48cefc1460e4b40bf42f9f123b4ca5e",
       "version_major": 2,
       "version_minor": 0
      },
      "text/plain": [
       "HBox(children=(HTML(value=''), FloatProgress(value=0.0, max=15.0), HTML(value='')))"
      ]
     },
     "metadata": {},
     "output_type": "display_data"
    },
    {
     "name": "stdout",
     "output_type": "stream",
     "text": [
      "\n",
      "80 0.01\n"
     ]
    },
    {
     "data": {
      "application/vnd.jupyter.widget-view+json": {
       "model_id": "0866166b2acd45e4b5e14dea3f493ee1",
       "version_major": 2,
       "version_minor": 0
      },
      "text/plain": [
       "HBox(children=(HTML(value=''), FloatProgress(value=0.0, max=15.0), HTML(value='')))"
      ]
     },
     "metadata": {},
     "output_type": "display_data"
    },
    {
     "name": "stdout",
     "output_type": "stream",
     "text": [
      "\n",
      "80 0.1\n"
     ]
    },
    {
     "data": {
      "application/vnd.jupyter.widget-view+json": {
       "model_id": "1865b0b3c01b41f28bdfd8c5788b999e",
       "version_major": 2,
       "version_minor": 0
      },
      "text/plain": [
       "HBox(children=(HTML(value=''), FloatProgress(value=0.0, max=15.0), HTML(value='')))"
      ]
     },
     "metadata": {},
     "output_type": "display_data"
    },
    {
     "name": "stdout",
     "output_type": "stream",
     "text": [
      "\n",
      "80 1\n"
     ]
    },
    {
     "data": {
      "application/vnd.jupyter.widget-view+json": {
       "model_id": "09637c7cbcdd469885d0a260b3603632",
       "version_major": 2,
       "version_minor": 0
      },
      "text/plain": [
       "HBox(children=(HTML(value=''), FloatProgress(value=0.0, max=15.0), HTML(value='')))"
      ]
     },
     "metadata": {},
     "output_type": "display_data"
    },
    {
     "name": "stdout",
     "output_type": "stream",
     "text": [
      "\n",
      "100 0.001\n"
     ]
    },
    {
     "data": {
      "application/vnd.jupyter.widget-view+json": {
       "model_id": "4d8693bee92b4496b3246939321cd9d0",
       "version_major": 2,
       "version_minor": 0
      },
      "text/plain": [
       "HBox(children=(HTML(value=''), FloatProgress(value=0.0, max=15.0), HTML(value='')))"
      ]
     },
     "metadata": {},
     "output_type": "display_data"
    },
    {
     "name": "stdout",
     "output_type": "stream",
     "text": [
      "\n",
      "100 0.01\n"
     ]
    },
    {
     "data": {
      "application/vnd.jupyter.widget-view+json": {
       "model_id": "5f24de039abf4c8cb5f3b18bbc633906",
       "version_major": 2,
       "version_minor": 0
      },
      "text/plain": [
       "HBox(children=(HTML(value=''), FloatProgress(value=0.0, max=15.0), HTML(value='')))"
      ]
     },
     "metadata": {},
     "output_type": "display_data"
    },
    {
     "name": "stdout",
     "output_type": "stream",
     "text": [
      "\n",
      "100 0.1\n"
     ]
    },
    {
     "data": {
      "application/vnd.jupyter.widget-view+json": {
       "model_id": "fa4b7dbaf98b4eddaaf9e76fc7c2d4f5",
       "version_major": 2,
       "version_minor": 0
      },
      "text/plain": [
       "HBox(children=(HTML(value=''), FloatProgress(value=0.0, max=15.0), HTML(value='')))"
      ]
     },
     "metadata": {},
     "output_type": "display_data"
    },
    {
     "name": "stdout",
     "output_type": "stream",
     "text": [
      "\n",
      "100 1\n"
     ]
    }
   ],
   "source": [
    "import time\n",
    "\n",
    "csr_user_item = csr_matrix(c_ui['quant_mean'])\n",
    "\n",
    "factors = [35, 45, 55, 80, 100]\n",
    "regularization = [0.001, 0.01, 0.1, 1]\n",
    "timer = dict()\n",
    "\n",
    "for factor in factors:\n",
    "    for lambda_ in regularization:\n",
    "        start_time = time.time()\n",
    "        model = AlternatingLeastSquares(factors=factor, \n",
    "                                        regularization=lambda_,\n",
    "                                        iterations=15, \n",
    "                                        calculate_training_loss=True, \n",
    "                                        use_gpu=False)\n",
    "\n",
    "        model.fit(csr_user_item.T.tocsr(), show_progress=True)\n",
    "        timer[f'{factor}_{lambda_}'] = time.time() - start_time\n",
    "        result[f'{factor}_{lambda_}'] = result['user_id'].apply(lambda x: get_recommendations(x, model=model, N=5))\n",
    "    "
   ]
  },
  {
   "cell_type": "code",
   "execution_count": 149,
   "metadata": {
    "id": "sKevvD1349cb"
   },
   "outputs": [
    {
     "data": {
      "image/png": "[encoded data removed]",
      "text/plain": [
       "<Figure size 1440x576 with 1 Axes>"
      ]
     },
     "metadata": {
      "needs_background": "light"
     },
     "output_type": "display_data"
    }
   ],
   "source": [
    "labels = list(timer.keys())\n",
    "times = list(timer.values()) \n",
    "\n",
    "plt.figure(figsize=(20, 8))\n",
    "plt.title('Время обучения')\n",
    "plt.xlabel('значения параметров')\n",
    "plt.ylabel('время, с')\n",
    "plt.plot(labels, times, 'b')\n",
    "plt.plot(labels, times, 'ro')\n",
    "plt.show()"
   ]
  },
  {
   "cell_type": "code",
   "execution_count": 150,
   "metadata": {},
   "outputs": [
    {
     "data": {
      "text/html": [
       "<div>\n",
       "<style scoped>\n",
       "    .dataframe tbody tr th:only-of-type {\n",
       "        vertical-align: middle;\n",
       "    }\n",
       "\n",
       "    .dataframe tbody tr th {\n",
       "        vertical-align: top;\n",
       "    }\n",
       "\n",
       "    .dataframe thead th {\n",
       "        text-align: right;\n",
       "    }\n",
       "</style>\n",
       "<table border=\"1\" class=\"dataframe\">\n",
       "  <thead>\n",
       "    <tr style=\"text-align: right;\">\n",
       "      <th></th>\n",
       "      <th>user_id</th>\n",
       "      <th>actual</th>\n",
       "      <th>35_0.001</th>\n",
       "      <th>35_0.01</th>\n",
       "      <th>35_0.1</th>\n",
       "      <th>35_1</th>\n",
       "      <th>45_0.001</th>\n",
       "      <th>45_0.01</th>\n",
       "      <th>45_0.1</th>\n",
       "      <th>45_1</th>\n",
       "      <th>...</th>\n",
       "      <th>55_0.1</th>\n",
       "      <th>55_1</th>\n",
       "      <th>80_0.001</th>\n",
       "      <th>80_0.01</th>\n",
       "      <th>80_0.1</th>\n",
       "      <th>80_1</th>\n",
       "      <th>100_0.001</th>\n",
       "      <th>100_0.01</th>\n",
       "      <th>100_0.1</th>\n",
       "      <th>100_1</th>\n",
       "    </tr>\n",
       "  </thead>\n",
       "  <tbody>\n",
       "    <tr>\n",
       "      <th>0</th>\n",
       "      <td>1</td>\n",
       "      <td>[821867, 834484, 856942, 865456, 889248, 90795...</td>\n",
       "      <td>[1082185, 995242, 986947, 981760, 1127831]</td>\n",
       "      <td>[1082185, 1127831, 995242, 820165, 866227]</td>\n",
       "      <td>[986947, 1082185, 866227, 995242, 1127831]</td>\n",
       "      <td>[986947, 1082185, 820165, 1127831, 981760]</td>\n",
       "      <td>[820165, 986947, 1082185, 866227, 1127831]</td>\n",
       "      <td>[1082185, 995242, 986947, 866227, 907014]</td>\n",
       "      <td>[820165, 1082185, 866227, 986947, 995242]</td>\n",
       "      <td>[1082185, 820165, 1127831, 986947, 981760]</td>\n",
       "      <td>...</td>\n",
       "      <td>[866227, 1005186, 1082185, 820165, 986947]</td>\n",
       "      <td>[1082185, 995242, 1127831, 820165, 986947]</td>\n",
       "      <td>[820165, 995242, 986947, 866227, 1082185]</td>\n",
       "      <td>[1082185, 820165, 986947, 1095275, 866227]</td>\n",
       "      <td>[820165, 1082185, 986947, 1005186, 1127831]</td>\n",
       "      <td>[820165, 1082185, 986947, 866227, 1127831]</td>\n",
       "      <td>[820165, 995242, 986947, 1082185, 907014]</td>\n",
       "      <td>[820165, 986947, 1082185, 995242, 866227]</td>\n",
       "      <td>[986947, 820165, 995242, 866227, 1082185]</td>\n",
       "      <td>[820165, 986947, 866227, 907014, 1082185]</td>\n",
       "    </tr>\n",
       "    <tr>\n",
       "      <th>1</th>\n",
       "      <td>3</td>\n",
       "      <td>[835476, 851057, 872021, 878302, 879948, 90963...</td>\n",
       "      <td>[938700, 822407, 1022003, 6534178, 929668]</td>\n",
       "      <td>[938700, 1013321, 822407, 1022003, 844165]</td>\n",
       "      <td>[1022003, 822407, 938700, 844165, 1092026]</td>\n",
       "      <td>[862139, 833715, 951590, 6534178, 910032]</td>\n",
       "      <td>[1013321, 938700, 951590, 852864, 1022003]</td>\n",
       "      <td>[844165, 929668, 938700, 1022003, 1092026]</td>\n",
       "      <td>[938700, 889774, 852864, 910032, 1022003]</td>\n",
       "      <td>[938700, 1022003, 6534178, 822407, 1013321]</td>\n",
       "      <td>...</td>\n",
       "      <td>[938700, 1055863, 910032, 1133018, 951590]</td>\n",
       "      <td>[1022003, 9526563, 1055863, 938700, 6534178]</td>\n",
       "      <td>[1106523, 1133018, 1022003, 938700, 9337581]</td>\n",
       "      <td>[1022003, 951590, 938700, 1044078, 914190]</td>\n",
       "      <td>[1106523, 1133018, 951590, 9337581, 1022003]</td>\n",
       "      <td>[938700, 1106523, 1133018, 8090521, 1022003]</td>\n",
       "      <td>[9337581, 951590, 1022003, 910032, 938700]</td>\n",
       "      <td>[1022003, 910032, 938700, 1106523, 1044078]</td>\n",
       "      <td>[1133018, 1106523, 938700, 1022003, 910032]</td>\n",
       "      <td>[1133018, 938700, 1106523, 1044078, 1022003]</td>\n",
       "    </tr>\n",
       "    <tr>\n",
       "      <th>2</th>\n",
       "      <td>6</td>\n",
       "      <td>[920308, 926804, 946489, 1006718, 1017061, 107...</td>\n",
       "      <td>[1082185, 878996, 1024306, 1127831, 820165]</td>\n",
       "      <td>[1082185, 878996, 1024306, 1127831, 820165]</td>\n",
       "      <td>[1082185, 1127831, 820165, 860776, 878996]</td>\n",
       "      <td>[1082185, 866227, 860776, 1127831, 878996]</td>\n",
       "      <td>[1082185, 1024306, 1127831, 878996, 860776]</td>\n",
       "      <td>[1082185, 878996, 911878, 820165, 1024306]</td>\n",
       "      <td>[1082185, 1024306, 1127831, 878996, 860776]</td>\n",
       "      <td>[1082185, 1024306, 878996, 1127831, 820165]</td>\n",
       "      <td>...</td>\n",
       "      <td>[1082185, 878996, 1127831, 1024306, 860776]</td>\n",
       "      <td>[1082185, 820165, 1127831, 878996, 860776]</td>\n",
       "      <td>[878996, 1024306, 1127831, 1082185, 968215]</td>\n",
       "      <td>[1082185, 1127831, 878996, 866211, 1024306]</td>\n",
       "      <td>[1082185, 878996, 1127831, 1024306, 866211]</td>\n",
       "      <td>[1082185, 820165, 1127831, 878996, 1007195]</td>\n",
       "      <td>[1082185, 1024306, 1127831, 878996, 866211]</td>\n",
       "      <td>[1082185, 1127831, 878996, 981760, 834484]</td>\n",
       "      <td>[1082185, 878996, 820165, 981760, 994928]</td>\n",
       "      <td>[878996, 1082185, 860776, 1024306, 1127831]</td>\n",
       "    </tr>\n",
       "  </tbody>\n",
       "</table>\n",
       "<p>3 rows × 22 columns</p>\n",
       "</div>"
      ],
      "text/plain": [
       "   user_id                                             actual  \\\n",
       "0        1  [821867, 834484, 856942, 865456, 889248, 90795...   \n",
       "1        3  [835476, 851057, 872021, 878302, 879948, 90963...   \n",
       "2        6  [920308, 926804, 946489, 1006718, 1017061, 107...   \n",
       "\n",
       "                                      35_0.001  \\\n",
       "0   [1082185, 995242, 986947, 981760, 1127831]   \n",
       "1   [938700, 822407, 1022003, 6534178, 929668]   \n",
       "2  [1082185, 878996, 1024306, 1127831, 820165]   \n",
       "\n",
       "                                       35_0.01  \\\n",
       "0   [1082185, 1127831, 995242, 820165, 866227]   \n",
       "1   [938700, 1013321, 822407, 1022003, 844165]   \n",
       "2  [1082185, 878996, 1024306, 1127831, 820165]   \n",
       "\n",
       "                                       35_0.1  \\\n",
       "0  [986947, 1082185, 866227, 995242, 1127831]   \n",
       "1  [1022003, 822407, 938700, 844165, 1092026]   \n",
       "2  [1082185, 1127831, 820165, 860776, 878996]   \n",
       "\n",
       "                                         35_1  \\\n",
       "0  [986947, 1082185, 820165, 1127831, 981760]   \n",
       "1   [862139, 833715, 951590, 6534178, 910032]   \n",
       "2  [1082185, 866227, 860776, 1127831, 878996]   \n",
       "\n",
       "                                      45_0.001  \\\n",
       "0   [820165, 986947, 1082185, 866227, 1127831]   \n",
       "1   [1013321, 938700, 951590, 852864, 1022003]   \n",
       "2  [1082185, 1024306, 1127831, 878996, 860776]   \n",
       "\n",
       "                                      45_0.01  \\\n",
       "0   [1082185, 995242, 986947, 866227, 907014]   \n",
       "1  [844165, 929668, 938700, 1022003, 1092026]   \n",
       "2  [1082185, 878996, 911878, 820165, 1024306]   \n",
       "\n",
       "                                        45_0.1  \\\n",
       "0    [820165, 1082185, 866227, 986947, 995242]   \n",
       "1    [938700, 889774, 852864, 910032, 1022003]   \n",
       "2  [1082185, 1024306, 1127831, 878996, 860776]   \n",
       "\n",
       "                                          45_1  ...  \\\n",
       "0   [1082185, 820165, 1127831, 986947, 981760]  ...   \n",
       "1  [938700, 1022003, 6534178, 822407, 1013321]  ...   \n",
       "2  [1082185, 1024306, 878996, 1127831, 820165]  ...   \n",
       "\n",
       "                                        55_0.1  \\\n",
       "0   [866227, 1005186, 1082185, 820165, 986947]   \n",
       "1   [938700, 1055863, 910032, 1133018, 951590]   \n",
       "2  [1082185, 878996, 1127831, 1024306, 860776]   \n",
       "\n",
       "                                           55_1  \\\n",
       "0    [1082185, 995242, 1127831, 820165, 986947]   \n",
       "1  [1022003, 9526563, 1055863, 938700, 6534178]   \n",
       "2    [1082185, 820165, 1127831, 878996, 860776]   \n",
       "\n",
       "                                       80_0.001  \\\n",
       "0     [820165, 995242, 986947, 866227, 1082185]   \n",
       "1  [1106523, 1133018, 1022003, 938700, 9337581]   \n",
       "2   [878996, 1024306, 1127831, 1082185, 968215]   \n",
       "\n",
       "                                       80_0.01  \\\n",
       "0   [1082185, 820165, 986947, 1095275, 866227]   \n",
       "1   [1022003, 951590, 938700, 1044078, 914190]   \n",
       "2  [1082185, 1127831, 878996, 866211, 1024306]   \n",
       "\n",
       "                                         80_0.1  \\\n",
       "0   [820165, 1082185, 986947, 1005186, 1127831]   \n",
       "1  [1106523, 1133018, 951590, 9337581, 1022003]   \n",
       "2   [1082185, 878996, 1127831, 1024306, 866211]   \n",
       "\n",
       "                                           80_1  \\\n",
       "0    [820165, 1082185, 986947, 866227, 1127831]   \n",
       "1  [938700, 1106523, 1133018, 8090521, 1022003]   \n",
       "2   [1082185, 820165, 1127831, 878996, 1007195]   \n",
       "\n",
       "                                     100_0.001  \\\n",
       "0    [820165, 995242, 986947, 1082185, 907014]   \n",
       "1   [9337581, 951590, 1022003, 910032, 938700]   \n",
       "2  [1082185, 1024306, 1127831, 878996, 866211]   \n",
       "\n",
       "                                      100_0.01  \\\n",
       "0    [820165, 986947, 1082185, 995242, 866227]   \n",
       "1  [1022003, 910032, 938700, 1106523, 1044078]   \n",
       "2   [1082185, 1127831, 878996, 981760, 834484]   \n",
       "\n",
       "                                       100_0.1  \\\n",
       "0    [986947, 820165, 995242, 866227, 1082185]   \n",
       "1  [1133018, 1106523, 938700, 1022003, 910032]   \n",
       "2    [1082185, 878996, 820165, 981760, 994928]   \n",
       "\n",
       "                                          100_1  \n",
       "0     [820165, 986947, 866227, 907014, 1082185]  \n",
       "1  [1133018, 938700, 1106523, 1044078, 1022003]  \n",
       "2   [878996, 1082185, 860776, 1024306, 1127831]  \n",
       "\n",
       "[3 rows x 22 columns]"
      ]
     },
     "execution_count": 150,
     "metadata": {},
     "output_type": "execute_result"
    }
   ],
   "source": [
    "result.head(3)"
   ]
  },
  {
   "cell_type": "code",
   "execution_count": 152,
   "metadata": {},
   "outputs": [],
   "source": [
    "# посчитаем точность для каждого из полученных предсказаний\n",
    "precision = dict()\n",
    "for factor in factors:\n",
    "    for lambda_ in regularization:\n",
    "        precision[f'{factor}_{lambda_}'] = \\\n",
    "                  result.apply(lambda row: precision_at_k(row[f'{factor}_{lambda_}'], row['actual']), axis=1).mean()"
   ]
  },
  {
   "cell_type": "code",
   "execution_count": 154,
   "metadata": {},
   "outputs": [
    {
     "data": {
      "image/png": "[encoded data removed]",
      "text/plain": [
       "<Figure size 1440x576 with 1 Axes>"
      ]
     },
     "metadata": {
      "needs_background": "light"
     },
     "output_type": "display_data"
    }
   ],
   "source": [
    "labels = list(precision.keys())\n",
    "values = list(precision.values())        \n",
    "\n",
    "plt.figure(figsize=(20, 8))\n",
    "plt.title('Качество обучения')\n",
    "plt.xlabel('значения параметров')\n",
    "plt.ylabel('качество')\n",
    "plt.plot(labels, values, 'b')\n",
    "plt.plot(labels, values, 'ro')\n",
    "plt.show()"
   ]
  },
  {
   "cell_type": "markdown",
   "metadata": {},
   "source": [
    "**P.S.** Не пишите отписки в качестве выводов. Мне интресены Ваши рассуждения, трудности, с которыми Вы сталкнулись и что-то, что Вас удивило. Если выводы контринтуитивны - напишите об этом, в этом нет ничего страшного!"
   ]
  },
  {
   "cell_type": "markdown",
   "metadata": {},
   "source": [
    "Время обучения растет с ростом количества факторов. Для каждого значения фактора имеем всплеск увеличения скорости при лямбда равном 0,001. Высокие значения точности также имеем при лямбда равном 0,001 для количества факторов 35, 45, 55. Для количества факторов 80 и 100 имеем переобучение (лямбда смещается в 0,1 и 1 для максимальных значений).  "
   ]
  },
  {
   "cell_type": "code",
   "execution_count": 159,
   "metadata": {},
   "outputs": [
    {
     "data": {
      "text/plain": [
       "0.1929480901077348"
      ]
     },
     "execution_count": 159,
     "metadata": {},
     "output_type": "execute_result"
    }
   ],
   "source": [
    "#максимальное значение точности достигаем при lambda=0.001  и количестве факторов равном 45\n",
    "precision['45_0.001']"
   ]
  }
 ],
 "metadata": {
  "colab": {
   "name": "HW_3_tasks.ipynb",
   "provenance": []
  },
  "kernelspec": {
   "display_name": "Python 3",
   "language": "python",
   "name": "python3"
  },
  "language_info": {
   "codemirror_mode": {
    "name": "ipython",
    "version": 3
   },
   "file_extension": ".py",
   "mimetype": "text/x-python",
   "name": "python",
   "nbconvert_exporter": "python",
   "pygments_lexer": "ipython3",
   "version": "3.8.5"
  }
 },
 "nbformat": 4,
 "nbformat_minor": 1
}
