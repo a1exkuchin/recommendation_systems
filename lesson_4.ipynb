{
 "cells": [
  {
   "cell_type": "markdown",
   "metadata": {},
   "source": [
    "# Проверка работы функций из src.utills и src.recommender"
   ]
  },
  {
   "cell_type": "code",
   "execution_count": 1,
   "metadata": {},
   "outputs": [],
   "source": [
    "import pandas as pd\n",
    "import numpy as np\n",
    "import warnings\n",
    "warnings.filterwarnings('ignore')\n",
    "\n",
    "# Для работы с матрицами\n",
    "from scipy.sparse import csr_matrix\n",
    "\n",
    "# Матричная факторизация\n",
    "from implicit.als import AlternatingLeastSquares\n",
    "from implicit.nearest_neighbours import bm25_weight, tfidf_weight\n",
    "\n",
    "from implicit.nearest_neighbours import ItemItemRecommender "
   ]
  },
  {
   "cell_type": "code",
   "execution_count": 11,
   "metadata": {},
   "outputs": [],
   "source": [
    "# импорт модулей src.utils и src.recommenders\n",
    "\n",
    "from src.utils import precision_at_k, prefilter_items, postfilter_items, popular_items, gen_dicts\n",
    "from src.utils import get_similar_items_recommendation, get_similar_users_recommendation"
   ]
  },
  {
   "cell_type": "markdown",
   "metadata": {},
   "source": [
    "###  Проверка работы get_similar_items_recommendation\n",
    "Берем топ-5 популярных покупок юзера --> находим по 1 наиболее близкому товару для них --> рекомендуем"
   ]
  },
  {
   "cell_type": "code",
   "execution_count": 3,
   "metadata": {},
   "outputs": [],
   "source": [
    "# читаем данные из файла\n",
    "data = pd.read_csv('transaction_data.csv')\n",
    "\n",
    "# приводим названия столбцов к нижнему регистру и переименовываем два столбца\n",
    "data.columns = [col.lower() for col in data.columns]\n",
    "data.rename(columns={'household_key': 'user_id',\n",
    "                    'product_id': 'item_id'},\n",
    "           inplace=True)\n",
    "\n",
    "test_size_weeks = 3\n",
    "# делим выборку на train и test\n",
    "data_train = data[data['week_no'] < data['week_no'].max() - test_size_weeks]\n",
    "data_test = data[data['week_no'] >= data['week_no'].max() - test_size_weeks]\n",
    "\n",
    "# в тестовых данных для каждого пользователя находим список купленных товаров\n",
    "result = data_test.groupby('user_id')['item_id'].unique().reset_index()\n",
    "result.columns=['user_id', 'actual']\n",
    "\n",
    "# в обучающей выборке берем только 5000 самых популярных товаров\n",
    "data_train = popular_items(data=data_train)"
   ]
  },
  {
   "cell_type": "code",
   "execution_count": 4,
   "metadata": {},
   "outputs": [],
   "source": [
    "# строим матрицу c_ui\n",
    "user_item_matrix = pd.pivot_table(data_train, \n",
    "                                  index='user_id', columns='item_id', \n",
    "                                  values='quantity', \n",
    "                                  aggfunc='count', \n",
    "                                  fill_value=0\n",
    "                                 )\n",
    "\n",
    "user_item_matrix = user_item_matrix.astype(float) # необходимый тип матрицы для implicit\n",
    "c_ui = user_item_matrix \n",
    "user_item_matrix = bm25_weight(user_item_matrix.T).T  # применям к c_ui матрице bm25 веса "
   ]
  },
  {
   "cell_type": "code",
   "execution_count": 5,
   "metadata": {},
   "outputs": [
    {
     "name": "stderr",
     "output_type": "stream",
     "text": [
      "WARNING:root:Intel MKL BLAS detected. Its highly recommend to set the environment variable 'export MKL_NUM_THREADS=1' to disable its internal multithreading\n"
     ]
    },
    {
     "data": {
      "application/vnd.jupyter.widget-view+json": {
       "model_id": "156e99f745ad4153996f79f9e195b516",
       "version_major": 2,
       "version_minor": 0
      },
      "text/plain": [
       "HBox(children=(HTML(value=''), FloatProgress(value=0.0, max=15.0), HTML(value='')))"
      ]
     },
     "metadata": {},
     "output_type": "display_data"
    },
    {
     "name": "stdout",
     "output_type": "stream",
     "text": [
      "\n",
      "Wall time: 1.18 s\n"
     ]
    }
   ],
   "source": [
    "%%time\n",
    "\n",
    "# обучаем ALS модель на матрице c_ui\n",
    "model = AlternatingLeastSquares(factors=20, \n",
    "                                regularization=0.001,\n",
    "                                iterations=15, \n",
    "                                calculate_training_loss=True, \n",
    "                                use_gpu=False)\n",
    "\n",
    "model.fit(csr_matrix(user_item_matrix).T.tocsr(),  # На вход item-user matrix\n",
    "                              show_progress=True)"
   ]
  },
  {
   "cell_type": "code",
   "execution_count": 6,
   "metadata": {},
   "outputs": [],
   "source": [
    "# делаем предсказание с помощью построенной модели для каждого пользователя\n",
    "res = get_similar_items_recommendation(model, data_train, c_ui, N=5)"
   ]
  },
  {
   "cell_type": "code",
   "execution_count": 7,
   "metadata": {},
   "outputs": [
    {
     "data": {
      "text/html": [
       "<div>\n",
       "<style scoped>\n",
       "    .dataframe tbody tr th:only-of-type {\n",
       "        vertical-align: middle;\n",
       "    }\n",
       "\n",
       "    .dataframe tbody tr th {\n",
       "        vertical-align: top;\n",
       "    }\n",
       "\n",
       "    .dataframe thead th {\n",
       "        text-align: right;\n",
       "    }\n",
       "</style>\n",
       "<table border=\"1\" class=\"dataframe\">\n",
       "  <thead>\n",
       "    <tr style=\"text-align: right;\">\n",
       "      <th></th>\n",
       "      <th>user_id</th>\n",
       "      <th>similar_items_rec</th>\n",
       "    </tr>\n",
       "  </thead>\n",
       "  <tbody>\n",
       "    <tr>\n",
       "      <th>0</th>\n",
       "      <td>1</td>\n",
       "      <td>[980644, 824758, 1132231, 940108, 864774]</td>\n",
       "    </tr>\n",
       "    <tr>\n",
       "      <th>1</th>\n",
       "      <td>2</td>\n",
       "      <td>[850529, 960318, 1133018, 880888, 819978]</td>\n",
       "    </tr>\n",
       "    <tr>\n",
       "      <th>2</th>\n",
       "      <td>3</td>\n",
       "      <td>[1075979, 960318, 1096727, 1076875, 901543]</td>\n",
       "    </tr>\n",
       "    <tr>\n",
       "      <th>3</th>\n",
       "      <td>4</td>\n",
       "      <td>[1074754, 1084310, 945998, 1105301, 843450]</td>\n",
       "    </tr>\n",
       "    <tr>\n",
       "      <th>4</th>\n",
       "      <td>5</td>\n",
       "      <td>[1058997, 946839, 833025, 12262778, 1105301]</td>\n",
       "    </tr>\n",
       "    <tr>\n",
       "      <th>5</th>\n",
       "      <td>6</td>\n",
       "      <td>[948650, 5569845, 889731, 934639, 1037863]</td>\n",
       "    </tr>\n",
       "  </tbody>\n",
       "</table>\n",
       "</div>"
      ],
      "text/plain": [
       "   user_id                             similar_items_rec\n",
       "0        1     [980644, 824758, 1132231, 940108, 864774]\n",
       "1        2     [850529, 960318, 1133018, 880888, 819978]\n",
       "2        3   [1075979, 960318, 1096727, 1076875, 901543]\n",
       "3        4   [1074754, 1084310, 945998, 1105301, 843450]\n",
       "4        5  [1058997, 946839, 833025, 12262778, 1105301]\n",
       "5        6    [948650, 5569845, 889731, 934639, 1037863]"
      ]
     },
     "execution_count": 7,
     "metadata": {},
     "output_type": "execute_result"
    }
   ],
   "source": [
    "res.head(6)"
   ]
  },
  {
   "cell_type": "markdown",
   "metadata": {},
   "source": [
    "###  Проверка работы get_similar_users_recommendation"
   ]
  },
  {
   "cell_type": "markdown",
   "metadata": {},
   "source": [
    "Пользователь --> похожие пользователи --> рекомендовать те товары, которые купили похожие пользователи"
   ]
  },
  {
   "cell_type": "code",
   "execution_count": 8,
   "metadata": {},
   "outputs": [],
   "source": [
    "userids = c_ui.index.values\n",
    "itemids = c_ui.columns.values\n",
    "\n",
    "id_to_userid, userid_to_id = gen_dicts(userids)\n",
    "id_to_itemid, itemid_to_id = gen_dicts(itemids)"
   ]
  },
  {
   "cell_type": "code",
   "execution_count": 9,
   "metadata": {},
   "outputs": [
    {
     "data": {
      "application/vnd.jupyter.widget-view+json": {
       "model_id": "0ca4fbcdbf8349e186405ad16f99f089",
       "version_major": 2,
       "version_minor": 0
      },
      "text/plain": [
       "HBox(children=(HTML(value=''), FloatProgress(value=0.0, max=5001.0), HTML(value='')))"
      ]
     },
     "metadata": {},
     "output_type": "display_data"
    },
    {
     "name": "stdout",
     "output_type": "stream",
     "text": [
      "\n",
      "Wall time: 427 ms\n"
     ]
    }
   ],
   "source": [
    "%%time\n",
    "\n",
    "own = ItemItemRecommender(K=1, num_threads=4) # K - кол-во билжайших соседей\n",
    "\n",
    "own.fit(csr_matrix(user_item_matrix).T.tocsr(), show_progress=True)\n"
   ]
  },
  {
   "cell_type": "code",
   "execution_count": 13,
   "metadata": {},
   "outputs": [
    {
     "name": "stdout",
     "output_type": "stream",
     "text": [
      "Wall time: 0 ns\n"
     ]
    }
   ],
   "source": [
    "%%time\n",
    "# Ждем исполнения минут 30\n",
    "#res1 = get_similar_users_recommendation(own, data_train, c_ui, N=5)"
   ]
  },
  {
   "cell_type": "code",
   "execution_count": 116,
   "metadata": {},
   "outputs": [],
   "source": []
  },
  {
   "cell_type": "code",
   "execution_count": 118,
   "metadata": {},
   "outputs": [
    {
     "name": "stdout",
     "output_type": "stream",
     "text": [
      "Wall time: 40min\n"
     ]
    }
   ],
   "source": [
    "%%time\n",
    "\n",
    "def get_rec(users, model, N=2):\n",
    "    res = []\n",
    "    for user in users:\n",
    "        try:\n",
    "            res += [id_to_itemid[rec[0]] for rec in \n",
    "                    model.recommend(userid=userid_to_id[user], \n",
    "                                    user_items=csr_matrix(c_ui).tocsr(),   # на вход user-item matrix\n",
    "                                    N=N, \n",
    "                                    filter_already_liked_items=False, \n",
    "                                    filter_items=[itemid_to_id[999999]],  # фильтруем 999999\n",
    "                                    recalculate_user=True)]\n",
    "        except KeyError:\n",
    "            res = []\n",
    "    res = list(set(res))[:5]\n",
    "    return res\n",
    "\n",
    "\n",
    "\n",
    "result['rec_item'] = result['similar_users'].apply(lambda x: get_rec(x, model=own))"
   ]
  },
  {
   "cell_type": "code",
   "execution_count": 119,
   "metadata": {},
   "outputs": [
    {
     "data": {
      "text/html": [
       "<div>\n",
       "<style scoped>\n",
       "    .dataframe tbody tr th:only-of-type {\n",
       "        vertical-align: middle;\n",
       "    }\n",
       "\n",
       "    .dataframe tbody tr th {\n",
       "        vertical-align: top;\n",
       "    }\n",
       "\n",
       "    .dataframe thead th {\n",
       "        text-align: right;\n",
       "    }\n",
       "</style>\n",
       "<table border=\"1\" class=\"dataframe\">\n",
       "  <thead>\n",
       "    <tr style=\"text-align: right;\">\n",
       "      <th></th>\n",
       "      <th>user_id</th>\n",
       "      <th>item_id</th>\n",
       "      <th>similar_users</th>\n",
       "      <th>rec_item</th>\n",
       "    </tr>\n",
       "  </thead>\n",
       "  <tbody>\n",
       "    <tr>\n",
       "      <th>0</th>\n",
       "      <td>1</td>\n",
       "      <td>1625</td>\n",
       "      <td>[1899, 711, 679, 2373, 207]</td>\n",
       "      <td>[6533889, 1138189, 879504, 1037840, 1404121]</td>\n",
       "    </tr>\n",
       "    <tr>\n",
       "      <th>1</th>\n",
       "      <td>2</td>\n",
       "      <td>714</td>\n",
       "      <td>[2196, 1844, 2384, 2207, 1734]</td>\n",
       "      <td>[999104, 6533889, 819840, 885290, 1058939]</td>\n",
       "    </tr>\n",
       "    <tr>\n",
       "      <th>2</th>\n",
       "      <td>3</td>\n",
       "      <td>902</td>\n",
       "      <td>[296, 2079, 1764, 1547, 2169]</td>\n",
       "      <td>[1104224, 6533889, 6534178, 5565925, 13511722]</td>\n",
       "    </tr>\n",
       "    <tr>\n",
       "      <th>3</th>\n",
       "      <td>4</td>\n",
       "      <td>301</td>\n",
       "      <td>[1781, 661, 2382, 1826, 398]</td>\n",
       "      <td>[6533889, 1028816, 1025650, 1070803, 1138292]</td>\n",
       "    </tr>\n",
       "    <tr>\n",
       "      <th>4</th>\n",
       "      <td>5</td>\n",
       "      <td>219</td>\n",
       "      <td>[282, 22, 447, 2459, 277]</td>\n",
       "      <td>[6533889, 942088, 839849, 1056651, 1057260]</td>\n",
       "    </tr>\n",
       "    <tr>\n",
       "      <th>...</th>\n",
       "      <td>...</td>\n",
       "      <td>...</td>\n",
       "      <td>...</td>\n",
       "      <td>...</td>\n",
       "    </tr>\n",
       "    <tr>\n",
       "      <th>2495</th>\n",
       "      <td>2496</td>\n",
       "      <td>1489</td>\n",
       "      <td>[1064, 2384, 1777, 2207, 2047]</td>\n",
       "      <td>[6533889, 885290, 862349, 1126899, 915349]</td>\n",
       "    </tr>\n",
       "    <tr>\n",
       "      <th>2496</th>\n",
       "      <td>2497</td>\n",
       "      <td>1940</td>\n",
       "      <td>[2227, 160, 2483, 863, 399]</td>\n",
       "      <td>[6533889, 846241, 1075368, 917033, 5569135]</td>\n",
       "    </tr>\n",
       "    <tr>\n",
       "      <th>2497</th>\n",
       "      <td>2498</td>\n",
       "      <td>843</td>\n",
       "      <td>[792, 1888, 1072, 1233, 2274]</td>\n",
       "      <td>[6533889, 1038985, 907662, 834833, 866227]</td>\n",
       "    </tr>\n",
       "    <tr>\n",
       "      <th>2498</th>\n",
       "      <td>2499</td>\n",
       "      <td>1050</td>\n",
       "      <td>[1315, 1633, 2344, 1795, 775]</td>\n",
       "      <td>[1135681, 6533889, 890536, 1075827, 1070803]</td>\n",
       "    </tr>\n",
       "    <tr>\n",
       "      <th>2499</th>\n",
       "      <td>2500</td>\n",
       "      <td>1384</td>\n",
       "      <td>[1868, 721, 2478, 1890, 604]</td>\n",
       "      <td>[6533889, 1107553, 10285187, 7441668, 841228]</td>\n",
       "    </tr>\n",
       "  </tbody>\n",
       "</table>\n",
       "<p>2500 rows × 4 columns</p>\n",
       "</div>"
      ],
      "text/plain": [
       "      user_id  item_id                   similar_users  \\\n",
       "0           1     1625     [1899, 711, 679, 2373, 207]   \n",
       "1           2      714  [2196, 1844, 2384, 2207, 1734]   \n",
       "2           3      902   [296, 2079, 1764, 1547, 2169]   \n",
       "3           4      301    [1781, 661, 2382, 1826, 398]   \n",
       "4           5      219       [282, 22, 447, 2459, 277]   \n",
       "...       ...      ...                             ...   \n",
       "2495     2496     1489  [1064, 2384, 1777, 2207, 2047]   \n",
       "2496     2497     1940     [2227, 160, 2483, 863, 399]   \n",
       "2497     2498      843   [792, 1888, 1072, 1233, 2274]   \n",
       "2498     2499     1050   [1315, 1633, 2344, 1795, 775]   \n",
       "2499     2500     1384    [1868, 721, 2478, 1890, 604]   \n",
       "\n",
       "                                            rec_item  \n",
       "0       [6533889, 1138189, 879504, 1037840, 1404121]  \n",
       "1         [999104, 6533889, 819840, 885290, 1058939]  \n",
       "2     [1104224, 6533889, 6534178, 5565925, 13511722]  \n",
       "3      [6533889, 1028816, 1025650, 1070803, 1138292]  \n",
       "4        [6533889, 942088, 839849, 1056651, 1057260]  \n",
       "...                                              ...  \n",
       "2495      [6533889, 885290, 862349, 1126899, 915349]  \n",
       "2496     [6533889, 846241, 1075368, 917033, 5569135]  \n",
       "2497      [6533889, 1038985, 907662, 834833, 866227]  \n",
       "2498    [1135681, 6533889, 890536, 1075827, 1070803]  \n",
       "2499   [6533889, 1107553, 10285187, 7441668, 841228]  \n",
       "\n",
       "[2500 rows x 4 columns]"
      ]
     },
     "execution_count": 119,
     "metadata": {},
     "output_type": "execute_result"
    }
   ],
   "source": [
    "result"
   ]
  },
  {
   "cell_type": "code",
   "execution_count": null,
   "metadata": {},
   "outputs": [],
   "source": []
  }
 ],
 "metadata": {
  "kernelspec": {
   "display_name": "Python 3",
   "language": "python",
   "name": "python3"
  },
  "language_info": {
   "codemirror_mode": {
    "name": "ipython",
    "version": 3
   },
   "file_extension": ".py",
   "mimetype": "text/x-python",
   "name": "python",
   "nbconvert_exporter": "python",
   "pygments_lexer": "ipython3",
   "version": "3.8.5"
  }
 },
 "nbformat": 4,
 "nbformat_minor": 4
}
