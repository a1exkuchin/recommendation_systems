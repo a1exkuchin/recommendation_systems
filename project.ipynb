{
 "cells": [
  {
   "cell_type": "code",
   "execution_count": 1,
   "metadata": {},
   "outputs": [],
   "source": [
    "import warnings\n",
    "warnings.filterwarnings('ignore')\n",
    "\n",
    "import pandas as pd\n",
    "import numpy as np\n",
    "import matplotlib.pyplot as plt\n",
    "%matplotlib inline\n",
    "\n",
    "# Для работы с матрицами\n",
    "from scipy.sparse import csr_matrix\n",
    "\n",
    "# Матричная факторизация\n",
    "from implicit import als\n",
    "\n",
    "# Модель второго уровня\n",
    "from lightautoml.automl.presets.tabular_presets import TabularAutoML, TabularUtilizedAutoML\n",
    "from lightautoml.tasks import Task\n",
    "from lightautoml.tasks.common_metric import mean_quantile_error"
   ]
  },
  {
   "cell_type": "code",
   "execution_count": 2,
   "metadata": {},
   "outputs": [],
   "source": [
    "import os, sys\n",
    "module_path = os.path.abspath(os.path.join(os.pardir))\n",
    "if module_path not in sys.path:\n",
    "    sys.path.append(module_path)\n",
    "\n",
    "# Импортируем функции из src\n",
    "from src.metrics import precision_at_k, recall_at_k\n",
    "from src.utils import prefilter_items, features_generation\n",
    "from src.recommenders import MainRecommender"
   ]
  },
  {
   "cell_type": "code",
   "execution_count": 3,
   "metadata": {},
   "outputs": [
    {
     "data": {
      "text/html": [
       "<div>\n",
       "<style scoped>\n",
       "    .dataframe tbody tr th:only-of-type {\n",
       "        vertical-align: middle;\n",
       "    }\n",
       "\n",
       "    .dataframe tbody tr th {\n",
       "        vertical-align: top;\n",
       "    }\n",
       "\n",
       "    .dataframe thead th {\n",
       "        text-align: right;\n",
       "    }\n",
       "</style>\n",
       "<table border=\"1\" class=\"dataframe\">\n",
       "  <thead>\n",
       "    <tr style=\"text-align: right;\">\n",
       "      <th></th>\n",
       "      <th>user_id</th>\n",
       "      <th>basket_id</th>\n",
       "      <th>day</th>\n",
       "      <th>item_id</th>\n",
       "      <th>quantity</th>\n",
       "      <th>sales_value</th>\n",
       "      <th>store_id</th>\n",
       "      <th>retail_disc</th>\n",
       "      <th>trans_time</th>\n",
       "      <th>week_no</th>\n",
       "      <th>coupon_disc</th>\n",
       "      <th>coupon_match_disc</th>\n",
       "    </tr>\n",
       "  </thead>\n",
       "  <tbody>\n",
       "    <tr>\n",
       "      <th>2277416</th>\n",
       "      <td>338</td>\n",
       "      <td>41260573635</td>\n",
       "      <td>636</td>\n",
       "      <td>840173</td>\n",
       "      <td>1</td>\n",
       "      <td>1.99</td>\n",
       "      <td>369</td>\n",
       "      <td>0.0</td>\n",
       "      <td>112</td>\n",
       "      <td>92</td>\n",
       "      <td>0.0</td>\n",
       "      <td>0.0</td>\n",
       "    </tr>\n",
       "    <tr>\n",
       "      <th>2277417</th>\n",
       "      <td>338</td>\n",
       "      <td>41260573635</td>\n",
       "      <td>636</td>\n",
       "      <td>1037348</td>\n",
       "      <td>1</td>\n",
       "      <td>0.89</td>\n",
       "      <td>369</td>\n",
       "      <td>-0.3</td>\n",
       "      <td>112</td>\n",
       "      <td>92</td>\n",
       "      <td>0.0</td>\n",
       "      <td>0.0</td>\n",
       "    </tr>\n",
       "  </tbody>\n",
       "</table>\n",
       "</div>"
      ],
      "text/plain": [
       "         user_id    basket_id  day  item_id  quantity  sales_value  store_id  \\\n",
       "2277416      338  41260573635  636   840173         1         1.99       369   \n",
       "2277417      338  41260573635  636  1037348         1         0.89       369   \n",
       "\n",
       "         retail_disc  trans_time  week_no  coupon_disc  coupon_match_disc  \n",
       "2277416          0.0         112       92          0.0                0.0  \n",
       "2277417         -0.3         112       92          0.0                0.0  "
      ]
     },
     "execution_count": 3,
     "metadata": {},
     "output_type": "execute_result"
    }
   ],
   "source": [
    "data = pd.read_csv('retail_train.csv')\n",
    "item_features = pd.read_csv('product.csv')\n",
    "user_features = pd.read_csv('hh_demographic.csv')\n",
    "\n",
    "# column processing\n",
    "item_features.columns = [col.lower() for col in item_features.columns]\n",
    "user_features.columns = [col.lower() for col in user_features.columns]\n",
    "\n",
    "item_features.rename(columns={'product_id': 'item_id'}, inplace=True)\n",
    "user_features.rename(columns={'household_key': 'user_id'}, inplace=True)\n",
    "\n",
    "\n",
    "# Важна схема обучения и валидации!\n",
    "# -- давние покупки -- | -- 6 недель -- | -- 3 недель -- \n",
    "# подобрать размер 2-ого датасета (6 недель) --> learning curve (зависимость метрики recall@k от размера датасета)\n",
    "val_lvl_1_size_weeks = 6\n",
    "val_lvl_2_size_weeks = 3\n",
    "\n",
    "data_train_lvl_1 = data[data['week_no'] < data['week_no'].max() - (val_lvl_1_size_weeks + val_lvl_2_size_weeks)]\n",
    "data_val_lvl_1 = data[(data['week_no'] >= data['week_no'].max() - (val_lvl_1_size_weeks + val_lvl_2_size_weeks)) &\n",
    "                      (data['week_no'] < data['week_no'].max() - (val_lvl_2_size_weeks))]\n",
    "\n",
    "data_train_lvl_2 = data_val_lvl_1.copy()  # Для наглядности. Далее мы добавим изменения, и они будут отличаться\n",
    "data_val_lvl_2 = data[data['week_no'] >= data['week_no'].max() - val_lvl_2_size_weeks]\n",
    "\n",
    "data_val_lvl_2.head(2)"
   ]
  },
  {
   "cell_type": "code",
   "execution_count": 4,
   "metadata": {},
   "outputs": [
    {
     "name": "stdout",
     "output_type": "stream",
     "text": [
      "Decreased # items from 83685 to 5001\n"
     ]
    }
   ],
   "source": [
    "n_items_before = data_train_lvl_1['item_id'].nunique()\n",
    "\n",
    "data_train_lvl_1 = prefilter_items(data_train_lvl_1, item_features=item_features, take_n_popular=5000)\n",
    "\n",
    "n_items_after = data_train_lvl_1['item_id'].nunique()\n",
    "print('Decreased # items from {} to {}'.format(n_items_before, n_items_after))"
   ]
  },
  {
   "cell_type": "code",
   "execution_count": 5,
   "metadata": {},
   "outputs": [
    {
     "name": "stderr",
     "output_type": "stream",
     "text": [
      "WARNING:root:OpenBLAS detected. Its highly recommend to set the environment variable 'export OPENBLAS_NUM_THREADS=1' to disable its internal multithreading\n"
     ]
    },
    {
     "data": {
      "application/vnd.jupyter.widget-view+json": {
       "model_id": "b10b831b6d7541e1be449c9d23d0bdc1",
       "version_major": 2,
       "version_minor": 0
      },
      "text/plain": [
       "HBox(children=(HTML(value=''), FloatProgress(value=0.0, max=15.0), HTML(value='')))"
      ]
     },
     "metadata": {},
     "output_type": "display_data"
    },
    {
     "name": "stdout",
     "output_type": "stream",
     "text": [
      "\n"
     ]
    },
    {
     "data": {
      "application/vnd.jupyter.widget-view+json": {
       "model_id": "4c8751a1f4a04361ab0830ca8046f59f",
       "version_major": 2,
       "version_minor": 0
      },
      "text/plain": [
       "HBox(children=(HTML(value=''), FloatProgress(value=0.0, max=5001.0), HTML(value='')))"
      ]
     },
     "metadata": {},
     "output_type": "display_data"
    },
    {
     "name": "stdout",
     "output_type": "stream",
     "text": [
      "\n"
     ]
    }
   ],
   "source": [
    "recommender = MainRecommender(data_train_lvl_1)"
   ]
  },
  {
   "cell_type": "code",
   "execution_count": 7,
   "metadata": {},
   "outputs": [],
   "source": [
    "users_lvl_2 = pd.DataFrame(data_train_lvl_2['user_id'].unique())\n",
    "users_lvl_2.columns = ['user_id']\n",
    "\n",
    "# Первый уровень модели.\n",
    "# Генерируем кандидатов с помощью als recommendation\n",
    "train_users = data_train_lvl_1['user_id'].unique()\n",
    "users_lvl_2 = users_lvl_2[users_lvl_2['user_id'].isin(train_users)]\n",
    "\n",
    "users_lvl_2['candidates'] = users_lvl_2['user_id'].apply(lambda x: recommender.get_als_recommendations(x, N=50))"
   ]
  },
  {
   "cell_type": "code",
   "execution_count": 8,
   "metadata": {},
   "outputs": [
    {
     "data": {
      "text/html": [
       "<div>\n",
       "<style scoped>\n",
       "    .dataframe tbody tr th:only-of-type {\n",
       "        vertical-align: middle;\n",
       "    }\n",
       "\n",
       "    .dataframe tbody tr th {\n",
       "        vertical-align: top;\n",
       "    }\n",
       "\n",
       "    .dataframe thead th {\n",
       "        text-align: right;\n",
       "    }\n",
       "</style>\n",
       "<table border=\"1\" class=\"dataframe\">\n",
       "  <thead>\n",
       "    <tr style=\"text-align: right;\">\n",
       "      <th></th>\n",
       "      <th>user_id</th>\n",
       "      <th>candidates</th>\n",
       "    </tr>\n",
       "  </thead>\n",
       "  <tbody>\n",
       "    <tr>\n",
       "      <th>0</th>\n",
       "      <td>2070</td>\n",
       "      <td>[5569230, 5569471, 1008814, 5569374, 878442, 9...</td>\n",
       "    </tr>\n",
       "    <tr>\n",
       "      <th>1</th>\n",
       "      <td>2021</td>\n",
       "      <td>[1044078, 1106523, 844179, 819255, 899624, 999...</td>\n",
       "    </tr>\n",
       "    <tr>\n",
       "      <th>2</th>\n",
       "      <td>1753</td>\n",
       "      <td>[1029743, 883202, 906883, 963686, 891134, 8956...</td>\n",
       "    </tr>\n",
       "    <tr>\n",
       "      <th>3</th>\n",
       "      <td>2120</td>\n",
       "      <td>[1106523, 8090537, 1044078, 8090521, 1029743, ...</td>\n",
       "    </tr>\n",
       "  </tbody>\n",
       "</table>\n",
       "</div>"
      ],
      "text/plain": [
       "   user_id                                         candidates\n",
       "0     2070  [5569230, 5569471, 1008814, 5569374, 878442, 9...\n",
       "1     2021  [1044078, 1106523, 844179, 819255, 899624, 999...\n",
       "2     1753  [1029743, 883202, 906883, 963686, 891134, 8956...\n",
       "3     2120  [1106523, 8090537, 1044078, 8090521, 1029743, ..."
      ]
     },
     "execution_count": 8,
     "metadata": {},
     "output_type": "execute_result"
    }
   ],
   "source": [
    "users_lvl_2.head(4)"
   ]
  },
  {
   "cell_type": "code",
   "execution_count": 9,
   "metadata": {},
   "outputs": [],
   "source": [
    "# Вытягиваем строки кандидатов в столбец\n",
    "s = users_lvl_2.apply(lambda x: pd.Series(x['candidates']), axis=1).stack().reset_index(level=1, drop=True)\n",
    "s.name = 'item_id'\n",
    "users_lvl_2 = users_lvl_2.drop('candidates', axis=1).join(s)\n",
    "\n",
    "# Размечаем обучающую выборку на основе данных о покупках data_train_lvl_2\n",
    "targets_lvl_2 = data_train_lvl_2.copy()\n",
    "targets_lvl_2['target'] = 1  # тут только покупки \n",
    "\n",
    "targets_lvl_2 = users_lvl_2.merge(targets_lvl_2, on=['user_id', 'item_id'], how='left')\n",
    "targets_lvl_2['target'].fillna(0, inplace= True)"
   ]
  },
  {
   "cell_type": "code",
   "execution_count": 10,
   "metadata": {},
   "outputs": [
    {
     "data": {
      "text/plain": [
       "0.0    103048\n",
       "1.0      6557\n",
       "Name: target, dtype: int64"
      ]
     },
     "execution_count": 10,
     "metadata": {},
     "output_type": "execute_result"
    }
   ],
   "source": [
    "targets_lvl_2['target'].value_counts()"
   ]
  },
  {
   "cell_type": "code",
   "execution_count": 11,
   "metadata": {},
   "outputs": [
    {
     "data": {
      "text/plain": [
       "0.0598239131426486"
      ]
     },
     "execution_count": 11,
     "metadata": {},
     "output_type": "execute_result"
    }
   ],
   "source": [
    "targets_lvl_2['target'].mean()"
   ]
  },
  {
   "cell_type": "code",
   "execution_count": 12,
   "metadata": {},
   "outputs": [],
   "source": [
    "# добавляем item_features и user_features\n",
    "targets_lvl_2 = targets_lvl_2.merge(item_features, on='item_id', how='left')\n",
    "targets_lvl_2 = targets_lvl_2.merge(user_features, on='user_id', how='left')\n",
    "\n",
    "data_val_lvl_2 = data_val_lvl_2.merge(item_features, on='item_id', how='left')\n",
    "data_val_lvl_2 = data_val_lvl_2.merge(user_features, on='user_id', how='left')"
   ]
  },
  {
   "cell_type": "code",
   "execution_count": 13,
   "metadata": {},
   "outputs": [],
   "source": [
    "# создаем и добавляем дополнительные признаки на основе агрегатных функций\n",
    "data_train = data_train_lvl_2.merge(item_features, on='item_id', how='left')\n",
    "data_train = data_train.merge(user_features, on='user_id', how='left')\n",
    "\n",
    "targets_lvl_2 = features_generation(data_train, targets_lvl_2)\n",
    "data_val_lvl_2 = features_generation(data_val_lvl_2, data_val_lvl_2)"
   ]
  },
  {
   "cell_type": "code",
   "execution_count": 14,
   "metadata": {},
   "outputs": [
    {
     "name": "stdout",
     "output_type": "stream",
     "text": [
      "<class 'pandas.core.frame.DataFrame'>\n",
      "Int64Index: 101319 entries, 0 to 101318\n",
      "Data columns (total 30 columns):\n",
      " #   Column                  Non-Null Count   Dtype  \n",
      "---  ------                  --------------   -----  \n",
      " 0   user_id                 101319 non-null  int64  \n",
      " 1   item_id                 101319 non-null  int64  \n",
      " 2   basket_id               6557 non-null    float64\n",
      " 3   day                     6557 non-null    float64\n",
      " 4   quantity                6557 non-null    float64\n",
      " 5   sales_value             6557 non-null    float64\n",
      " 6   store_id                6557 non-null    float64\n",
      " 7   retail_disc             6557 non-null    float64\n",
      " 8   trans_time              6557 non-null    float64\n",
      " 9   week_no                 6557 non-null    float64\n",
      " 10  coupon_disc             6557 non-null    float64\n",
      " 11  coupon_match_disc       6557 non-null    float64\n",
      " 12  target                  101319 non-null  float64\n",
      " 13  manufacturer            101319 non-null  int64  \n",
      " 14  department              101319 non-null  object \n",
      " 15  brand                   101319 non-null  object \n",
      " 16  commodity_desc          101319 non-null  object \n",
      " 17  sub_commodity_desc      101319 non-null  object \n",
      " 18  curr_size_of_product    101319 non-null  object \n",
      " 19  age_desc                37809 non-null   object \n",
      " 20  marital_status_code     37809 non-null   object \n",
      " 21  income_desc             37809 non-null   object \n",
      " 22  homeowner_desc          37809 non-null   object \n",
      " 23  hh_comp_desc            37809 non-null   object \n",
      " 24  household_size_desc     37809 non-null   object \n",
      " 25  kid_category_desc       37809 non-null   object \n",
      " 26  mean_item_count_by_dep  101319 non-null  int64  \n",
      " 27  mean_sales              101319 non-null  float64\n",
      " 28  week_mean_count_by_dep  101319 non-null  float64\n",
      " 29  mean_count_by_dep       101319 non-null  float64\n",
      "dtypes: float64(14), int64(4), object(12)\n",
      "memory usage: 24.0+ MB\n"
     ]
    }
   ],
   "source": [
    "# создаем тестовую и обучающую выборки\n",
    "X_train = targets_lvl_2\n",
    "X_test = data_val_lvl_2.drop(columns=['user_id', 'item_id'])\n",
    "\n",
    "X_train.info()"
   ]
  },
  {
   "cell_type": "code",
   "execution_count": 15,
   "metadata": {},
   "outputs": [],
   "source": [
    "# Модель второго уровня light Auto ML\n",
    "\n",
    "TASK = Task('reg', loss='mse', metric=mean_quantile_error, greater_is_better=False)\n",
    "TIMEOUT = 300000\n",
    "N_THREADS = 4\n",
    "N_FOLDS = 5\n",
    "RANDOM_STATE = 42\n",
    "TARGET_NAME = 'target'\n",
    "TEST_SIZE=0.2\n",
    "\n",
    "roles = {'target': TARGET_NAME, 'drop': ['user_id', 'item_id']}\n",
    "\n",
    "automl_model = TabularAutoML(task=TASK,\n",
    "                            timeout=TIMEOUT,\n",
    "                            cpu_limit = N_THREADS,\n",
    "                            gpu_ids='all',\n",
    "                            reader_params = {'n_jobs': N_THREADS, 'cv': N_FOLDS, 'random_state': RANDOM_STATE},\n",
    "                             \n",
    "                            general_params={'use_algos': [ ['lgb_tuned', 'cb_tuned', 'cb', 'lgb'], ['lgb_tuned', 'cb'] ]},\n",
    "                             \n",
    "                            tuning_params={'max_tuning_iter': 10},\n",
    "                      )"
   ]
  },
  {
   "cell_type": "code",
   "execution_count": 16,
   "metadata": {},
   "outputs": [
    {
     "name": "stderr",
     "output_type": "stream",
     "text": [
      "INFO:optuna.storages._in_memory:A new study created in memory with name: no-name-a550da2d-fba2-48a3-b06c-bbed0c63d2f1\n",
      "INFO:optuna.study.study:Trial 0 finished with value: -1.3723641602936601e-05 and parameters: {'feature_fraction': 0.6872700594236812, 'num_leaves': 244}. Best is trial 0 with value: -1.3723641602936601e-05.\n",
      "INFO:optuna.study.study:Trial 1 finished with value: -1.3723641602936601e-05 and parameters: {'feature_fraction': 0.8659969709057025, 'num_leaves': 159}. Best is trial 0 with value: -1.3723641602936601e-05.\n",
      "INFO:optuna.study.study:Trial 2 finished with value: -1.3723641602936601e-05 and parameters: {'feature_fraction': 0.5780093202212182, 'num_leaves': 53}. Best is trial 0 with value: -1.3723641602936601e-05.\n",
      "INFO:optuna.study.study:Trial 3 finished with value: -1.3723641602936601e-05 and parameters: {'feature_fraction': 0.5290418060840998, 'num_leaves': 223}. Best is trial 0 with value: -1.3723641602936601e-05.\n",
      "INFO:optuna.study.study:Trial 4 finished with value: -1.3723641602936601e-05 and parameters: {'feature_fraction': 0.8005575058716043, 'num_leaves': 185}. Best is trial 0 with value: -1.3723641602936601e-05.\n",
      "INFO:optuna.study.study:Trial 5 finished with value: -1.3723641602936601e-05 and parameters: {'feature_fraction': 0.5102922471479012, 'num_leaves': 248}. Best is trial 0 with value: -1.3723641602936601e-05.\n",
      "INFO:optuna.study.study:Trial 6 finished with value: -1.3723641602936601e-05 and parameters: {'feature_fraction': 0.9162213204002109, 'num_leaves': 66}. Best is trial 0 with value: -1.3723641602936601e-05.\n",
      "INFO:optuna.study.study:Trial 7 finished with value: -1.3723641602936601e-05 and parameters: {'feature_fraction': 0.5909124836035503, 'num_leaves': 60}. Best is trial 0 with value: -1.3723641602936601e-05.\n",
      "INFO:optuna.study.study:Trial 8 finished with value: -1.3723641602936601e-05 and parameters: {'feature_fraction': 0.6521211214797689, 'num_leaves': 141}. Best is trial 0 with value: -1.3723641602936601e-05.\n",
      "INFO:optuna.study.study:Trial 9 finished with value: -1.3723641602936601e-05 and parameters: {'feature_fraction': 0.7159725093210578, 'num_leaves': 85}. Best is trial 0 with value: -1.3723641602936601e-05.\n",
      "INFO:optuna.storages._in_memory:A new study created in memory with name: no-name-cb6513f3-2010-4bf1-9843-a317078649bb\n",
      "INFO:optuna.study.study:Trial 0 finished with value: -9.315375878466133e-07 and parameters: {'max_depth': 4, 'nan_mode': 'Max'}. Best is trial 0 with value: -9.315375878466133e-07.\n",
      "INFO:optuna.study.study:Trial 1 finished with value: -3.4183854760665497e-06 and parameters: {'max_depth': 5, 'nan_mode': 'Max'}. Best is trial 0 with value: -9.315375878466133e-07.\n",
      "INFO:optuna.study.study:Trial 2 finished with value: -1.5877325368381661e-06 and parameters: {'max_depth': 3, 'nan_mode': 'Max'}. Best is trial 0 with value: -9.315375878466133e-07.\n",
      "INFO:optuna.study.study:Trial 3 finished with value: -1.7744454927491534e-06 and parameters: {'max_depth': 6, 'nan_mode': 'Min'}. Best is trial 0 with value: -9.315375878466133e-07.\n",
      "INFO:optuna.study.study:Trial 4 finished with value: -9.514876740056268e-07 and parameters: {'max_depth': 7, 'nan_mode': 'Max'}. Best is trial 0 with value: -9.315375878466133e-07.\n",
      "INFO:optuna.study.study:Trial 5 finished with value: -7.749249125445349e-07 and parameters: {'max_depth': 3, 'nan_mode': 'Min'}. Best is trial 5 with value: -7.749249125445349e-07.\n",
      "INFO:optuna.study.study:Trial 6 finished with value: -1.7693717866858198e-06 and parameters: {'max_depth': 5, 'nan_mode': 'Min'}. Best is trial 5 with value: -7.749249125445349e-07.\n",
      "INFO:optuna.study.study:Trial 7 finished with value: -7.749249125445349e-07 and parameters: {'max_depth': 3, 'nan_mode': 'Min'}. Best is trial 5 with value: -7.749249125445349e-07.\n",
      "INFO:optuna.study.study:Trial 8 finished with value: -3.4183854760665497e-06 and parameters: {'max_depth': 5, 'nan_mode': 'Max'}. Best is trial 5 with value: -7.749249125445349e-07.\n",
      "INFO:optuna.study.study:Trial 9 finished with value: -3.4183854760665497e-06 and parameters: {'max_depth': 5, 'nan_mode': 'Max'}. Best is trial 5 with value: -7.749249125445349e-07.\n",
      "INFO:optuna.storages._in_memory:A new study created in memory with name: no-name-1b46ad18-0e82-4e11-b6b9-51be9b4462bb\n",
      "INFO:optuna.study.study:Trial 0 finished with value: -1.3723641602936601e-05 and parameters: {'feature_fraction': 0.6872700594236812, 'num_leaves': 244}. Best is trial 0 with value: -1.3723641602936601e-05.\n",
      "INFO:optuna.study.study:Trial 1 finished with value: -1.3723641602936601e-05 and parameters: {'feature_fraction': 0.8659969709057025, 'num_leaves': 159}. Best is trial 0 with value: -1.3723641602936601e-05.\n",
      "INFO:optuna.study.study:Trial 2 finished with value: -1.3723641602936601e-05 and parameters: {'feature_fraction': 0.5780093202212182, 'num_leaves': 53}. Best is trial 0 with value: -1.3723641602936601e-05.\n",
      "INFO:optuna.study.study:Trial 3 finished with value: -1.3723641602936601e-05 and parameters: {'feature_fraction': 0.5290418060840998, 'num_leaves': 223}. Best is trial 0 with value: -1.3723641602936601e-05.\n",
      "INFO:optuna.study.study:Trial 4 finished with value: -1.3723641602936601e-05 and parameters: {'feature_fraction': 0.8005575058716043, 'num_leaves': 185}. Best is trial 0 with value: -1.3723641602936601e-05.\n",
      "INFO:optuna.study.study:Trial 5 finished with value: -1.3723641602936601e-05 and parameters: {'feature_fraction': 0.5102922471479012, 'num_leaves': 248}. Best is trial 0 with value: -1.3723641602936601e-05.\n",
      "INFO:optuna.study.study:Trial 6 finished with value: -1.3723641602936601e-05 and parameters: {'feature_fraction': 0.9162213204002109, 'num_leaves': 66}. Best is trial 0 with value: -1.3723641602936601e-05.\n",
      "INFO:optuna.study.study:Trial 7 finished with value: -1.3723641602936601e-05 and parameters: {'feature_fraction': 0.5909124836035503, 'num_leaves': 60}. Best is trial 0 with value: -1.3723641602936601e-05.\n",
      "INFO:optuna.study.study:Trial 8 finished with value: -1.3723641602936601e-05 and parameters: {'feature_fraction': 0.6521211214797689, 'num_leaves': 141}. Best is trial 0 with value: -1.3723641602936601e-05.\n",
      "INFO:optuna.study.study:Trial 9 finished with value: -1.3723641602936601e-05 and parameters: {'feature_fraction': 0.7159725093210578, 'num_leaves': 85}. Best is trial 0 with value: -1.3723641602936601e-05.\n"
     ]
    }
   ],
   "source": [
    "# обучаем модель второго уровня - light Auto ML \n",
    "preds = automl_model.fit_predict(X_train, roles = roles)"
   ]
  },
  {
   "cell_type": "code",
   "execution_count": 17,
   "metadata": {},
   "outputs": [],
   "source": [
    "# делаем предсказания с помощью light auto ml\n",
    "val_preds = automl_model.predict(X_test)"
   ]
  },
  {
   "cell_type": "code",
   "execution_count": 18,
   "metadata": {},
   "outputs": [],
   "source": [
    "# предсказанные покупки пользователей, отранжированные в порядке убывания вероятности \n",
    "preds = data_val_lvl_2[['user_id', 'item_id']].copy()\n",
    "preds['proba'] = val_preds.data[:, 0]\n",
    "preds = preds.groupby(['user_id', 'item_id'])['proba'].mean().reset_index()\n",
    "preds = preds.groupby('user_id').apply(lambda x: x.sort_values('proba', ascending=False)['item_id'].tolist())"
   ]
  },
  {
   "cell_type": "code",
   "execution_count": 19,
   "metadata": {},
   "outputs": [],
   "source": [
    "# функция дает N самых вероятных покупок пользователя, если значений не хватает добираем их из самых популярных\n",
    "def get_gbm_rec(user, N=5):\n",
    "    recs = preds[user][:N]\n",
    "    \n",
    "    top = data_val_lvl_2.groupby('item_id')['quantity'].mean().reset_index()\n",
    "    top.sort_values('quantity', ascending=False, inplace=True)\n",
    "    top = top['item_id'][top['item_id'] != 999999].tolist()\n",
    "      \n",
    "    if len(recs) < N:\n",
    "        recs.extend(top[:N-len(recs)])\n",
    "   \n",
    "    return recs"
   ]
  },
  {
   "cell_type": "code",
   "execution_count": 20,
   "metadata": {},
   "outputs": [],
   "source": [
    "# реальные покупки пользователей\n",
    "result_lvl_2 = data_val_lvl_2.groupby('user_id')['item_id'].unique().reset_index()\n",
    "result_lvl_2.columns=['user_id', 'actual']"
   ]
  },
  {
   "cell_type": "code",
   "execution_count": 21,
   "metadata": {},
   "outputs": [],
   "source": [
    "users_lvl_2 = pd.DataFrame(data_train_lvl_2['user_id'].unique())\n",
    "users_lvl_2.columns = ['user_id']\n",
    "\n",
    "#Заполняем для каждого пользователя предсказаниями N покупок \n",
    "train_users = data_train_lvl_1['user_id'].unique()\n",
    "users_lvl_2 = users_lvl_2[users_lvl_2['user_id'].isin(train_users)]\n",
    "\n",
    "# рекомендации двухуровневой модели\n",
    "result_lvl_2['autoML'] = result_lvl_2['user_id'].apply(lambda x: get_gbm_rec(x, N=50))"
   ]
  },
  {
   "cell_type": "code",
   "execution_count": 22,
   "metadata": {},
   "outputs": [
    {
     "data": {
      "text/html": [
       "<div>\n",
       "<style scoped>\n",
       "    .dataframe tbody tr th:only-of-type {\n",
       "        vertical-align: middle;\n",
       "    }\n",
       "\n",
       "    .dataframe tbody tr th {\n",
       "        vertical-align: top;\n",
       "    }\n",
       "\n",
       "    .dataframe thead th {\n",
       "        text-align: right;\n",
       "    }\n",
       "</style>\n",
       "<table border=\"1\" class=\"dataframe\">\n",
       "  <thead>\n",
       "    <tr style=\"text-align: right;\">\n",
       "      <th></th>\n",
       "      <th>user_id</th>\n",
       "      <th>actual</th>\n",
       "      <th>autoML</th>\n",
       "    </tr>\n",
       "  </thead>\n",
       "  <tbody>\n",
       "    <tr>\n",
       "      <th>0</th>\n",
       "      <td>1</td>\n",
       "      <td>[931860, 1049998, 15971874, 1002032, 1122428, ...</td>\n",
       "      <td>[1041796, 933913, 1122428, 1132814, 1048918, 1...</td>\n",
       "    </tr>\n",
       "    <tr>\n",
       "      <th>1</th>\n",
       "      <td>3</td>\n",
       "      <td>[13842214, 851057, 879948, 994891, 7167218, 10...</td>\n",
       "      <td>[835476, 1053690, 9526886, 9526563, 7167249, 7...</td>\n",
       "    </tr>\n",
       "    <tr>\n",
       "      <th>2</th>\n",
       "      <td>6</td>\n",
       "      <td>[1006718, 7431990, 1108624, 1020683, 1104227, ...</td>\n",
       "      <td>[820165, 6553035, 1075214, 1078346, 1099058, 1...</td>\n",
       "    </tr>\n",
       "    <tr>\n",
       "      <th>3</th>\n",
       "      <td>7</td>\n",
       "      <td>[10255525, 994994, 1056418, 5571310, 14111027,...</td>\n",
       "      <td>[822049, 6424447, 6034857, 5592931, 5592610, 5...</td>\n",
       "    </tr>\n",
       "  </tbody>\n",
       "</table>\n",
       "</div>"
      ],
      "text/plain": [
       "   user_id                                             actual  \\\n",
       "0        1  [931860, 1049998, 15971874, 1002032, 1122428, ...   \n",
       "1        3  [13842214, 851057, 879948, 994891, 7167218, 10...   \n",
       "2        6  [1006718, 7431990, 1108624, 1020683, 1104227, ...   \n",
       "3        7  [10255525, 994994, 1056418, 5571310, 14111027,...   \n",
       "\n",
       "                                              autoML  \n",
       "0  [1041796, 933913, 1122428, 1132814, 1048918, 1...  \n",
       "1  [835476, 1053690, 9526886, 9526563, 7167249, 7...  \n",
       "2  [820165, 6553035, 1075214, 1078346, 1099058, 1...  \n",
       "3  [822049, 6424447, 6034857, 5592931, 5592610, 5...  "
      ]
     },
     "execution_count": 22,
     "metadata": {},
     "output_type": "execute_result"
    }
   ],
   "source": [
    "result_lvl_2.head(4)"
   ]
  },
  {
   "cell_type": "code",
   "execution_count": 23,
   "metadata": {},
   "outputs": [
    {
     "data": {
      "text/plain": [
       "0.6499510284035249"
      ]
     },
     "execution_count": 23,
     "metadata": {},
     "output_type": "execute_result"
    }
   ],
   "source": [
    "# считаем среднее значение точности предсказания двухуровневой модели\n",
    "result_lvl_2.apply(lambda row: precision_at_k(row['autoML'], row['actual'], k=50), axis=1).mean()"
   ]
  },
  {
   "cell_type": "code",
   "execution_count": null,
   "metadata": {},
   "outputs": [],
   "source": []
  }
 ],
 "metadata": {
  "kernelspec": {
   "display_name": "Python 3",
   "language": "python",
   "name": "python3"
  },
  "language_info": {
   "codemirror_mode": {
    "name": "ipython",
    "version": 3
   },
   "file_extension": ".py",
   "mimetype": "text/x-python",
   "name": "python",
   "nbconvert_exporter": "python",
   "pygments_lexer": "ipython3",
   "version": "3.8.5"
  }
 },
 "nbformat": 4,
 "nbformat_minor": 4
}
